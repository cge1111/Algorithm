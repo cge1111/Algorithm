{
  "nbformat": 4,
  "nbformat_minor": 0,
  "metadata": {
    "colab": {
      "name": "algorithm.ipynb",
      "provenance": [],
      "collapsed_sections": [],
      "authorship_tag": "ABX9TyPNd0jAnpUn1o+/su3NXFy9",
      "include_colab_link": true
    },
    "kernelspec": {
      "name": "python3",
      "display_name": "Python 3"
    },
    "language_info": {
      "name": "python"
    }
  },
  "cells": [
    {
      "cell_type": "markdown",
      "metadata": {
        "id": "view-in-github",
        "colab_type": "text"
      },
      "source": [
        "<a href=\"https://colab.research.google.com/github/cge1111/Algorithmbasic/blob/main/algorithm.ipynb\" target=\"_parent\"><img src=\"https://colab.research.google.com/assets/colab-badge.svg\" alt=\"Open In Colab\"/></a>"
      ]
    },
    {
      "cell_type": "markdown",
      "source": [
        "# 0406\n",
        "\n",
        "## 1. stack 자료구조\n",
        "스택은 가장 나중에 들어온 자료가 가장 먼저 처리되는 LIFO(Last-In-First-Out) 자료구조이다.\n",
        "\n",
        "구멍이 하나밖에 없는 병이라고 생각하면 이해하기 쉽다. "
      ],
      "metadata": {
        "id": "VDEFUoe4ktoG"
      }
    },
    {
      "cell_type": "code",
      "execution_count": 2,
      "metadata": {
        "colab": {
          "base_uri": "https://localhost:8080/"
        },
        "id": "IBykzbfckrPf",
        "outputId": "3bf97c28-3456-45cb-a633-6af155d91f51"
      },
      "outputs": [
        {
          "output_type": "stream",
          "name": "stdout",
          "text": [
            "False\n",
            "[1, 2, 3]\n",
            "peek value: 3\n",
            "3\n",
            "2\n",
            "1\n",
            "True\n"
          ]
        }
      ],
      "source": [
        "def push(stack, element):\n",
        "  # 값 추가하는 함수 생성\n",
        "  stack.append(element)\n",
        "\n",
        "def pop(stack):\n",
        "  # 맨 뒤부터 값을 빼는 함수 생성\n",
        "  \"\"\"\n",
        "  Remove last value ever pushed\n",
        "  \"\"\"\n",
        "  return print(stack.pop())\n",
        "\n",
        "# 값을 확인하는 함수들\n",
        "def peek(stack): \n",
        "  # 값 확인하는 함수 생성\n",
        "  return print(\"peek value: {}\".format(stack[-1]))\n",
        "\n",
        "def is_empty(stack): \n",
        "  # 값이 비어있는지 확인하는 함수 생성\n",
        "  if len(stack) != 0:\n",
        "    print(False)\n",
        "  else:\n",
        "    print(True)\n",
        "\n",
        "if __name__ == '__main__':\n",
        "  # 쉘에서 파일이 실행될 때 아래의 일을 합니다.\n",
        "  # Stacking process\n",
        "  stack_1 = [] # list:collection\n",
        "  push(stack_1,1)\n",
        "  push(stack_1,2)\n",
        "  push(stack_1,3)\n",
        "\n",
        "  is_empty(stack_1)\n",
        "  print(stack_1)\n",
        "  peek(stack_1) # 3\n",
        "  \n",
        "  pop(stack_1)\n",
        "  pop(stack_1)\n",
        "  pop(stack_1)\n",
        "  is_empty(stack_1)"
      ]
    },
    {
      "cell_type": "markdown",
      "source": [
        "## 2. queue 자료구조\n",
        "큐(queue)는 선입선출, FIFO(First In First Out) 기반의 매우 유명한 자료 구조입니다. 큐를 사용하면 데이터를 추가한 순서대로 제거할 수 있기 때문에 스트리밍(streaming), 너비 우선 탐색(breath first search) 등 소프트웨어 개발에서 널리 응용"
      ],
      "metadata": {
        "id": "6uiVXc8Rk-tK"
      }
    },
    {
      "cell_type": "code",
      "source": [
        "# 선입 선출 \n",
        "# pass : 함수 설정할 때 큰 틀에서 pass 먼저 하고 디테일하게 값 선언하기\n",
        "from collections import deque\n",
        "\n",
        "\n",
        "def enqueue(queue, element):\n",
        "  \"\"\"\n",
        "  Add element at last of deque\n",
        "  \"\"\"\n",
        "  queue.append(element)\n",
        "\n",
        "def dequeue(queue):\n",
        "  \"\"\"\n",
        "  Remove element from 1st position of deque\n",
        "  \"\"\"\n",
        "  print(queue.popleft())\n",
        "\n",
        "if __name__=='__main__':\n",
        "  queue_1 = deque()\n",
        "\n",
        "  enqueue(queue_1, 1)\n",
        "  enqueue(queue_1, 2)\n",
        "  enqueue(queue_1, 3)\n",
        "\n",
        "  print(queue_1)\n",
        "\n",
        "  dequeue(queue_1)\n",
        "  dequeue(queue_1)\n",
        "  dequeue(queue_1)\n",
        "\n",
        "  print(queue_1)\n",
        "  "
      ],
      "metadata": {
        "colab": {
          "base_uri": "https://localhost:8080/"
        },
        "id": "AG_uhGxTk8A1",
        "outputId": "662a4006-8928-4956-fa02-b056cb1b2422"
      },
      "execution_count": 3,
      "outputs": [
        {
          "output_type": "stream",
          "name": "stdout",
          "text": [
            "deque([1, 2, 3])\n",
            "1\n",
            "2\n",
            "3\n",
            "deque([])\n"
          ]
        }
      ]
    },
    {
      "cell_type": "code",
      "source": [
        ""
      ],
      "metadata": {
        "id": "nVp8t-EqlJR6"
      },
      "execution_count": null,
      "outputs": []
    }
  ]
}