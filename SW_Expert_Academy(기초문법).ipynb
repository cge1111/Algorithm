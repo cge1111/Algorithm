{
  "nbformat": 4,
  "nbformat_minor": 0,
  "metadata": {
    "colab": {
      "name": "SW Expert Academy(기초문법).ipynb",
      "provenance": [],
      "authorship_tag": "ABX9TyO8D4XhShoNPldBBcT+cYP6",
      "include_colab_link": true
    },
    "kernelspec": {
      "display_name": "Python 3",
      "name": "python3"
    },
    "language_info": {
      "name": "python"
    }
  },
  "cells": [
    {
      "cell_type": "markdown",
      "metadata": {
        "id": "view-in-github",
        "colab_type": "text"
      },
      "source": [
        "<a href=\"https://colab.research.google.com/github/cge1111/Algorithmbasic/blob/main/SW_Expert_Academy(%EA%B8%B0%EC%B4%88%EB%AC%B8%EB%B2%95).ipynb\" target=\"_parent\"><img src=\"https://colab.research.google.com/assets/colab-badge.svg\" alt=\"Open In Colab\"/></a>"
      ]
    },
    {
      "cell_type": "code",
      "metadata": {
        "colab": {
          "base_uri": "https://localhost:8080/"
        },
        "id": "liB8J4E_dMtt",
        "outputId": "ef0a5dee-8003-4983-d89d-73d7797083c7"
      },
      "source": [
        "T = int(input())\n",
        "\n",
        "for i in range(T):\n",
        "  numbers = list(map(int, input().split()))\n",
        "  odd_nums = [num for num in numbers if num % 2 == 1]\n",
        "  print(\"#{} {}\".format(i, sum(odd_nums)))"
      ],
      "execution_count": null,
      "outputs": [
        {
          "name": "stdout",
          "output_type": "stream",
          "text": [
            "3\n",
            "3 17 1 39 8 41 2 32 99 2\n",
            "#0 200\n",
            "22 8 5 123 7 2 63 7 3 46\n",
            "#1 208\n",
            "6 63 2 3 58 76 21 33 8 1   \n",
            "#2 121\n"
          ]
        }
      ]
    },
    {
      "cell_type": "markdown",
      "metadata": {
        "id": "LXEsBaRY796-"
      },
      "source": [
        " \n",
        "https://mungto.tistory.com/94\n",
        "\n",
        "### https://swexpertacademy.com/main/learn/course/lectureProblemViewer.do\n",
        "\n",
        "# [파이썬 프로그래밍 기초(1) 파이썬의 기본 구조와 기초 문법] 8.\n",
        "### 함수 연습문제 1\n",
        "다음의 결과와 같이 반목문을 이용해 단어의 순서를 거꾸로 해 반환하는 함수를 작성하고\n",
        " \n",
        "\n",
        "그 함수를 이용해 회문(앞뒤 어느 쪽에서도 같은 단어, 말) 여부를 판단하는 코드를 작성하십시오."
      ]
    },
    {
      "cell_type": "code",
      "metadata": {
        "id": "FrhS9evM1sQD",
        "colab": {
          "base_uri": "https://localhost:8080/"
        },
        "outputId": "5a540a9d-c87a-4a1b-e46d-bcb3df042651"
      },
      "source": [
        "def check(n):\n",
        "  result = ''\n",
        "  for i in range(len(n)-1,-1,-1):\n",
        "    result += n[i]\n",
        "  return result\n",
        "\n",
        "t = input()\n",
        "result_str = check(t)\n",
        "print(result_str)\n",
        "\n",
        "if result_str == t:\n",
        "  print('입력하신 단어는 회문입니다.')\n",
        "else:\n",
        "  print('입력하신 단어는 회문이 아닙니다.')"
      ],
      "execution_count": null,
      "outputs": [
        {
          "output_type": "stream",
          "name": "stdout",
          "text": [
            "eye\n",
            "eye\n",
            "입력하신 단어는 회문입니다.\n"
          ]
        }
      ]
    },
    {
      "cell_type": "markdown",
      "metadata": {
        "id": "80o317_i-PNW"
      },
      "source": [
        "### 함수 연습문제 2\n",
        "\n",
        "다음과 같이 사용자 2명으로부터 가위, 바위, 보를 입력 받아\n",
        "\n",
        "가위, 바위, 보 규칙이 정의된 함수를 이용해 승패를 결정하는 코드를 작성하십시오.\n",
        "\n"
      ]
    },
    {
      "cell_type": "code",
      "metadata": {
        "colab": {
          "base_uri": "https://localhost:8080/"
        },
        "id": "XQ0FB1Mk9NGb",
        "outputId": "72c5adf9-58d3-499a-c04a-bd2e88621c9a"
      },
      "source": [
        "def n(a,b):\n",
        "  kbb = ['가위','바위','보']\n",
        "  if a == b:\n",
        "    print('비겼습니다. 다시 한번 더!')\n",
        "  elif (a == kbb[0] and b == kbb[1]) or (b == kbb[0] and a == kbb[1]):\n",
        "    print('바위가 이겼습니다!')\n",
        "  elif (a == kbb[0] and b == kbb[2]) or (b == kbb[0] and a == kbb[2]):\n",
        "    print('가위가 이겼습니다!')\n",
        "  elif (a == kbb[1] and b == kbb[2]) or (b == kbb[1] and a == kbb[2]):\n",
        "    print('보가 이겼습니다!')\n",
        "\n",
        "name1, name2 = input(),input()\n",
        "l, m = input(), input()\n",
        "n(l,m)"
      ],
      "execution_count": null,
      "outputs": [
        {
          "output_type": "stream",
          "name": "stdout",
          "text": [
            "ㅇ\n",
            "ㄱ\n",
            "가위\n",
            "바위\n",
            "바위가 이겼습니다!\n"
          ]
        }
      ]
    },
    {
      "cell_type": "markdown",
      "metadata": {
        "id": "zR-CTXo2CvAr"
      },
      "source": [
        "### 함수 연습문제 3\n",
        "소수를 검사하는 함수를 정의하고, 다음의 결과와 같이 사용자가 입력한 숫자가\n",
        " \n",
        "\n",
        "소수인지를 판단하는 프로그램을 작성하십시오.\n",
        "\n",
        "\n",
        "소수일 경우 \"소수입니다.\" 출력, 아닐 경우 \"소수가 아닙니다.\" 출력"
      ]
    },
    {
      "cell_type": "code",
      "metadata": {
        "colab": {
          "base_uri": "https://localhost:8080/"
        },
        "id": "-YKP-rsx-aSe",
        "outputId": "e0565046-42c2-4527-c8d5-010549ef029b"
      },
      "source": [
        "# 용량 큼\n",
        "n = int(input())\n",
        "b = 0\n",
        "\n",
        "for i in range(2, n):\n",
        "  if n % i == 0:\n",
        "    b=1\n",
        "    print(i)\n",
        "\n",
        "if b == 1 or a == 0 or a == 1:\n",
        "  print('소수가 아닙니다.')\n",
        "else:\n",
        "  print('소수입니다.')\n",
        "\n",
        "\n",
        "# 두번째 용량 적음\n",
        "def PrimeNumber(k):\n",
        "    if k == 1 or k == 0:\n",
        "         return False\n",
        "    for i in range (2, k):\n",
        "        if (k % i ==0):\n",
        "            return False\n",
        "    return True\n",
        " \n",
        "num = int(input())\n",
        "if PrimeNumber(num) : \n",
        "     print(\"소수입니다.\")\n",
        "else:\n",
        "     print(\"소수가 아닙니다.\")"
      ],
      "execution_count": null,
      "outputs": [
        {
          "output_type": "stream",
          "name": "stdout",
          "text": [
            "4\n",
            "2\n",
            "소수가 아닙니다.\n"
          ]
        }
      ]
    },
    {
      "cell_type": "markdown",
      "metadata": {
        "id": "rVyGlw_hN0fZ"
      },
      "source": [
        "### 함수 연습문제 4\n",
        "다음의 결과와 같이 피보나치 수열의 결과를 생성하는 프로그램을 작성하십시오."
      ]
    },
    {
      "cell_type": "code",
      "metadata": {
        "colab": {
          "base_uri": "https://localhost:8080/"
        },
        "id": "_kbMmmCZSg08",
        "outputId": "4d94e64e-605d-4918-8bd3-f80a74bd56fa"
      },
      "source": [
        "def fib(k):\n",
        "   fibo = [1]*k\n",
        "   for i in range(2 , k):\n",
        "      fibo[i] = fibo[i-1] + fibo[i-2]\n",
        "   return fibo\n",
        " \n",
        "k = int(input())\n",
        "print(fib(k))"
      ],
      "execution_count": null,
      "outputs": [
        {
          "output_type": "stream",
          "name": "stdout",
          "text": [
            "10\n",
            "[1, 1, 2, 3, 5, 8, 13, 21, 34, 55]\n"
          ]
        }
      ]
    },
    {
      "cell_type": "markdown",
      "metadata": {
        "id": "3jzVC4jCNMSC"
      },
      "source": [
        "### 함수 연습문제5\n",
        "\n",
        "리스트의 항목 중 유일한 값으로만 구성된 리스트를 반환하는 함수를 정의하고\n",
        " \n",
        "\n",
        "이 함수를 이용해 리스트의 중복 항목을 제거하는 프로그램을 작성하십시오."
      ]
    },
    {
      "cell_type": "code",
      "metadata": {
        "id": "gdf0FqktUZrG",
        "colab": {
          "base_uri": "https://localhost:8080/"
        },
        "outputId": "5f4c9541-8819-42d3-d763-c125a8eb4866"
      },
      "source": [
        "def list_to_set(k) :\n",
        "   #set의 특성을 이용하여 중복제거\n",
        "   temp = set(k)\n",
        "   #list로 재변환\n",
        "   return list(temp)\n",
        " \n",
        "k = [1,2,3,4,3,2,1]\n",
        "print(k)\n",
        "print(list_to_set(k))"
      ],
      "execution_count": null,
      "outputs": [
        {
          "output_type": "stream",
          "name": "stdout",
          "text": [
            "[1, 2, 3, 4, 3, 2, 1]\n",
            "[1, 2, 3, 4]\n"
          ]
        }
      ]
    },
    {
      "cell_type": "code",
      "metadata": {
        "colab": {
          "base_uri": "https://localhost:8080/"
        },
        "id": "H85s2p1ENUQ4",
        "outputId": "ad3467e7-6ddc-49c5-b861-bf4a6cb9220a"
      },
      "source": [
        ""
      ],
      "execution_count": null,
      "outputs": [
        {
          "output_type": "execute_result",
          "data": {
            "text/plain": [
              "[1, 2, 3, 4]"
            ]
          },
          "metadata": {},
          "execution_count": 4
        }
      ]
    },
    {
      "cell_type": "markdown",
      "metadata": {
        "id": "JdkUANpkP2NE"
      },
      "source": [
        "### 함수 연습문제6\n",
        "\n",
        "정렬된 숫자를 가진 리스트에서 특정 숫자를 찾는 함수를 정의하고,\n",
        "\n",
        "이 함수를 이용해 임의의 숫자의 포함 여부를 출력하는 프로그램을 작성하십시오."
      ]
    },
    {
      "cell_type": "code",
      "metadata": {
        "colab": {
          "base_uri": "https://localhost:8080/"
        },
        "id": "suynrUPEN4ir",
        "outputId": "bc3ff8f7-e81f-4b31-febd-e8eded1f344f"
      },
      "source": [
        "# case1\n",
        "def list_set_bool(k,t):\n",
        "  print('%d => ' %t, end = '')\n",
        "  \n",
        "  if t in k:\n",
        "    print(True)\n",
        "  else:\n",
        "    print(False)\n",
        "\n",
        "k = [2, 4, 6, 8, 10]\n",
        "print(k)\n",
        "list_set_bool(k,5)\n",
        "list_set_bool(k,6)\n",
        "\n",
        "\n",
        "# case2\n",
        "def check_for_existence(k, t):\n",
        "    \n",
        "    if k in t:\n",
        "        print('%d => True' %k)\n",
        "    else:\n",
        "        print('%d => False' %k)\n",
        "        \n",
        "t = [2, 4, 6, 8, 10]\n",
        "print(t)\n",
        "check_for_existence(5, t)\n",
        "check_for_existence(10, t)"
      ],
      "execution_count": null,
      "outputs": [
        {
          "output_type": "stream",
          "name": "stdout",
          "text": [
            "[2, 4, 6, 8, 10]\n",
            "5 => False\n",
            "6 => True\n"
          ]
        }
      ]
    },
    {
      "cell_type": "markdown",
      "metadata": {
        "id": "NNFPQua9Y0IJ"
      },
      "source": [
        "### 함수 연습문제7\n",
        "\n",
        "다음과 같이 팩토리얼을 구하는 함수를 정의해 입력된 숫자에 대한\n",
        "\n",
        "팩토리얼 값을 구하는 프로그램을 작성하십시오."
      ]
    },
    {
      "cell_type": "code",
      "metadata": {
        "id": "TuCMTfq-Yl7c",
        "colab": {
          "base_uri": "https://localhost:8080/"
        },
        "outputId": "5ac0a6c9-80ee-4566-b411-3908bde1d0ae"
      },
      "source": [
        "# case1  \n",
        "def factorial(n):\n",
        "  if n == 1:\n",
        "    return 1\n",
        "  return factorial(n-1)*n\n",
        "\n",
        "num = int(input())\n",
        "print(factorial(num))\n",
        "\n",
        "\n",
        "# case2\n",
        "def factorial(n):\n",
        "  result = 1\n",
        "  for i in range(1,n+1):\n",
        "    result *= i\n",
        "  return result\n",
        "\n",
        "num = int(input())\n",
        "print(factorial(num))"
      ],
      "execution_count": null,
      "outputs": [
        {
          "output_type": "stream",
          "name": "stdout",
          "text": [
            "3\n",
            "6\n"
          ]
        }
      ]
    },
    {
      "cell_type": "markdown",
      "metadata": {
        "id": "M3cZnSf0V2lm"
      },
      "source": [
        "### 함수 연습문제 8\n",
        "\n",
        "숫자에 대해 제곱을 구하는 함수를 정의히고, 다음과 같이 숫자를 콤마(,)로 구분해 입력하면 \n",
        "\n",
        "정의한 함수를 이용해 제곱 값을 출력하는 프로그램을 작성하십시오.\n",
        "\n",
        "[input] 2,3 \n",
        "\n",
        "[output]\n",
        "\n",
        "square(2) => 4\n",
        "\n",
        "square(3) => 9"
      ]
    },
    {
      "cell_type": "code",
      "metadata": {
        "colab": {
          "base_uri": "https://localhost:8080/"
        },
        "id": "Z3KgL_cMU_Jv",
        "outputId": "8d37d033-5a68-4995-8f5b-b703c07a02c2"
      },
      "source": [
        "def square(n):\n",
        "  result = {}\n",
        "  for i in n:\n",
        "    result[i] = i*i\n",
        "  for k,v in result.items():\n",
        "    print('square({0}) => {1}'.format(k,v))\n",
        "    \n",
        "n = list(map(int, input().split(',')))\n",
        "square(n)\n",
        "\n",
        "\n",
        "# n = int(input())\n",
        "# result = {}\n",
        "# for i in range(n,n+1):\n",
        "#   result[i] = i*i\n",
        "# for k,v in result.items():\n",
        "#   print('square({0}) => {1}'.format(k,v))"
      ],
      "execution_count": null,
      "outputs": [
        {
          "output_type": "stream",
          "name": "stdout",
          "text": [
            "2,3\n",
            "square(2) => 4\n",
            "square(3) => 9\n",
            "None\n"
          ]
        }
      ]
    },
    {
      "cell_type": "markdown",
      "metadata": {
        "id": "BwRRPf4mnddf"
      },
      "source": [
        "### 함수 연습문제 9\n",
        "\n",
        "인자로 전달된 두 개의 문자열 중 길이가 더 긴 문자열을 출력하는 함수를 정의하고\n",
        " \n",
        "결과를 출력하는 프로그램을 작성하십시오.\n",
        "\n",
        "[input]one, three\n",
        "\n",
        "[output] three\n"
      ]
    },
    {
      "cell_type": "code",
      "metadata": {
        "colab": {
          "base_uri": "https://localhost:8080/"
        },
        "id": "EvRPfxURjDa_",
        "outputId": "a317f74f-365a-4296-86ae-b001629b83b0"
      },
      "source": [
        "def length(n):\n",
        "  if len(n[0]) > len(n[1]):\n",
        "    print(n[0])\n",
        "  elif len(n[0]) < len(n[1]):\n",
        "    print(n[1])\n",
        "\n",
        "n = input().split(', ')\n",
        "length(n)"
      ],
      "execution_count": null,
      "outputs": [
        {
          "output_type": "stream",
          "name": "stdout",
          "text": [
            "one, three\n",
            "three\n"
          ]
        }
      ]
    },
    {
      "cell_type": "markdown",
      "metadata": {
        "id": "GkW9NF2vrF03"
      },
      "source": [
        "### 함수 연습문제 10\n",
        "\n",
        "인자로 전달된 숫자를 이용해 카운트다운하는 함수 countdown을 정의하고, \n",
        "\n",
        "이 함수를 이용하여 countdown(0), countdown(10)을 순서대로 실행하십시오.\n",
        "\n",
        "0보다 작거나 같은 인자가 전달되었을 경우 \"카운트다운을 하려면 0보다 큰 입력이 필요합니다.\"를 출력하십시오."
      ]
    },
    {
      "cell_type": "code",
      "metadata": {
        "colab": {
          "base_uri": "https://localhost:8080/"
        },
        "id": "EZ-de_1MoT19",
        "outputId": "ba33dc52-ed8d-45e1-fed8-70ac3275aa36"
      },
      "source": [
        "def countdown(n):\n",
        "  if n <= 0 :\n",
        "    print('카운트다운을 하려면 0보다 큰 입력이 필요합니다.')\n",
        "  for i in range(n, 0,-1):\n",
        "    print(i)\n",
        "\n",
        "countdown(0)\n",
        "countdown(10)    "
      ],
      "execution_count": null,
      "outputs": [
        {
          "output_type": "stream",
          "name": "stdout",
          "text": [
            "카운트다운을 하려면 0보다 큰 입력이 필요합니다.\n",
            "10\n",
            "9\n",
            "8\n",
            "7\n",
            "6\n",
            "5\n",
            "4\n",
            "3\n",
            "2\n",
            "1\n"
          ]
        }
      ]
    },
    {
      "cell_type": "markdown",
      "source": [
        "# 7. 흐름과 제어\n",
        "###  반복 1 연습문제 \n",
        "\n",
        "다음의 결과와 같이 5명의 학생의 점수에 대해 60 이상일 때 합격 메시지를 출력하고,\n",
        "\n",
        "60미만일 때 불합격 메시지를 출력하는 프로그램을 만드십시오."
      ],
      "metadata": {
        "id": "4Ixu9801pB0S"
      }
    },
    {
      "cell_type": "code",
      "metadata": {
        "id": "IoObdaoNsJ0t",
        "colab": {
          "base_uri": "https://localhost:8080/"
        },
        "outputId": "5527abbd-a94f-4536-d11d-709b2fb7b4c5"
      },
      "source": [
        "result = [88, 30, 61, 55, 95]\n",
        "for i in range(5):\n",
        "  if result[i] >= 60:\n",
        "    ispass = '합격'\n",
        "  else:\n",
        "    ispass = '불합격'\n",
        "  print('%d번 학생은 %d번 점으로 %s입니다.'%(i+1, result[i],ispass))"
      ],
      "execution_count": null,
      "outputs": [
        {
          "output_type": "stream",
          "name": "stdout",
          "text": [
            "1번 학생은 88번 점으로 합격입니다.\n",
            "2번 학생은 30번 점으로 불합격입니다.\n",
            "3번 학생은 61번 점으로 합격입니다.\n",
            "4번 학생은 55번 점으로 불합격입니다.\n",
            "5번 학생은 95번 점으로 합격입니다.\n"
          ]
        }
      ]
    },
    {
      "cell_type": "markdown",
      "source": [
        "###  반복 4 연습문제 \n",
        "\n",
        "1부터 100사이의 숫자 중 홀수를 for 문을 이용해 다음과 같이 출력하십시오."
      ],
      "metadata": {
        "id": "wdnPbQ3RsOzo"
      }
    },
    {
      "cell_type": "code",
      "source": [
        "result = \"\"\n",
        "for i in range(1, 101):\n",
        "   if i & 1:\n",
        "      result += \"%d, \" % i\n",
        "print(result[0:len(result)-2])"
      ],
      "metadata": {
        "colab": {
          "base_uri": "https://localhost:8080/"
        },
        "id": "ffLPKPByzWNx",
        "outputId": "86f9484a-2776-4b4d-bad6-83e38def617d"
      },
      "execution_count": null,
      "outputs": [
        {
          "output_type": "stream",
          "name": "stdout",
          "text": [
            "1, 3, 5, 7, 9, 11, 13, 15, 17, 19, 21, 23, 25, 27, 29, 31, 33, 35, 37, 39, 41, 43, 45, 47, 49, 51, 53, 55, 57, 59, 61, 63, 65, 67, 69, 71, 73, 75, 77, 79, 81, 83, 85, 87, 89, 91, 93, 95, 97, 99\n"
          ]
        }
      ]
    },
    {
      "cell_type": "markdown",
      "source": [
        "### 반복 6 연습문제\n",
        "\n",
        "다음은 10명의 학생들의 혈액형(A, B, AB, O) 데이터입니다.\n",
        "\n",
        "['A', 'A', 'A', 'O', 'B', 'B', 'O', 'AB', 'AB', 'O']\n",
        "\n",
        "for 문을 이용하여 각 혈액형 별 학생수를 구하십시오.\n",
        "\n",
        "output\n",
        "{'A': 3, 'O': 3, 'B': 2, 'AB': 2}"
      ],
      "metadata": {
        "id": "jQ9a087a-mwz"
      }
    },
    {
      "cell_type": "code",
      "source": [
        "result = {'A':0, 'B':0, 'AB':0, 'O':0}\n",
        "student = ['A', 'A', 'A', 'O', 'B', 'B', 'O', 'AB', 'AB', 'O']\n",
        "for i in student:\n",
        "  result[i] += 1\n",
        "print(\"{'A': %d, 'O': %d, 'B': %d, 'AB': %d}\" % (result[\"A\"], result[\"O\"], result[\"B\"], result[\"AB\"]))"
      ],
      "metadata": {
        "colab": {
          "base_uri": "https://localhost:8080/"
        },
        "id": "LqmFRggVzW8Z",
        "outputId": "a1fa657e-436a-43b0-c6d9-5fc7af175010"
      },
      "execution_count": null,
      "outputs": [
        {
          "output_type": "stream",
          "name": "stdout",
          "text": [
            "{'A': 3, 'O': 3, 'B': 2, 'AB': 2}\n"
          ]
        }
      ]
    },
    {
      "cell_type": "markdown",
      "source": [
        "### 반복 7 연습문제\n",
        "\n",
        "다음은 학생의 점수를 나타내는 리스트입니다.\n",
        "\n",
        "[85, 65, 77, 83, 75, 22, 98, 88, 38, 100]\n",
        "\n",
        "while 문과 리스트 객체의 pop()을 이용해 80점 이상의 점수들의 총합을 구하시오."
      ],
      "metadata": {
        "id": "S2SmRTHvFhPr"
      }
    },
    {
      "cell_type": "code",
      "source": [
        "result = 0\n",
        "student = [85, 65, 77, 83, 75, 22, 98, 88, 38, 100]\n",
        "while len(student):\n",
        "  k = student.pop()\n",
        "    \n",
        "  if k >= 80:\n",
        "    result += k\n",
        "print(result)"
      ],
      "metadata": {
        "colab": {
          "base_uri": "https://localhost:8080/"
        },
        "id": "ybjtMlYH_z4x",
        "outputId": "0b436296-141f-4fe1-cdf1-56081ba48fdc"
      },
      "execution_count": null,
      "outputs": [
        {
          "output_type": "stream",
          "name": "stdout",
          "text": [
            "454\n"
          ]
        }
      ]
    },
    {
      "cell_type": "markdown",
      "source": [
        "### 반복 8 연습문제\n",
        "\n",
        "while문을 이용해 아래와 같이 별(*)을 표시하는 프로그램을 만드십시오."
      ],
      "metadata": {
        "id": "MmBL3rPWINR_"
      }
    },
    {
      "cell_type": "code",
      "source": [
        "i = 5\n",
        "while i :\n",
        "   print(\"*\" * i)\n",
        "   i -= 1"
      ],
      "metadata": {
        "colab": {
          "base_uri": "https://localhost:8080/"
        },
        "id": "SMRLESUoG-mR",
        "outputId": "3bbc4f4c-3da1-43d8-b062-9818521ea051"
      },
      "execution_count": null,
      "outputs": [
        {
          "output_type": "stream",
          "name": "stdout",
          "text": [
            "*****\n",
            "****\n",
            "***\n",
            "**\n",
            "*\n"
          ]
        }
      ]
    },
    {
      "cell_type": "markdown",
      "source": [
        "### 반복 9 연습문제\n",
        "\n",
        "while문을 이용해 아래와 같이 별(*)을 표시하는 프로그램을 만드십시오.\n",
        "\n",
        "'*********'\n",
        "\n",
        "' *****  '\n",
        "\n",
        "'  ***   '\n",
        "\n",
        "'  **   '\n",
        "\n",
        "'   * ' "
      ],
      "metadata": {
        "id": "cyQ_AQjEJFpJ"
      }
    },
    {
      "cell_type": "code",
      "source": [
        "i,k = 7,0\n",
        "while i >= 0:\n",
        "  print('{0}{1}'.format((' '*k),('*'*i)))\n",
        "  i -= 2\n",
        "  k += 1"
      ],
      "metadata": {
        "colab": {
          "base_uri": "https://localhost:8080/"
        },
        "id": "17sZYsgQIvpg",
        "outputId": "7691d1a4-ae6c-4171-c05a-1cfcdbc26dd6"
      },
      "execution_count": null,
      "outputs": [
        {
          "output_type": "stream",
          "name": "stdout",
          "text": [
            "                                                                                            *******\n",
            "                                                                                             *****\n",
            "                                                                                              ***\n",
            "                                                                                               *\n"
          ]
        }
      ]
    },
    {
      "cell_type": "markdown",
      "source": [
        "### 반복 10 연습문제\n",
        "\n",
        "다음의 결과와 같이 어떤 한 양의 정수를 입력하여 그 숫자에 0~9가 몇 번 사용되었는지 표시하십시오.\n",
        "\n",
        "[입력]\n",
        "\n",
        "11\n",
        "\n",
        "[출력]\n",
        "\n",
        "0 1 2 3 4 5 6 7 8 9\n",
        "\n",
        "0 2 0 0 0 0 0 0 0 0"
      ],
      "metadata": {
        "id": "Mgu8bcpTLlW_"
      }
    },
    {
      "cell_type": "code",
      "source": [
        "result = {'0':0, '1':0, '2':0,'3':0, '4':0, '5':0,'6':0,'7':0,'8':0,'9':0}\n",
        "n = input()\n",
        "for i in n:\n",
        "  result[i] += 1\n",
        "print('0 1 2 3 4 5 6 7 8 9')\n",
        "print('{0} {1} {2} {3} {4} {5} {6} {7} {8} {9}'.format(result['0'], result['1'],result['2'],result['3'],result['4'],result['5'],result['6'],result['7'],result['8'],result['9']))"
      ],
      "metadata": {
        "colab": {
          "base_uri": "https://localhost:8080/"
        },
        "id": "iGmgGtMmKFJt",
        "outputId": "144eb978-540d-4754-ebd4-8c7c1cb29588"
      },
      "execution_count": null,
      "outputs": [
        {
          "output_type": "stream",
          "name": "stdout",
          "text": [
            "11\n",
            "0 1 2 3 4 5 6 7 8 9\n",
            "0 2 0 0 0 0 0 0 0 0\n"
          ]
        }
      ]
    },
    {
      "cell_type": "code",
      "source": [
        "#횟수를 저장하는 리스트 생성\n",
        "array = [0]*10\n",
        "num = int(input())\n",
        "result = \"\"\n",
        "#num이 0이 될때까지 반복하며 숫자체크\n",
        "while num:\n",
        "   array[num%10] += 1\n",
        "   num //= 10\n",
        "#0~9까지 출력하기\n",
        "for i in range(0, 10):\n",
        "   result += \"%d \" % i\n",
        "print(result[0:len(result)-1])\n",
        "#변수 초기화\n",
        "result = \"\"\n",
        "#나온횟수 출력하기\n",
        "for i in range(0, 10):\n",
        "   result += \"%d \" % array[i]\n",
        "print(result[0:len(result)-1])"
      ],
      "metadata": {
        "colab": {
          "base_uri": "https://localhost:8080/"
        },
        "id": "AlncRUwyqoRz",
        "outputId": "d50c6056-8d9c-4d39-a04e-f3155a5d0eea"
      },
      "execution_count": 6,
      "outputs": [
        {
          "output_type": "stream",
          "name": "stdout",
          "text": [
            "11\n",
            "0 1 2 3 4 5 6 7 8 9\n",
            "0 2 0 0 0 0 0 0 0 0\n"
          ]
        }
      ]
    },
    {
      "cell_type": "markdown",
      "source": [
        "### 반복 11 연습문제\n",
        "\n",
        "for문을 이용해 아래와 같이 별(*)을 표시하는 프로그램을 만드십시오.\n",
        "\n",
        "\n",
        "'    *'\n",
        "\n",
        "'   **'\n",
        "\n",
        "'  ***'\n",
        "\n",
        "' ****'\n",
        "\n",
        "'*****'"
      ],
      "metadata": {
        "id": "71qVgUYEoaAn"
      }
    },
    {
      "cell_type": "code",
      "source": [
        "for i in range(1, 6):\n",
        "   print(\"{0}{1}\".format(\" \"*(5-i), \"*\"*i) )"
      ],
      "metadata": {
        "id": "duv8YLcTOeiY",
        "colab": {
          "base_uri": "https://localhost:8080/"
        },
        "outputId": "bfa50031-65d0-4a40-c062-ac1b71b27168"
      },
      "execution_count": 5,
      "outputs": [
        {
          "output_type": "stream",
          "name": "stdout",
          "text": [
            "    *\n",
            "   **\n",
            "  ***\n",
            " ****\n",
            "*****\n"
          ]
        }
      ]
    },
    {
      "cell_type": "markdown",
      "source": [
        "### 반복 12 연습문제\n",
        "\n",
        "다음의 결과와 같이 10진수를 2진수로 변환하는 프로그램을 작성하십시오."
      ],
      "metadata": {
        "id": "3kqU_bSNuEOr"
      }
    },
    {
      "cell_type": "code",
      "source": [
        "a = int(input())\n",
        "# a를 2진수로 변환\n",
        "# o는 8진수, x는 16진수, X는 대문자 16진수\n",
        "print(format(a, 'b'))"
      ],
      "metadata": {
        "colab": {
          "base_uri": "https://localhost:8080/"
        },
        "id": "ZGLNJpJPpUfm",
        "outputId": "0cabdf4e-5007-43ac-ebbe-874e9b6ff187"
      },
      "execution_count": 9,
      "outputs": [
        {
          "output_type": "stream",
          "name": "stdout",
          "text": [
            "9\n",
            "1001\n"
          ]
        }
      ]
    },
    {
      "cell_type": "markdown",
      "source": [
        "# 6196. [파이썬 프로그래밍 기초(1) 파이썬의 기본 구조와 기초 문법] \n",
        "\n",
        "### 4. 변수 연습문제 1\n",
        "\n",
        "1~9 사이의 정수 a를 입력받아 a + aa + aaa + aaaa 의 값을 계산하는 프로그램을 작성하십시오.\n",
        "\n",
        "[입력]\n",
        "\n",
        "9\n",
        "\n",
        "[출력]\n",
        "\n",
        "11106"
      ],
      "metadata": {
        "id": "uxyDx9vAwQYC"
      }
    },
    {
      "cell_type": "code",
      "source": [
        "n = int(input())\n",
        "result = n + (n + n*10) + (n + n*10 + n*100) +(n + n*10 + n*100 + n*1000)\n",
        "print(result)"
      ],
      "metadata": {
        "colab": {
          "base_uri": "https://localhost:8080/"
        },
        "id": "CC49h56nuTNj",
        "outputId": "8084f373-9340-4fd8-c9e2-ac78c76acb0e"
      },
      "execution_count": 15,
      "outputs": [
        {
          "output_type": "stream",
          "name": "stdout",
          "text": [
            "9\n",
            "11106\n"
          ]
        }
      ]
    },
    {
      "cell_type": "markdown",
      "source": [
        "# 6204. [파이썬 프로그래밍 기초(1) 파이썬의 기본 구조와 기초 문법] \n",
        "### 5. 연산자 1 연습문제\n",
        "\n",
        "인치(inch)를 센티미터(cm)으로 변환하는 프로그램을 작성하십시오.\n",
        "이 때 1 인치는 2.54 센티미터입니다."
      ],
      "metadata": {
        "id": "DHDH0o3oyKE5"
      }
    },
    {
      "cell_type": "code",
      "source": [
        "n = float(input())\n",
        "cm = n*2.54\n",
        "print(f'{n :.2f} inch => {cm} cm')"
      ],
      "metadata": {
        "colab": {
          "base_uri": "https://localhost:8080/"
        },
        "id": "6JwAbTVyyL5z",
        "outputId": "4963c7aa-642a-4a86-bb90-9fa3269a298c"
      },
      "execution_count": 23,
      "outputs": [
        {
          "output_type": "stream",
          "name": "stdout",
          "text": [
            "3\n",
            "3.00 inch => 7.62 cm\n"
          ]
        }
      ]
    },
    {
      "cell_type": "markdown",
      "source": [
        "### 5. 연산자 - 연습문제 2\n",
        "킬로그램(kg)를 파운드(lb)으로 변환하는 프로그램을 작성하십시오.\n",
        "\n",
        "이 때 1 킬로그램은 2.2046 파운드입니다.\n",
        "\n",
        "[입력]\n",
        "90\n",
        "\n",
        "[출력]\n",
        "90.00 kg =>  198.41 lb"
      ],
      "metadata": {
        "id": "cGFtmGpV142O"
      }
    },
    {
      "cell_type": "code",
      "source": [
        "kg = float(input())\n",
        "lb = kg*2.2046\n",
        "print(f'{kg:.2f} kg => {lb:.2f} lb')"
      ],
      "metadata": {
        "colab": {
          "base_uri": "https://localhost:8080/"
        },
        "id": "i-1GghdLzl5q",
        "outputId": "3bede489-69b8-4154-87b9-e0ab9a232e39"
      },
      "execution_count": 31,
      "outputs": [
        {
          "output_type": "stream",
          "name": "stdout",
          "text": [
            "90\n",
            "90.00 kg => 198.41 lb\n"
          ]
        }
      ]
    },
    {
      "cell_type": "markdown",
      "source": [
        "### 5. 연산자 - 연습문제 3\n",
        "\n",
        "섭씨(℃)를 화씨(℉)로 변환하는 프로그램을 작성하십시오.\n",
        "이 때 물의 빙점은 화씨 32도이고 비등점은 화씨 212도(표준 기압에서)입니다.\n",
        "물의 비등점과 빙점 사이에 정확하게 180도 차이가 납니다.\n",
        "그러므로 화씨 눈금에서의 간격은 물의 빙점과 비등점 사이의 간격의 1/180입니다.\n",
        " "
      ],
      "metadata": {
        "id": "u78yNCfV4C-1"
      }
    },
    {
      "cell_type": "code",
      "source": [
        ""
      ],
      "metadata": {
        "id": "v1iF-zQl2e5n"
      },
      "execution_count": null,
      "outputs": []
    }
  ]
}