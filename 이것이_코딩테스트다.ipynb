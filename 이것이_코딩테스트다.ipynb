{
  "nbformat": 4,
  "nbformat_minor": 0,
  "metadata": {
    "colab": {
      "name": "이것이 코딩테스트다.ipynb",
      "provenance": [],
      "collapsed_sections": [],
      "authorship_tag": "ABX9TyMGHf2V9y0EsfCse7RDYsec",
      "include_colab_link": true
    },
    "kernelspec": {
      "name": "python3",
      "display_name": "Python 3"
    },
    "language_info": {
      "name": "python"
    }
  },
  "cells": [
    {
      "cell_type": "markdown",
      "metadata": {
        "id": "view-in-github",
        "colab_type": "text"
      },
      "source": [
        "<a href=\"https://colab.research.google.com/github/cge1111/Algorithmbasic/blob/main/%EC%9D%B4%EA%B2%83%EC%9D%B4_%EC%BD%94%EB%94%A9%ED%85%8C%EC%8A%A4%ED%8A%B8%EB%8B%A4.ipynb\" target=\"_parent\"><img src=\"https://colab.research.google.com/assets/colab-badge.svg\" alt=\"Open In Colab\"/></a>"
      ]
    },
    {
      "cell_type": "markdown",
      "metadata": {
        "id": "8iQCrTuhiBYQ"
      },
      "source": [
        "https://github.com/ndb796/python-for-coding-test/blob/master/3/2.py"
      ]
    },
    {
      "cell_type": "markdown",
      "metadata": {
        "id": "EFs8WJjfT_cx"
      },
      "source": [
        "# 그리디\n",
        "### 87p.  *그리디*\n",
        "[예제 3-1]\n",
        "동전의 최소 개수 구하기"
      ]
    },
    {
      "cell_type": "code",
      "metadata": {
        "colab": {
          "base_uri": "https://localhost:8080/"
        },
        "id": "flmm3tgAU0Hp",
        "outputId": "5bc51f60-3783-4f59-bda4-f51abef1489d"
      },
      "source": [
        "\n",
        "n = 1260\n",
        "count = 0\n",
        "\n",
        "# 큰 단위의 화폐부터 차례대로 확인\n",
        "lists = [500, 100, 50, 10]\n",
        "\n",
        "for coin in lists:\n",
        "  count += (n // coin ) # 해당 화폐로 거슬러 줄 수 있는 동전의 개수 세기(1260 // 500 = 2)\n",
        "  n %= coin # 나머지 값(1260 % 500 = 260)\n",
        "\n",
        "print(count)"
      ],
      "execution_count": null,
      "outputs": [
        {
          "output_type": "stream",
          "name": "stdout",
          "text": [
            "6\n"
          ]
        }
      ]
    },
    {
      "cell_type": "markdown",
      "metadata": {
        "id": "UG0p2XmQWoYu"
      },
      "source": [
        "### 92p *그리드* [실전예제1] 큰 수의 법칙\n",
        "- 다양한 수로 이루어진 배열이 있을 때 주어진 수들을 M번 더하여 가장 큰 수를 만드는 법칙(단, 배열의 특정한 인덱스(번호)에 해당하는 수가 연속해서 K번을 초과하여 더해질 수 없음)\n",
        "\n",
        "[문제] 배열의 크기 N, 숫자가 더해지는 횟수 M, K가 주어질 때 동빈이의 큰 수의 법칙에 따른 결과를 출력\n",
        "- 입력조건\n",
        "\n",
        " 1) 첫째 줄에 N(2 <= N <= 1,000), M(1 <= M <= 10,000), K(1 <= N <= 1,000)의 자연수가 주어지며, 각 자연수는 공백으로 구분\n",
        "\n",
        " 2) 둘째 줄에 N개의 자연수가 주어진다. 각 자연수는 공백으로 구분(단, 각각의 자연수는 1 이상 10,000이하의 수로 주어진다)\n",
        "\n",
        " 3) 입력으로 주어지는 K는 항상 M보다 작거나 같다.\n",
        "- 출력조건\n",
        "\n",
        "첫째 줄에 동빈이의 큰 수의 법칙에 따라 더해진 답을 출력"
      ]
    },
    {
      "cell_type": "code",
      "metadata": {
        "id": "w_2mXCuXWny6",
        "colab": {
          "base_uri": "https://localhost:8080/"
        },
        "outputId": "4380e4ef-3161-4bb4-bef0-e62efe2db378"
      },
      "source": [
        " n, m, k = map(int, input().split())\n",
        "data = list(map(int, input().split()))\n",
        "\n",
        "data.sort()\n",
        "first = data[n-1]\n",
        "second = data[n-2]\n",
        "\n",
        "result = 0\n",
        "\n",
        "while True:\n",
        "    for i in range(k):\n",
        "        if m == 0:\n",
        "            break\n",
        "        result += first\n",
        "        m -= 1\n",
        "    if m == 0:\n",
        "        break\n",
        "    result += second\n",
        "    m -= 1\n",
        "    \n",
        "print(result)  "
      ],
      "execution_count": null,
      "outputs": [
        {
          "output_type": "stream",
          "name": "stdout",
          "text": [
            "5 8 3\n",
            "2 4 5 4 6\n",
            "46\n"
          ]
        }
      ]
    },
    {
      "cell_type": "markdown",
      "metadata": {
        "id": "PDXd_R98hW3S"
      },
      "source": [
        "### 96p *그리드* [실전예제2] 숫자 카드 게임\n",
        "여러 개의 숫자 카드 중에서 가장 높은 숫자가 쓰인 카드 한 장을 뽑는 게임이다.(단, 게임의 룰을 지키며 카드를 뽑아야하고 룰은 다음과 같다.)\n",
        "1. 숫자가 쓰인 카드들이 N*M형태로 놓여 있다. 이때, N은 행의 개수를 의미하며, M은 열의 개수를 의미한다.\n",
        "2. 먼저 뽑고자 하는 카드가 포함되어 있는 행을 선택\n",
        "3. 그다음 선택된 행에 포함된 카드들 중 가장 숫자가 낮은 카드를 뽑아야 한다.\n",
        "4. 따라서 처음에 카드를 골라낼 행을 선택할 때, 이후에 해당 행에서 가장 숫자가 낮은 카드를 뽑을 것을 고려하여 최종적으로 가장 높은 숫자의 카드를 뽑을 수 있도록 전략을 세워야 한다.\n",
        "\n",
        "- 입력조건\n",
        "\n",
        "(1) 첫째 줄에 숫자 카드들이 놓인 행의 개수 N과 열의 개수 M이 공백을 기준으로 하여 각각 자연수로 주어진다.(1 <= N, M <= 100)\n",
        "\n",
        "(2) 둘째 줄부터 N개의 줄에 걸쳐 각 카드에 적힌 숫자가 주어진다. 각 수자는 1 이상 10,000 이하의 자연수이다.\n",
        "\n",
        "- 출력조건\n",
        "\n",
        "첫째 줄에 게임의 룰에 맞게 선택한 카드에 적힌 숫자를 출력\n",
        "\n",
        "- 입력 예시\n",
        "*3 3\n",
        "*3 1 2\n",
        "*4 1 4\n",
        "*2 2 2\n",
        "\n"
      ]
    },
    {
      "cell_type": "code",
      "metadata": {
        "id": "oxdnnr7whV2z",
        "colab": {
          "base_uri": "https://localhost:8080/"
        },
        "outputId": "091e240a-4783-458b-a529-e9aaf97c4c95"
      },
      "source": [
        "# [방법1] min 함수 사용\n",
        "n, m = map(int, input().split())  # 공백을 구분하여 입력받기\n",
        "result = 0 # 한줄씩 입력받아 확인\n",
        "for i in range(n): \n",
        "  data = list(map(int, input().split()))\n",
        "  min_value = min(data)  # 현재 줄에서 '가장 작은 수'찾기\n",
        "  result = max(result, min_value) # '가장 작은 수'들 중에서 가장 큰 수 찾기\n",
        "print(result) # 답안 출력\n",
        "\n",
        "# [방법2] 2중 반복문 구조\n",
        "n, m = map(int, input().split())  # 공백을 구분하여 입력받기\n",
        "result = 0 # 한줄씩 입력받아 확인\n",
        "for i in range(n):\n",
        "  data = list(map(int, input().split()))\n",
        "  min_value = 10001\n",
        "  for a in data:\n",
        "    min_value = min(min_value, a)\n",
        "  result = max(result, min_value)\n",
        "print(result)"
      ],
      "execution_count": null,
      "outputs": [
        {
          "output_type": "stream",
          "name": "stdout",
          "text": [
            "3 3\n",
            "3 1 2\n",
            "4 1 4\n",
            "2 2 2\n",
            "2\n"
          ]
        }
      ]
    },
    {
      "cell_type": "markdown",
      "metadata": {
        "id": "p9Ia9AJJXSGK"
      },
      "source": [
        "### 99p *그리드* [실전예제3] 1이 될 때까지\n",
        "어떠한 수 N이 1이 될 때까지 다음의 두 과정 중 하나를 반복적으로 선택하여 수행하려고 한다.(단, 두 번째 연산은 N이 K로 나누어떨어질 때만 선택할 수 있다.)\n",
        "1. N에서 1을 뺀다.\n",
        "2. N을 K로 나눈다.\n",
        "\n",
        "N과 K가 주어질 때 N이 1이 될 때까지 1번 혹은 2번의 과정을 수행해야 하는 최소 횟수를 구하는 프로그램을 작성하시오.\n",
        "\n",
        "- 입력조건 \n",
        "\n",
        "첫째 줄에 N(2 ≤ N ≤ 100,000)과 K(2 ≤ K ≤ 100,000)가 공백으로 구분되며 각각 자연수로 주어진다. 이때 입력으로 주어지는 N은 항상 K보다 크거나 같다.\n",
        "\n",
        "- 출력조건\n",
        "\n",
        "첫째 줄에 N이 1이 될 때까지 1번 혹은 2번의 과정을 수행해야 하는 횟수의 최솟값을 출력한다.\n",
        "\n",
        "[입력예시]\n",
        "\n",
        "25 5\n",
        "\n",
        "[출력예시]\n",
        "\n",
        "2"
      ]
    },
    {
      "cell_type": "code",
      "metadata": {
        "colab": {
          "base_uri": "https://localhost:8080/"
        },
        "id": "6S33Yyq1WJnh",
        "outputId": "9021ef24-43a4-4f11-ab10-148c0a4c8264"
      },
      "source": [
        "n, k = map(int, input().split())\n",
        "result = 0\n",
        "while True: # 반복 수가 지정되어 있지 않기 때문에 while문 사용\n",
        "  target = (n//k)*k # (n == k로 나누어 떨어지는 수)가 될 때까지 1씩 빼기\n",
        "  result += (n - target)\n",
        "  n = target\n",
        "\n",
        "  if n < k : # n이 K보다 작을 때(더 이상 나눌 수 없을 때) 반복문 탈출\n",
        "    break\n",
        "  result += 1\n",
        "  n //= k    #\tn = n // k\n",
        "  \n",
        "result += (n-1) # 마지막으로 남은 수에 대하여 1씩 빼기\n",
        "print(result)"
      ],
      "execution_count": null,
      "outputs": [
        {
          "output_type": "stream",
          "name": "stdout",
          "text": [
            "25 5\n",
            "2\n"
          ]
        }
      ]
    },
    {
      "cell_type": "markdown",
      "metadata": {
        "id": "75k0OMgDCjct"
      },
      "source": [
        "### *그리드* [실전예제4] 곱하기 혹은 더하기\n",
        "- 각 자리가 숫자(0부터 9)로만 이루어진 문자열 S가 주어졌을 때, 왼쪽부터 오른쪽으로 하나씩 모든 숫자를 확인하며 숫자 사이에 'x'혹은 '+' 연산자를 넣어 결과적으로 만들어질 수 있는 가장 큰 수를 구하는 프로그램을 작성하세요. 단 +보다 x를 먼저 계산하는 일반적인 방식과는 달리, 모든 연산은 왼쪽에서부터 순서대로 이루어진다고 가정합니다.\n",
        "- 예를 들어 02984라는 문자열로 만들 수 있는 가장 큰 수는 (((0+2)*9)*8)*4)=576입니다. 또한 만들어질 수 있는 가장 큰 수는 항상 20억 이하의 정수가 되도록 입력이 주어집니다.\n",
        "\n",
        "- 입력조건 \n",
        "\n",
        "첫째 줄에 여러 개의 숫자로 구성된 하나의 문자열 S가 주어집니다.(1≤ S의 길이 ≤ 20)\n",
        "\n",
        "- 출력조건\n",
        "\n",
        "첫째 줄에 만들어질 수 있는 가장 큰 수를 출력합니다.\n",
        "\n",
        "[입력예시]\n",
        "\n",
        "02984\n",
        "\n",
        "[출력예시]\n",
        "\n",
        "576"
      ]
    },
    {
      "cell_type": "code",
      "metadata": {
        "colab": {
          "base_uri": "https://localhost:8080/"
        },
        "id": "TIRSMs-VCjCH",
        "outputId": "f8ff2bd9-d18e-4956-9ad3-77a88bc22673"
      },
      "source": [
        "data = input()\n",
        "\n",
        "result = int(data[0]) # 첫 번째 문자를 숫자로 변경하여 대입\n",
        "\n",
        "for i in range(1, len(data)):\n",
        "  num = int(data[i])\n",
        "  if num <= 1 or result <= 1: # 두 수 중에서 하나라도 '0' 혹은 '1'인 경우, 곱하기보단 더하기 수행\n",
        "    result += num\n",
        "  else:\n",
        "    result *= num\n",
        "print(result)"
      ],
      "execution_count": null,
      "outputs": [
        {
          "output_type": "stream",
          "name": "stdout",
          "text": [
            "02984\n",
            "576\n"
          ]
        }
      ]
    },
    {
      "cell_type": "markdown",
      "metadata": {
        "id": "TomQbM54H6z-"
      },
      "source": [
        "### *그리드* [실전예제5] 모험가 길드\n",
        "- 한 마을에 모험가가 N명 있습니다. 모험가 길드에서는 N며으이 모함가를 대상으로 '공포도'를 측정했는데, '공포도'가 높은 모험가는 쉽게 공포를 느껴 위험 상황에서 제대로 대처할 능력이 떨어집니다.\n",
        "- 모험가 길드장인 동빈이는 모함가 그룹을 안전하게 구성하고자 공포도가 X인 모험가는 반드시 X명 이상으로 구성한 모험가 그룹에 참여해야 여행을 떠날 수 있도록 규정했습니다.\n",
        "- 동빈이는 최대 몇 개의 모험가 그룹을 만들 수 있는지 궁금합니다. N명의 모험가에 대한 정보가 주어졌을 떄, 여행을 떠날 수 있는 그룹 수의 최댓값을 구하는 프로그램을 작성하세요.\n",
        "\n",
        "- 입력조건 \n",
        "\n",
        "1. 첫째 줄에 모험가의 수 N이 주어집니다.(1 ≤ N ≤ 100,000)\n",
        "2. 둘째 줄에 각 모험가의 공포도의 값을 N 이하의 자연수로 주어지며, 각 자연수는 공백으로 구분합니다.\n",
        "\n",
        "- 출력조건\n",
        "\n",
        "여행을 떠날 수 있는 그룹 수의 최댓값을 출력합니다.\n",
        "\n",
        "[입력예시]\n",
        "\n",
        "5\n",
        "\n",
        "2 3 1 2 2\n",
        "\n",
        "[출력예시]\n",
        "\n",
        "2"
      ]
    },
    {
      "cell_type": "code",
      "metadata": {
        "colab": {
          "base_uri": "https://localhost:8080/"
        },
        "id": "RgsXty6TH69s",
        "outputId": "17165490-dcc1-48f7-94a1-75ff38ce916a"
      },
      "source": [
        "n = int(input()) \n",
        "data = list(map(int, input().split()))\n",
        "data.sort()\n",
        "\n",
        "result = 0 # 총 그룹의 수\n",
        "count = 0 # 현재 그룹에 포함된 모험가의 수\n",
        "for i in data: # 공포도를 낮은 것부터 하나씩 확인 \n",
        "  count += 1 # 현재 그룹에 해당 모험가를 포함시키기\n",
        "  if count >= i: # 현재 그룹에 포함된 모험가의 수가 현재의 공포도 이상이라면, 그룹 결성\n",
        "    result += 1 # 총 그룹의 수 증가\n",
        "    count = 0 # 현재 그룹에 포함된 모험가의 수 초기화\n",
        "print(result)"
      ],
      "execution_count": null,
      "outputs": [
        {
          "output_type": "stream",
          "name": "stdout",
          "text": [
            "5\n",
            "2 3 1 2 2\n",
            "2\n"
          ]
        }
      ]
    },
    {
      "cell_type": "markdown",
      "metadata": {
        "id": "uVYrd9LVvzXw"
      },
      "source": [
        "# 구현\n",
        "### 110p 구현 [예제4-1] 상하좌우\n",
        "여행가 A는 N x N 크기의 정사각형 공간 위에 서 있다. 이 공간은 1 x 1크기의 정사각형으로 나누져 있다. 가장 왼쪽 좌표는 (1,1)이며, 가장 오른쪽 아래 좌표는 (N,N)에 해당한다. 여행가 A는 상,하,좌,우 방향으로 이동할 수 있으며, 시작 좌표는 항상 (1,1)이다. 우리 앞에는 여행가 A가 이동할 계획이 적힌 계획서가 놓여 있다. \n",
        "1. L:왼쪽으로 한 칸 이동\n",
        "2. R:오른쪽으로 한 칸 이동\n",
        "3. U:위로 한칸 칸 이동\n",
        "4. D:아래로 한 칸 이동\n",
        "\n",
        "- [입력조건]\n",
        "1. 첫째 줄에 공간의 크기를 나타내는 N이 주어진다(1 ≤ N ≤ 100)\n",
        "2. 둘째 줄에 여행가 A가 이동할 계획서 내용이 주어진다(1 ≤ 이동 횟수 ≤ 100)\n",
        "\n",
        "- [출력조건]\n",
        "1. 첫째 줄에 여행가 A가 최종적으로 도착할 지점의 좌표 (X,Y)를 공백으로 구분하여 출력한다.\n",
        "\n",
        "[입력예시]\n",
        "\n",
        "5\n",
        "\n",
        "R R R U D D\n",
        "\n",
        "[출력예시]\n",
        "\n",
        "3 4"
      ]
    },
    {
      "cell_type": "code",
      "metadata": {
        "id": "dMeKgSDPd95l",
        "colab": {
          "base_uri": "https://localhost:8080/"
        },
        "outputId": "17630777-1284-43b9-d259-abbc1c6f00d3"
      },
      "source": [
        "n = int(input('num:')) # N 입력받기\n",
        "x, y = 1, 1\n",
        "p = input().split()\n",
        "\n",
        "dx = [0,0,-1,1]   # 'L', 'R', 'U', 'D'에 따른 이동 방향\n",
        "dy = [-1,1,0,0]\n",
        "move_type = ['L', 'R', 'U', 'D']\n",
        "for plan in p:  # 이동 계획을 하나씩 확인\n",
        "  for i in range(len(move_type)): # 이동 후 좌표 구하기\n",
        "    if plan == move_type[i]: \n",
        "      nx = x + dx[i]\n",
        "      ny = y + dy[i]\n",
        "  if nx < 1 or ny < 1 or nx > n or ny > n: # 공간을 벗어나는 경우 무시\n",
        "    continue  # 이동 수행\n",
        "  x,y = nx, ny "
      ],
      "execution_count": null,
      "outputs": [
        {
          "name": "stdout",
          "output_type": "stream",
          "text": [
            "num:5\n",
            "R R R U D D\n"
          ]
        }
      ]
    },
    {
      "cell_type": "markdown",
      "metadata": {
        "id": "K2xpLR8v4hes"
      },
      "source": [
        "### 110p 구현 [예제4-2] 시각\n",
        "정수 N이 입력되면 00시 00분 00초부터 N시 59분 59초까지의 모든 시각 중에서 3이 하나라도 포함되는 모든 경우의 수를 구하는 프로그램을 작성하시오. 예를 들어 1을 입력했을 때 다음은 3이 하나라도 포함되어 있으므로 세어야 하는 시각이다.\n",
        "- 00시 00분 00초\n",
        "- 00시 13분 30초\n",
        "\n",
        "반면에 다음은 3이 하나라도 포함되어 있지 않으므로 세면 안되는 시각이다.\n",
        "- 00시 02분 55초\n",
        "- 01시 27분 45초\n",
        "\n",
        "\n",
        "[입력조건]\n",
        "1. 첫째 줄에 정수 N이 입력된다.(1 ≤ N ≤ 100)\n",
        "\n",
        "[출력조건]\n",
        "1. 00시 00분 00초부터 N시 59분 59초까지의 모든 시각 중에서 3이 하나라도 포함되는 모든 경우의 수를 출력한다.\n",
        "\n",
        "[입력예시]\n",
        "\n",
        "5\n",
        "\n",
        "[출력예시]\n",
        "\n",
        "11475"
      ]
    },
    {
      "cell_type": "code",
      "metadata": {
        "id": "gI32d8Zr6WgD",
        "colab": {
          "base_uri": "https://localhost:8080/"
        },
        "outputId": "69aace14-6eb2-44d5-acb6-e56a077c90ef"
      },
      "source": [
        "h = int(input('')) # 시간 입력 받기\n",
        "\n",
        "count = 0\n",
        "for i in range(h+1):\n",
        "  for j in range(60):\n",
        "    for k in range(60): # 매 시각 안에 '3'이 포함되어 있다면 카운트 증가\n",
        "      if '3' in str(i) + str(j) + str(k):\n",
        "        count += 1\n",
        "        \n",
        "print(count)"
      ],
      "execution_count": null,
      "outputs": [
        {
          "output_type": "stream",
          "name": "stdout",
          "text": [
            "5\n",
            "11475\n"
          ]
        }
      ]
    },
    {
      "cell_type": "markdown",
      "metadata": {
        "id": "pYY3qtMoeXz-"
      },
      "source": [
        "### 115p 구현 [실습4-1] 왕실의 나이트\n",
        "행복 왕국의 왕실 정원은 체스판과 같은 8X8 좌표 평면이다. 왕실 정원의 특정한 한 칸에 나이트가 서 있다. 나이트는 매우 충성스러운 신하로서 매일 무술을 연마한다. 나이트는 말을 타고 있기 때문에 이동을 할 때는 L자 형태로만 이동할 수 있으며 정원 밖으로는 나갈 수 없다. 나이트는 특정한 위치에서 다음과 같은 2가지 경우로 이동할 수 있다.\n",
        "1. 수평으로 두 칸 이동한 뒤에 수직으로 한 칸 이동하기\n",
        "1. 수직으로 두 칸 이동한 뒤에 수평으로 한 칸 이동하기\n",
        "\n",
        "이처럼 8X8 좌표 평면상에서 나이트의 위치가 주어졌을 때 나이트가 이동할 수 있는 경우의 수를 출력하는 프로그램을 작성하시오. 이때 왕실의 정원에서 행 위치를 표현할 때는 1부터 8로 표현하며, 열 위치를 표현할 때는 a부터 h로 표현한다. 예를 들어 만약 나이트가 a1에 있을 때 이동할 수 있는 경우의 수는 다음 2가지이다. a1의 위치는 좌표 평면에서 구석의 위치에 해당하며 나이트는 정원의 밖으로는 나갈 수 없기 때문이다.\n",
        "1. 오른쪽으로 두 칸 이동 후 아래로 한 칸 이동하기(c2)\n",
        "또 다른 예로 나이트가 c2에 위치해 있다면 나이트가 이동할 수 있는 경우의 수는 6가지이다. 이건 직접 계산해보시오.\n",
        "\n",
        "[입력조건]\n",
        "1. 첫째 줄에 8X8 좌표 평면상에서 현재 나이트가 위치한 곳의 좌표를 나타내는 두 문자로 구성된 문자열이 입력된다. 입력문자는 a1처럼 열과 행으로 이뤄진다.\n",
        "\n",
        "[출력조건]\n",
        "1. 첫째 줄에 나이트가 이동할 수 있는 경우의 수를 출력하시오.\n",
        "\n",
        "[입력예시]\n",
        "\n",
        "a1\n",
        "\n",
        "[출력예시]\n",
        "\n",
        "2"
      ]
    },
    {
      "cell_type": "code",
      "metadata": {
        "colab": {
          "base_uri": "https://localhost:8080/"
        },
        "id": "KQh9U79eeC5K",
        "outputId": "7b0c8487-4a1b-400b-e651-d2e671bdbfd5"
      },
      "source": [
        "input_data = input()\n",
        "row = int(input_data[1])\n",
        "column = int(ord(input_data[0])) - int(ord('a')) + 1\n",
        "result = 0\n",
        "steps = [(-2, -1), (-1, -2), (1, -2), (2,1), (1, 2), (-1, 2), (-2, 1)]\n",
        "\n",
        "for i in steps:\n",
        "  next_row = row + i[0]\n",
        "  next_column = column + i[1]\n",
        "  if next_row >= 1 and next_row <= 8 and next_column >= 1 and next_column <= 8:\n",
        "    result += 1\n",
        "\n",
        "print(result)"
      ],
      "execution_count": null,
      "outputs": [
        {
          "output_type": "stream",
          "name": "stdout",
          "text": [
            "a1\n",
            "2\n"
          ]
        }
      ]
    },
    {
      "cell_type": "markdown",
      "metadata": {
        "id": "sWAkrLQ_oy4o"
      },
      "source": [
        "### 115p 구현 [실습4-2] 게임 개발\n",
        "현민이는 게임 캐릭터가 맵 안에서 움직이는 시스템을 개발 중이다. 캐릭터가 있는 장소는 1X1크기의 정사각형으로 이뤄진 NXM 크기의 직사각형으로, 각각의 칸은 육지 또는 바다이다. 캐릭터는 동서남북 중 한 곳을 바라본다. \n",
        "맵의 각 칸은 (A,B)로 나타낼 수 있고, A는 북쪽으로부터 떨어진 칸의 개수. B는 서쪽으로부터 떨어진 칸의 개수이다. 캐릭터는 상하좌우로 움직일 수 있고, 바다로 되어 있는 공간에는 갈 수 없다. 캐릭터의 움직임을 설정하기 위해 정해 놓은 매뉴얼은 이러하다.\n",
        "\n",
        "현재 위치에서 현재 방향을 기준으로 왼쪽 방향(반시계 방향으로 90도 회전한 방향)부터 차례대로 갈 곳을 정한다.\n",
        "\n",
        "캐릭터의 바로 왼쪽 방향에 아직 가보지 않은 칸이 존재한다면, 왼쪽 방향으로 횐전한 다음 왼쪽으로 한 칸을 전진한다. 왼쪽 방향에 가보지 않은 칸이 없다면, 왼쪽 방향으로 회전만 수행하고 1단계로 돌아간다.\n",
        "\n",
        "만약 네 방향 모두 이미 가본 칸이거나 바다로 되어 있는 칸인 경우에는, 바라보는 방향을 유지한 채로 한 칸 뒤로 가고 1단계로 돌아간다. 단, 이때 뒤쪽 방향이 바다인 칸이라 뒤로 갈 수 없는 경우에는 움직임을 멈춘다.\n",
        "\n",
        "현민이는 위 과정을 반복적으로 수행하면서 캐릭터의 움직임에 이상이 있는지 테스트하려고 한다. 메뉴얼에 따라 캐릭터를 이동시킨 뒤에, 캐릭터가 방문한 칸의 수를 출력하는 프로그램을 만드시오.\n",
        "\n",
        "[입력]\n",
        "\n",
        "1. 첫째 줄에 맵의 세로 크기 N과 가로 크기 M을 공백으로 구분하여 입력한다.\n",
        "(3 <= N, M <= 50)\n",
        "\n",
        "2. 둘째 줄에 게임 캐릭터가 있는 칸의 좌표 (A, B)와 바라보는 방햔 d가 각각 서로 공백으로 구분하여 주어진다. 방향 d의 값으로는 다음과 같이 4가지가 존재한다.\n",
        "\n",
        "0 : 북쪽\n",
        "1 : 동쪽\n",
        "2 : 남쪽\n",
        "3 : 서쪽\n",
        "\n",
        "3. 셋째 줄부터 맵이 육지인지 바다인지에 대한 정보가 주어진다. N개의 줄에 맵의 상태가 북쪽부터 남쪽 순서대로, 각 줄의 데이터는 서쪽부터 동쪽 순서대로 주어진다. 맵의 외각은 항상 바다로 되어 있다.\n",
        "\n",
        "0 : 육지\n",
        "1 : 바다\n",
        "4. 처음에 게임 캐릭터가 위치한 칸의 상태는 항상 육지이다.\n",
        "\n",
        "[출력]\n",
        "\n",
        "첫째 줄에 이동을 마친 후 캐릭터가 방문한 칸의 수를 출력한다.\n",
        "\n",
        "[입력 예시]\n",
        "\n",
        "4 4\n",
        "\n",
        "1 1 0 // (1, 1)에 북쪽(0)을 바라보고 서 있는 캐릭터\n",
        "\n",
        "1 1 1 1\n",
        "\n",
        "1 0 0 1\n",
        "\n",
        "1 1 0 1\n",
        "\n",
        "1 1 1 1\n",
        "\n",
        "[출력 예시]\n",
        "\n",
        "3"
      ]
    },
    {
      "cell_type": "code",
      "metadata": {
        "id": "yjKF0gySoNcM",
        "colab": {
          "base_uri": "https://localhost:8080/",
          "height": 330
        },
        "outputId": "5e99b6cd-c1b5-4840-b8f4-d8e4304c742d"
      },
      "source": [
        "n,m = map(int, input().split()) # 공백으로 구분하여 입력\n",
        "d = [[0] * m for _ in range(n)]  # 방문한 위치를 저장하기 위한 맵을 생성하여 0으로 초기화\n",
        "x,y,direction = map(int, input().split())\n",
        "d[x][y] = 1 # 현재 좌표 방문 처리 \n",
        "\n",
        "array = []  # 전체 맵 정보를 입력받기\n",
        "for i in range(n):\n",
        "  array.append(list(map(int, input().split())))\n",
        "\n",
        "dx = [-1,0,1,0]  # 북, 동, 남, 서 방향 정의\n",
        "dy = [0,1,0,-1]\n",
        "\n",
        "def turn_left(): # 왼쪽으로 회전\n",
        "  global direction\n",
        "  direction -= 1\n",
        "  if direction == -1:\n",
        "    direction = 3\n",
        "\n",
        "count = 1  # 시뮬레이션 시작\n",
        "turn_time = 0\n",
        "while True:\n",
        "  turn_left() # 왼쪽으로 회전\n",
        "  nx = x + dx[direction]\n",
        "  ny = y + dy[direction]\n",
        "  if d[nx][ny] == 0 and array[nx][ny] == 0: # 회전한 이후 정면에 가보지 않은 칸이 존재하는 경우 이동\n",
        "    d[nx][ny] = 1\n",
        "    x = nx\n",
        "    y = ny\n",
        "    count += 1\n",
        "    turn_time = 0\n",
        "    continue\n",
        "\n",
        "  else:  # 회전한 이후 정면에 가보지 않은 칸이 없거나 바다인 경우\n",
        "    turn_time = 0\n",
        "  \n",
        "  if turn_time == 4: # 네 방향 모두 갈 수 없는 경우\n",
        "    nx = x - dx[direction]\n",
        "    ny = y - dy[direction]\n",
        "    if array[nx][ny] == 0: # 뒤로 갈 수 있다면 이동하기\n",
        "      x = nx\n",
        "      y = ny\n",
        "    else: # 뒤가 바다로 막혀있는 경우\n",
        "      break\n",
        "    turn_time = 0\n",
        "print(count) # 결과 출력/. "
      ],
      "execution_count": null,
      "outputs": [
        {
          "name": "stdout",
          "output_type": "stream",
          "text": [
            "3 3\n",
            "1 1 0\n",
            "1 1 1 \n",
            "1 0 0\n",
            "1 1 0\n"
          ]
        },
        {
          "output_type": "error",
          "ename": "IndexError",
          "evalue": "ignored",
          "traceback": [
            "\u001b[0;31m---------------------------------------------------------------------------\u001b[0m",
            "\u001b[0;31mIndexError\u001b[0m                                Traceback (most recent call last)",
            "\u001b[0;32m<ipython-input-3-44dc61d0d731>\u001b[0m in \u001b[0;36m<module>\u001b[0;34m()\u001b[0m\n\u001b[1;32m     23\u001b[0m   \u001b[0mnx\u001b[0m \u001b[0;34m=\u001b[0m \u001b[0mx\u001b[0m \u001b[0;34m+\u001b[0m \u001b[0mdx\u001b[0m\u001b[0;34m[\u001b[0m\u001b[0mdirection\u001b[0m\u001b[0;34m]\u001b[0m\u001b[0;34m\u001b[0m\u001b[0;34m\u001b[0m\u001b[0m\n\u001b[1;32m     24\u001b[0m   \u001b[0mny\u001b[0m \u001b[0;34m=\u001b[0m \u001b[0my\u001b[0m \u001b[0;34m+\u001b[0m \u001b[0mdy\u001b[0m\u001b[0;34m[\u001b[0m\u001b[0mdirection\u001b[0m\u001b[0;34m]\u001b[0m\u001b[0;34m\u001b[0m\u001b[0;34m\u001b[0m\u001b[0m\n\u001b[0;32m---> 25\u001b[0;31m   \u001b[0;32mif\u001b[0m \u001b[0md\u001b[0m\u001b[0;34m[\u001b[0m\u001b[0mnx\u001b[0m\u001b[0;34m]\u001b[0m\u001b[0;34m[\u001b[0m\u001b[0mny\u001b[0m\u001b[0;34m]\u001b[0m \u001b[0;34m==\u001b[0m \u001b[0;36m0\u001b[0m \u001b[0;32mand\u001b[0m \u001b[0marray\u001b[0m\u001b[0;34m[\u001b[0m\u001b[0mnx\u001b[0m\u001b[0;34m]\u001b[0m\u001b[0;34m[\u001b[0m\u001b[0mny\u001b[0m\u001b[0;34m]\u001b[0m \u001b[0;34m==\u001b[0m \u001b[0;36m0\u001b[0m\u001b[0;34m:\u001b[0m\u001b[0;34m\u001b[0m\u001b[0;34m\u001b[0m\u001b[0m\n\u001b[0m\u001b[1;32m     26\u001b[0m     \u001b[0md\u001b[0m\u001b[0;34m[\u001b[0m\u001b[0mnx\u001b[0m\u001b[0;34m]\u001b[0m\u001b[0;34m[\u001b[0m\u001b[0mny\u001b[0m\u001b[0;34m]\u001b[0m \u001b[0;34m=\u001b[0m \u001b[0;36m1\u001b[0m\u001b[0;34m\u001b[0m\u001b[0;34m\u001b[0m\u001b[0m\n\u001b[1;32m     27\u001b[0m     \u001b[0mx\u001b[0m \u001b[0;34m=\u001b[0m \u001b[0mnx\u001b[0m\u001b[0;34m\u001b[0m\u001b[0;34m\u001b[0m\u001b[0m\n",
            "\u001b[0;31mIndexError\u001b[0m: list index out of range"
          ]
        }
      ]
    },
    {
      "cell_type": "markdown",
      "metadata": {
        "id": "I8lEQtiAqdUI"
      },
      "source": [
        "# 3. DFS & BFS"
      ]
    },
    {
      "cell_type": "code",
      "metadata": {
        "id": "Ajrd8mAZitsl",
        "colab": {
          "base_uri": "https://localhost:8080/"
        },
        "outputId": "102527e2-298d-40d4-d219-9aea05b42610"
      },
      "source": [
        "# 스택\n",
        "stack = []\n",
        "stack.append(5)\n",
        "stack.append(2)\n",
        "stack.append(3)\n",
        "stack.append(7)\n",
        "stack.pop()\n",
        "stack.append(1)\n",
        "stack.append(4)\n",
        "stack.pop()\n",
        "\n",
        "print(stack) # 최하단 원소부터 출력\n",
        "print(stack[::-1]) # 최상단 원소부터 출력"
      ],
      "execution_count": null,
      "outputs": [
        {
          "output_type": "stream",
          "name": "stdout",
          "text": [
            "[5, 2, 3, 1]\n",
            "[1, 3, 2, 5]\n"
          ]
        }
      ]
    },
    {
      "cell_type": "code",
      "metadata": {
        "colab": {
          "base_uri": "https://localhost:8080/"
        },
        "id": "uPYP75iaqZc8",
        "outputId": "5c9409ac-0390-4699-c983-7182351096cc"
      },
      "source": [
        "# 큐\n",
        "from collections import deque\n",
        "\n",
        "queue = deque() # 큐 구현을 위해 deque 라이브러리 사용\n",
        "queue.append(5)\n",
        "queue.append(2)\n",
        "queue.append(3)\n",
        "queue.append(7)\n",
        "queue.popleft()\n",
        "queue.append(1)\n",
        "queue.append(4)\n",
        "queue.popleft()\n",
        "\n",
        "print(queue) # 먼저 들어온 순서대로 출력\n",
        "queue.reverse() # 다음 출력을 위해 역순으로 바꾸기\n",
        "print(queue) # 나중에 들어온 원소부터 출력"
      ],
      "execution_count": null,
      "outputs": [
        {
          "output_type": "stream",
          "name": "stdout",
          "text": [
            "deque([3, 7, 1, 4])\n",
            "deque([4, 1, 7, 3])\n"
          ]
        }
      ]
    },
    {
      "cell_type": "code",
      "metadata": {
        "id": "fOxyiboSumZb"
      },
      "source": [
        "# 재귀함수 종료조건\n",
        "def recursive_function(i):\n",
        "  if i == 100:  # 100번째 출력했을 때 종료되도록 종료 조건 명시\n",
        "    return\n",
        "  print(i, '번째 재귀함수에서', i + 1, '번째 재귀함수를 호출합니다.')\n",
        "  recursive_function(i + 1)\n",
        "  print(i, '번째 재귀함수를 종료합니다.')\n",
        "recursive_function(1)"
      ],
      "execution_count": null,
      "outputs": []
    },
    {
      "cell_type": "code",
      "metadata": {
        "colab": {
          "base_uri": "https://localhost:8080/"
        },
        "id": "HXpScd-UuzpK",
        "outputId": "35273a98-9f4e-4467-87db-26ecac904ecd"
      },
      "source": [
        "# 132p 팩토리얼 (2가지 방식으로 구현한 팩토리얼)\n",
        "\n",
        "# 반복적으로 구현한 n!\n",
        "def factorial_iterative(n):\n",
        "  result = 1\n",
        "  for i in range(1, n+1): # 1부터 n까지의 수를 차례대로 곱하기\n",
        "    result *= i\n",
        "  return result\n",
        "\n",
        "# 재귀적으로 구현한 n!\n",
        "def factorial_recursive(n): # n이 1 이하인 경우 1을 반환\n",
        "  if n <= 1:\n",
        "    return 1\n",
        "  return n * factorial_recursive(n-1)  # n! = n*(n-1)!를 그래로 코드로 작성하기\n",
        "\n",
        "print('반복적으로 구현:', factorial_iterative(5))\n",
        "print('재귀적으로 구현:', factorial_recursive(5))\n"
      ],
      "execution_count": null,
      "outputs": [
        {
          "output_type": "stream",
          "name": "stdout",
          "text": [
            "반복적으로 구현: 120\n",
            "재귀적으로 구현: 120\n"
          ]
        }
      ]
    },
    {
      "cell_type": "code",
      "metadata": {
        "id": "ma6IFRv8yIak",
        "colab": {
          "base_uri": "https://localhost:8080/"
        },
        "outputId": "a270f4b7-06c0-451f-ed1b-2fb97951eae9"
      },
      "source": [
        "# 유클리드 호제법\n",
        "# 두 자연수 A, B에 대하여 (A>B)A를 B로 나눈 나머지를 R이라고 합시다.\n",
        "# 이때 A와 B의 최대공약수는 B와 R의 최대공약수와 같습니다.\n",
        "\n",
        "def gcd(a, b):\n",
        "  if a % b == 0:\n",
        "    return b\n",
        "  else:\n",
        "    return gcd(b, a % b)\n",
        "\n",
        "print(gcd(192, 162))"
      ],
      "execution_count": null,
      "outputs": [
        {
          "output_type": "stream",
          "name": "stdout",
          "text": [
            "6\n"
          ]
        }
      ]
    },
    {
      "cell_type": "markdown",
      "metadata": {
        "id": "S8WCmg7G9brQ"
      },
      "source": [
        "## 3. DFS & BFS\n",
        "DFS : 깊이 우선 탐색\n",
        "노드와 간선으로 표현되며 이때 노드를 정점이라고 말함.\n",
        "\n",
        "그래프 탐색이란 하나의 노드를 시작으로 다수의 노드를 방문하는 것을 말함(스택 자료구조 혹은 재귀함수)를 이용"
      ]
    },
    {
      "cell_type": "code",
      "metadata": {
        "colab": {
          "base_uri": "https://localhost:8080/"
        },
        "id": "tl0jegBG6gQY",
        "outputId": "f39d552a-bb28-485f-e377-1c7d7a4c90a5"
      },
      "source": [
        "# DFS메서드 정의\n",
        "def dfs(graph, v, visited):\n",
        "  # 현재 노드를 방문 처리\n",
        "  visited[v] = True\n",
        "  print(v, end = ' ')\n",
        "  # 현재 노드와 연결된 다른 노드를 재귀적으로 방문\n",
        "  for i in graph[v]:\n",
        "    if not visited[i]:\n",
        "      dfs(graph, i, visited)\n",
        "\n",
        "# 각 노드가 연결된 정보를 표현(2차원 리스트)\n",
        "graph = [\n",
        "         [],\n",
        "         [2,3,8],\n",
        "         [1,7],\n",
        "         [1,4,5],\n",
        "         [3,5],\n",
        "         [3,4],\n",
        "         [7],\n",
        "         [2,6,8],\n",
        "         [1,7]\n",
        "]\n",
        "\n",
        "# 각 노드가 방문된 정보를 표현(1차원 리스트)\n",
        "visited = [False]*9\n",
        "\n",
        "#  정의된 DFS 함수 호출\n",
        "dfs(graph, 1, visited)"
      ],
      "execution_count": null,
      "outputs": [
        {
          "output_type": "stream",
          "name": "stdout",
          "text": [
            "1 2 7 6 8 3 4 5 "
          ]
        }
      ]
    },
    {
      "cell_type": "markdown",
      "metadata": {
        "id": "Lu66acg2EJIi"
      },
      "source": [
        "## 3. DFS & BFS\n",
        "BFS : 너비 우선 탐색\n",
        "가까운 노드부터 탐색하는 알고리즘\n",
        "\n",
        "큐 자료구조를 이용하며, 구체적인 동작과정은 다음과 같다.\n",
        "1. 탐색 시작 노드를 큐에 삽입하고 방문처리를 합니다.\n",
        "2. 큐에서 노드를 꺼낸 뒤에 해당 노드의 인접 노드 중에서 방문하지 않은 노드를 모두 큐에 삽입하고 방문처리합니다.\n",
        "3. 더 이상 2번의 과정을 수행할 수 없을 때까지 반복"
      ]
    },
    {
      "cell_type": "code",
      "metadata": {
        "colab": {
          "base_uri": "https://localhost:8080/"
        },
        "id": "aFj7x0cX-uUX",
        "outputId": "d3b46a1a-7192-4829-912c-9da0ea41f02e"
      },
      "source": [
        "from collections import deque\n",
        "\n",
        "# BFS 메서드 정의\n",
        "def bfs(graph, start, visted):\n",
        "  # 큐 구현을 위해 deque 라이브러리 사용\n",
        "  queue = deque([start])\n",
        "  # 현재 노드를 방문 처리\n",
        "  visited[start] = True\n",
        "  # 큐가 빌 때까지 반복\n",
        "  while queue:\n",
        "    # 큐에서 하나의 원소를 뽑아 출력\n",
        "    v = queue.popleft()\n",
        "    print(v, end = ' ')\n",
        "    # 해당 원소와 연결된, 아직 방문하지 않은 원소들을 큐에 삽입\n",
        "    for i in graph[v]:\n",
        "      if not visited[i]:\n",
        "        queue.append(i)\n",
        "        visited[i] = True\n",
        "\n",
        "\n",
        "# 각 노드가 연결된 정보를 표현(2차원 리스트)\n",
        "graph = [\n",
        "         [],\n",
        "         [2,3,8],\n",
        "         [1,7],\n",
        "         [1,4,5],\n",
        "         [3,5],\n",
        "         [3,4],\n",
        "         [7],\n",
        "         [2,6,8],\n",
        "         [1,7]\n",
        "]\n",
        "\n",
        "# 각 노드가 방문된 정보를 표현(1차원 리스트)\n",
        "visited = [False]*9\n",
        "\n",
        "#  정의된 DFS 함수 호출\n",
        "bfs(graph, 1, visited)"
      ],
      "execution_count": null,
      "outputs": [
        {
          "output_type": "stream",
          "name": "stdout",
          "text": [
            "1 2 3 8 7 4 5 6 "
          ]
        }
      ]
    },
    {
      "cell_type": "markdown",
      "metadata": {
        "id": "jG0GvhhvKC1v"
      },
      "source": [
        "### 149p DFS & BFS [실습3] 음료수 얼려 먹기\n",
        "N * M 크기의 얼음 틀이 있다. 구멍이 뚫려 있는 부분은 0, 칸막이가 존재하는 부분은 1로 표시된다. 구멍이 뚫려 있는 부분끼리 상, 하, 좌, 우로 붙어 있는 경우 서로 연결되어 있는 것으로 간주한다. 이때, 얼음 틀의 모양이 주어졌을 때 생성되는 총 아이스크림의 개수를 구하는 프로그램을 작성하시오. 다음의 4X5 얼음\n",
        "틀 예시에서는 아이스크림이 총 3개 생성된다.\n",
        "\n",
        "[입력]\n",
        "\n",
        "1. 첫 번째 얼음 틀의 세로 길이 N과 가로 길이 M이 주어진다(1 <= N, M <= 1000)\n",
        "\n",
        "2. 두 번째 줄부터 N+1번째 줄까지 얼음 틀의 형태가 주어진다.\n",
        "이때, 구멍이 뚫혀 있는 부분은 0, 그렇지 않은 부분은 1이다.\n",
        "\n",
        "[출력]\n",
        "\n",
        "한 번에 만들 수 있는 아이스크림의 개수를 출력\n",
        "\n",
        "[입력 예시]\n",
        "\n",
        "15 14\n",
        "000001111000000\n",
        "...\n",
        "...\n",
        "...\n",
        "111000111111111\n",
        "\n",
        "[출력 예시]\n",
        "\n",
        "8"
      ]
    },
    {
      "cell_type": "code",
      "metadata": {
        "id": "I6O6iPlHF7oq",
        "colab": {
          "base_uri": "https://localhost:8080/"
        },
        "outputId": "07011586-263e-4194-dcf4-516d1c270047"
      },
      "source": [
        "# N, M을 공백을 기준으로 구분하여 입력 받기\n",
        "n, m = map(int, input().split())\n",
        "\n",
        "# 2차원 리스트의 맵 정보 입력 받기\n",
        "graph = []\n",
        "for i in range(n):\n",
        "  graph.append(list(map(int, input())))\n",
        "\n",
        "# dfs로 특정 노드를 방문하고 연결된 노드들도 방문\n",
        "def dfs(x,y):\n",
        "  # 주어진 범위를 벗어나는 경우에는 즉시 종료\n",
        "  if x <= -1 or x >= n or y <= -1 or y >= m:\n",
        "    return False\n",
        "  # 현재 노드를 아직 방문하지 않았다면\n",
        "  if graph[x][y] == 0:\n",
        "    # 해당 노드 방문 처리\n",
        "    graph[x][y] = 1\n",
        "    # 상하좌우의 위치들도 모두 재귀적으로 호출\n",
        "    dfs(x-1, y)\n",
        "    dfs(x,y-1)\n",
        "    dfs(x+1, y)\n",
        "    dfs(x, y+1)\n",
        "    return True\n",
        "  return False\n",
        "\n",
        "# 모든 노드(위치)에 대하여 음료수 채우기\n",
        "result = 0\n",
        "for i in range(n):\n",
        "  for j in range(m):\n",
        "    # 현재 위치에서 DFS 수행\n",
        "    if dfs(i, j) == True:\n",
        "      result += 1\n",
        "print(result) # 정답 출력"
      ],
      "execution_count": null,
      "outputs": [
        {
          "output_type": "stream",
          "name": "stdout",
          "text": [
            "4 5\n",
            "00110\n",
            "00011\n",
            "11111\n",
            "00000\n",
            "3\n"
          ]
        }
      ]
    },
    {
      "cell_type": "markdown",
      "metadata": {
        "id": "aZjX7D7c6LJG"
      },
      "source": [
        "### 149p DFS & BFS [실습4] 미로탈출\n",
        "- 동빈이는 N * M 크기의 직사각형 형태의 미로에 갇혔습니다. 미로에는 여러 마리의 괴물이 있어 이를 피해 탈출해야 합니다.\n",
        "- 동빈이의 위치는 (1, 1)이며 미로의 출구는 (N, M)의 위치에 존재하며 한 번에 한 칸씩 이동할 수 있습니다. 이때 괴물이 있는 부분은 0으로, 괴물이 없는 부분은 1로 표시되어 있습니다. 미로는 반드시 탈출할 수 있는 형태로 제시됩니다.\n",
        "- 이제 동빈이가 탈출하기 위해 움직여야 하는 최소 칸의 개수를 구하세요. 칸을 셀 때는 시작 칸과 마지막 칸을 모두 포함해서 계산합니다.\n",
        "\n",
        "\n",
        "[입력]\n",
        "\n",
        "1. 첫째 줄에 두 정수 N,M(4 <= N, M <= 200)이 주어집니다. 다음 N개의 줄에는 각각 M개의 정수(0 혹은 1)로 미로의 정보가 주어집니다. 각각의 수들은 공백 없이 붙어서 입력으로 제시됩니다. 또한 시작칸과 마지막칸은 항상 1입니다.\n",
        "\n",
        "[출력]\n",
        "\n",
        "첫째 줄에 최소 이동 칸의 개수를 출력합니다.\n",
        "\n",
        "[입력 예시]\n",
        "\n",
        "5 6\n",
        "\n",
        "101010\n",
        "\n",
        "111111\n",
        "\n",
        "000001\n",
        "\n",
        "111111\n",
        "\n",
        "111111\n",
        "\n",
        "[출력 예시]\n",
        "\n",
        "10"
      ]
    },
    {
      "cell_type": "code",
      "metadata": {
        "colab": {
          "base_uri": "https://localhost:8080/"
        },
        "id": "sXOhWMBx3IK-",
        "outputId": "2432e1d9-6b19-4535-f7c0-d564526bafca"
      },
      "source": [
        "from collections import deque\n",
        "\n",
        "# N, M을 공백을 기준으로 구분하여 입력 받기\n",
        "n, m = map(int, input().split())\n",
        "# 2차원 리스트의 맵 정보 입력 받기\n",
        "graph = []\n",
        "for i in range(n):\n",
        "    graph.append(list(map(int, input())))\n",
        "\n",
        "# 이동할 네 가지 방향 정의 (상, 하, 좌, 우)\n",
        "dx = [-1, 1, 0, 0]\n",
        "dy = [0, 0, -1, 1]\n",
        "\n",
        "# BFS 소스코드 구현\n",
        "def bfs(x, y):\n",
        "    # 큐(Queue) 구현을 위해 deque 라이브러리 사용\n",
        "    queue = deque()\n",
        "    queue.append((x, y))\n",
        "    # 큐가 빌 때까지 반복하기\n",
        "    while queue:\n",
        "        x, y = queue.popleft()\n",
        "        # 현재 위치에서 4가지 방향으로의 위치 확인\n",
        "        for i in range(4):\n",
        "            nx = x + dx[i]\n",
        "            ny = y + dy[i]\n",
        "            # 미로 찾기 공간을 벗어난 경우 무시\n",
        "            if nx < 0 or nx >= n or ny < 0 or ny >= m:\n",
        "                continue\n",
        "            # 벽인 경우 무시\n",
        "            if graph[nx][ny] == 0:\n",
        "                continue\n",
        "            # 해당 노드를 처음 방문하는 경우에만 최단 거리 기록\n",
        "            if graph[nx][ny] == 1:\n",
        "                graph[nx][ny] = graph[x][y] + 1\n",
        "                queue.append((nx, ny))\n",
        "    # 가장 오른쪽 아래까지의 최단 거리 반환\n",
        "    return graph[n - 1][m - 1]\n",
        "\n",
        "# BFS를 수행한 결과 출력\n",
        "print(bfs(0, 0))"
      ],
      "execution_count": null,
      "outputs": [
        {
          "output_type": "stream",
          "name": "stdout",
          "text": [
            "5 6\n",
            "101010\n",
            "111111\n",
            "000001\n",
            "111111\n",
            "111111\n",
            "10\n"
          ]
        }
      ]
    },
    {
      "cell_type": "code",
      "metadata": {
        "id": "wBrFPOl8D-pn"
      },
      "source": [
        ""
      ],
      "execution_count": null,
      "outputs": []
    }
  ]
}