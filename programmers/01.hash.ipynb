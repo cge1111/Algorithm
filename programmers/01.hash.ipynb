{
 "cells": [
  {
   "cell_type": "markdown",
   "id": "d86cfee0",
   "metadata": {},
   "source": [
    "### 1. 완주하지 못한 선수\n",
    "\n",
    "https://programmers.co.kr/learn/courses/30/lessons/42576"
   ]
  },
  {
   "cell_type": "code",
   "execution_count": 31,
   "id": "98f8b847",
   "metadata": {},
   "outputs": [
    {
     "name": "stdout",
     "output_type": "stream",
     "text": [
      "leo\n"
     ]
    }
   ],
   "source": [
    "participant = [\"leo\", \"kiki\", \"eden\"]\n",
    "completion = [\"eden\", \"kiki\"]\n",
    "answer = ''\n",
    "def solution(participant, completion):\n",
    "    p = {participant[x] : 0 for x in range(len(participant))} # {참가자이름:수}형식으로 딕셔너리 p 생성\n",
    "    for i in participant: \n",
    "        p[i] += 1\n",
    "        \n",
    "    for i in completion:  # completion을 key로 p value 감소\n",
    "        p[i] -= 1\n",
    "        \n",
    "    for i,j in p.items():\n",
    "        if j == 1:\n",
    "            answer = i\n",
    "            break\n",
    "    return answer\n",
    "print(solution(participant, completion))"
   ]
  },
  {
   "cell_type": "code",
   "execution_count": 24,
   "id": "0afea899",
   "metadata": {},
   "outputs": [
    {
     "name": "stdout",
     "output_type": "stream",
     "text": [
      "leo\n"
     ]
    }
   ],
   "source": [
    "def solution(participant, completion):\n",
    "    participant.sort()\n",
    "    completion.sort()\n",
    "    for i,j in zip(participant, completion):\n",
    "        if i != j:\n",
    "            return i\n",
    "    return participant.pop()\n",
    "\n",
    "print(solution([\"leo\", \"kiki\", \"eden\"],[\"eden\", \"kiki\"]))"
   ]
  },
  {
   "cell_type": "code",
   "execution_count": 30,
   "id": "61dac1ea",
   "metadata": {},
   "outputs": [
    {
     "name": "stdout",
     "output_type": "stream",
     "text": [
      "leo\n"
     ]
    }
   ],
   "source": [
    "def solution(participant, completion):\n",
    "    participant.sort()\n",
    "    completion.sort()\n",
    "    for i in range(len(completion)):\n",
    "        if participant[i] != completion[i]:\n",
    "            return participant[i]\n",
    "    return participant[len(participant)-1]\n",
    "print(solution([\"leo\", \"kiki\", \"eden\"],[\"eden\", \"kiki\"]))"
   ]
  },
  {
   "cell_type": "code",
   "execution_count": 27,
   "id": "da08ba01",
   "metadata": {},
   "outputs": [
    {
     "name": "stdout",
     "output_type": "stream",
     "text": [
      "leo\n"
     ]
    }
   ],
   "source": [
    "import collections\n",
    "def solution(participant, completion):\n",
    "    answer = collections.Counter(participant) - collections.Counter(completion)\n",
    "    return list(answer.keys())[0]\n",
    "\n",
    "print(solution([\"leo\", \"kiki\", \"eden\"],[\"eden\", \"kiki\"]))"
   ]
  },
  {
   "cell_type": "code",
   "execution_count": 29,
   "id": "2d9845a4",
   "metadata": {},
   "outputs": [
    {
     "name": "stdout",
     "output_type": "stream",
     "text": [
      "leo\n"
     ]
    }
   ],
   "source": [
    "# hash 사용\n",
    "def solution(participant, completion):\n",
    "    answer = ''\n",
    "    temp = 0\n",
    "    dic = {}\n",
    "    for part in participant:\n",
    "        dic[hash(part)] = part\n",
    "        temp += int(hash(part))\n",
    "    for com in completion:\n",
    "        temp -= hash(com)\n",
    "    answer = dic[temp]\n",
    "\n",
    "    return answer\n",
    "\n",
    "print(solution([\"leo\", \"kiki\", \"eden\"],[\"eden\", \"kiki\"]))"
   ]
  },
  {
   "cell_type": "markdown",
   "id": "da09b67f",
   "metadata": {},
   "source": [
    "### 2. 전화번호 목록\n",
    "\n",
    "https://programmers.co.kr/learn/courses/30/lessons/42577"
   ]
  },
  {
   "cell_type": "code",
   "execution_count": null,
   "id": "48d499b2",
   "metadata": {},
   "outputs": [],
   "source": []
  }
 ],
 "metadata": {
  "kernelspec": {
   "display_name": "Python 3 (ipykernel)",
   "language": "python",
   "name": "python3"
  },
  "language_info": {
   "codemirror_mode": {
    "name": "ipython",
    "version": 3
   },
   "file_extension": ".py",
   "mimetype": "text/x-python",
   "name": "python",
   "nbconvert_exporter": "python",
   "pygments_lexer": "ipython3",
   "version": "3.8.13"
  }
 },
 "nbformat": 4,
 "nbformat_minor": 5
}
