{
 "cells": [
  {
   "cell_type": "markdown",
   "id": "ee948a01",
   "metadata": {},
   "source": [
    "HashMap이란 Key-Value의 Pair를 관리하는 Dictionary이다.\n",
    "이 문제에서 Key는 옷의 종류가 되고, Value는 해당 옷 종류의 가짓수(count)를 의미한다.\n",
    "\n",
    "2) clothes 배열에 존재하는 모든 옷의 종류의 count table 만들기\n",
    "\n",
    "'Hashing을 한다'라고도 표현하는데, HashMap에 의상 종류를 전부 추가해보자. \n",
    "위 코드의 동작 방식은 다음 예시로 설명하는 것이 가장 쉽게 이해가 가능할 것이다.\n",
    "\n",
    "\n",
    "\n",
    "Hash Map을 보고 나면 별게 아니다. 이 문제에서는 Key 값으로 전화번호를 관리하는 전화번호부 같은 것이다.\n",
    "HashMap.get(type, 0)\n",
    "\n",
    "이 함수는 'B'라는 Key에 해당하는 Value가 있으면 가져오고, 아닐 경우 0을 Default로 지정하여 사용하겠다는 의미의 함수이다.\n",
    "Value는 곧 옷 종류의 가짓수가 되기 때문에, 이전에 값이 있었으면 기존 값에 + 1을 하면 되고\n",
    "없었으면 1을 입력하면 된다.\n",
    "\n",
    "\n",
    "\n",
    "3) 각 옷 종류별 경우의 수를 answer에 곱해준다\n",
    "\n",
    "이제 모든 옷 종류의 count가 잘 입력되었다면, answer에 곱해주면 된다.\n",
    "하지만 모든 옷 종류에 대해서 안 입는 경우가 있기 때문에 ans *= it.next().intValue()라고 하지 않고\n",
    "ans *= it.next().intValue() + 1을 곱해줘야 한다.\n",
    "즉, +1은 각 옷 종류를 입지 않는 경우를 고려하기 위해 추가되어야 하는 것이다.\n",
    "\n",
    "4) 예외처리\n",
    "\n",
    "아무리 스파이가 모자 하나만 달랑 입어도 된다고 해도, 아무것도 입지 않는 것은 허용되지 않는 것이 문제의 전제이다.\n",
    "그렇기 때문에 마지막에 -1을 해줘서 모든 옷의 종류를 입지 않은 경우 1개를 제외시켜 주고,\n",
    "예제 #2에서도 동일하게 잘 동작하는 걸 확인하면 제출해보고 정답임을 확인할 수 있다.\n",
    "출처: https://coding-grandpa.tistory.com/88 [개발자로 취직하기:티스토리]"
   ]
  },
  {
   "cell_type": "markdown",
   "id": "d86cfee0",
   "metadata": {},
   "source": [
    "### 완주하지 못한 선수\n",
    "\n",
    "https://programmers.co.kr/learn/courses/30/lessons/42576"
   ]
  },
  {
   "cell_type": "code",
   "execution_count": 31,
   "id": "98f8b847",
   "metadata": {},
   "outputs": [
    {
     "name": "stdout",
     "output_type": "stream",
     "text": [
      "leo\n"
     ]
    }
   ],
   "source": [
    "participant = [\"leo\", \"kiki\", \"eden\"]\n",
    "completion = [\"eden\", \"kiki\"]\n",
    "answer = ''\n",
    "def solution(participant, completion):\n",
    "    p = {participant[x] : 0 for x in range(len(participant))} # {참가자이름:수}형식으로 딕셔너리 p 생성\n",
    "    for i in participant: \n",
    "        p[i] += 1\n",
    "        \n",
    "    for i in completion:  # completion을 key로 p value 감소\n",
    "        p[i] -= 1\n",
    "        \n",
    "    for i,j in p.items():\n",
    "        if j == 1:\n",
    "            answer = i\n",
    "            break\n",
    "    return answer\n",
    "print(solution(participant, completion))"
   ]
  },
  {
   "cell_type": "code",
   "execution_count": 24,
   "id": "0afea899",
   "metadata": {},
   "outputs": [
    {
     "name": "stdout",
     "output_type": "stream",
     "text": [
      "leo\n"
     ]
    }
   ],
   "source": [
    "def solution(participant, completion):\n",
    "    participant.sort()\n",
    "    completion.sort()\n",
    "    for i,j in zip(participant, completion):\n",
    "        if i != j:\n",
    "            return i\n",
    "    return participant.pop()\n",
    "\n",
    "print(solution([\"leo\", \"kiki\", \"eden\"],[\"eden\", \"kiki\"]))"
   ]
  },
  {
   "cell_type": "code",
   "execution_count": 30,
   "id": "61dac1ea",
   "metadata": {},
   "outputs": [
    {
     "name": "stdout",
     "output_type": "stream",
     "text": [
      "leo\n"
     ]
    }
   ],
   "source": [
    "def solution(participant, completion):\n",
    "    participant.sort()\n",
    "    completion.sort()\n",
    "    for i in range(len(completion)):\n",
    "        if participant[i] != completion[i]:\n",
    "            return participant[i]\n",
    "    return participant[len(participant)-1]\n",
    "print(solution([\"leo\", \"kiki\", \"eden\"],[\"eden\", \"kiki\"]))"
   ]
  },
  {
   "cell_type": "code",
   "execution_count": 27,
   "id": "da08ba01",
   "metadata": {},
   "outputs": [
    {
     "name": "stdout",
     "output_type": "stream",
     "text": [
      "leo\n"
     ]
    }
   ],
   "source": [
    "import collections\n",
    "def solution(participant, completion):\n",
    "    answer = collections.Counter(participant) - collections.Counter(completion)\n",
    "    return list(answer.keys())[0]\n",
    "\n",
    "print(solution([\"leo\", \"kiki\", \"eden\"],[\"eden\", \"kiki\"]))"
   ]
  },
  {
   "cell_type": "code",
   "execution_count": 29,
   "id": "2d9845a4",
   "metadata": {},
   "outputs": [
    {
     "name": "stdout",
     "output_type": "stream",
     "text": [
      "leo\n"
     ]
    }
   ],
   "source": [
    "# hash 사용\n",
    "def solution(participant, completion):\n",
    "    answer = ''\n",
    "    temp = 0\n",
    "    dic = {}\n",
    "    for part in participant:\n",
    "        dic[hash(part)] = part\n",
    "        temp += int(hash(part))\n",
    "    for com in completion:\n",
    "        temp -= hash(com)\n",
    "    answer = dic[temp]\n",
    "\n",
    "    return answer\n",
    "\n",
    "print(solution([\"leo\", \"kiki\", \"eden\"],[\"eden\", \"kiki\"]))"
   ]
  },
  {
   "cell_type": "markdown",
   "id": "da09b67f",
   "metadata": {},
   "source": [
    "###  전화번호 목록\n",
    "\n",
    "https://programmers.co.kr/learn/courses/30/lessons/42577"
   ]
  },
  {
   "cell_type": "code",
   "execution_count": 8,
   "id": "48d499b2",
   "metadata": {},
   "outputs": [],
   "source": [
    "def solution(phone_book):\n",
    "    answer = True\n",
    "    phone_book.sort()\n",
    "    for i in range(len(phone_book)-1):\n",
    "        if len(phone_book[i]) < len(phone_book[i+1]):\n",
    "            if phone_book[i+1][:len(phone_book[i])] == phone_book[i]:\n",
    "                answer = False\n",
    "                break\n",
    "    return answer"
   ]
  },
  {
   "cell_type": "code",
   "execution_count": 14,
   "id": "7396a812",
   "metadata": {},
   "outputs": [
    {
     "name": "stdout",
     "output_type": "stream",
     "text": [
      "False\n",
      "True\n",
      "False\n"
     ]
    }
   ],
   "source": [
    "print(solution([\"119\", \"97674223\", \"1195524421\"]))\n",
    "print(solution([\"123\",\"456\",\"789\"]))\n",
    "print(solution([\"12\",\"123\",\"1235\",\"567\",\"88\"]))"
   ]
  },
  {
   "cell_type": "code",
   "execution_count": 16,
   "id": "72607012",
   "metadata": {},
   "outputs": [],
   "source": [
    "# zip, startswith 이용\n",
    "# zip은 함수 안의 각 리스트, 튜플, 문자열에 대하여 각 요소를 짝지어 주는 함수\n",
    "# startswith는 꽤 직관적인 함수로 p2가 p1으로 시작되면 True 아니면 False를 반환한다.\n",
    "def solution2(phone_book):\n",
    "    phone_book = sorted(phone_book)\n",
    "    for p1, p2 in zip(phone_book, phone_book[1:]):\n",
    "        if p2.startswith(p1):\n",
    "            return False\n",
    "    return True"
   ]
  },
  {
   "cell_type": "code",
   "execution_count": 17,
   "id": "ec84d5ed",
   "metadata": {},
   "outputs": [
    {
     "name": "stdout",
     "output_type": "stream",
     "text": [
      "False\n",
      "True\n",
      "False\n"
     ]
    }
   ],
   "source": [
    "print(solution2([\"119\", \"97674223\", \"1195524421\"]))\n",
    "print(solution2([\"123\",\"456\",\"789\"]))\n",
    "print(solution2([\"12\",\"123\",\"1235\",\"567\",\"88\"]))"
   ]
  },
  {
   "cell_type": "markdown",
   "id": "d8b784e3",
   "metadata": {},
   "source": [
    "### 위장\n",
    "\n",
    "https://programmers.co.kr/learn/courses/30/lessons/42578"
   ]
  },
  {
   "cell_type": "code",
   "execution_count": 24,
   "id": "16eac92b",
   "metadata": {},
   "outputs": [
    {
     "name": "stdout",
     "output_type": "stream",
     "text": [
      "5\n",
      "3\n"
     ]
    }
   ],
   "source": [
    "def solution3(clothes):\n",
    "    # 1. 옷을 종류별로 구분하기\n",
    "    hash_map = {}\n",
    "    for clothe, type in clothes:\n",
    "        hash_map[type] = hash_map.get(type, 0) + 1\n",
    "    \n",
    "    # 2. 입지 않는 경우를 추가하여 모든 조합 계산하기\n",
    "    answer = 1\n",
    "    for type in hash_map:\n",
    "        answer *= (hash_map[type] + 1)\n",
    "        \n",
    "    # 3. 아무종류의 옷도 입지 않는 경우 제외하기\n",
    "    return  answer -1\n",
    "\n",
    "print(solution3([[\"yellowhat\", \"headgear\"], [\"bluesunglasses\", \"eyewear\"], [\"green_turban\", \"headgear\"]]))\n",
    "print(solution3([[\"crowmask\", \"face\"], [\"bluesunglasses\", \"face\"], [\"smoky_makeup\", \"face\"]]))"
   ]
  },
  {
   "cell_type": "code",
   "execution_count": 29,
   "id": "884f112d",
   "metadata": {},
   "outputs": [
    {
     "name": "stdout",
     "output_type": "stream",
     "text": [
      "5\n",
      "3\n"
     ]
    }
   ],
   "source": [
    "def solutions(clothes):\n",
    "    # 각 종류별 count 계산\n",
    "    answer = {}\n",
    "    for i in clothes:\n",
    "        if i[1] in answer: answer[i[1]] += 1\n",
    "        else: answer[i[1]] = 1\n",
    "    # 계산한 count를 통해서 (count+1)를 곱해주고 마지막에 1을 빼줌\n",
    "        # 1을 뺴주는 이유는 모두 안입은 경우를 제거\n",
    "    cnt = 1\n",
    "    for i in answer.values():\n",
    "        cnt *= (i+1)\n",
    "    return cnt - 1\n",
    "print(solutions([[\"yellowhat\", \"headgear\"], [\"bluesunglasses\", \"eyewear\"], [\"green_turban\", \"headgear\"]]))\n",
    "print(solutions([[\"crowmask\", \"face\"], [\"bluesunglasses\", \"face\"], [\"smoky_makeup\", \"face\"]]))"
   ]
  },
  {
   "cell_type": "code",
   "execution_count": 28,
   "id": "f84f6775",
   "metadata": {},
   "outputs": [
    {
     "name": "stdout",
     "output_type": "stream",
     "text": [
      "5\n",
      "3\n"
     ]
    }
   ],
   "source": [
    "from collections import Counter\n",
    "from functools import reduce\n",
    "\n",
    "def solution_3(clothes):\n",
    "     # 1. 의상 종류별 Counter를 만든다.\n",
    "    counter = Counter([type for clothe, type in clothes])\n",
    "        \n",
    "    # 2. 모든 종류의 count + 1을 누적하여 곱해준다\n",
    "    answer = reduce(lambda acc, cur:acc*(cur+1), counter.values(),1)-1\n",
    "    return answer\n",
    "\n",
    "print(solution_3([[\"yellowhat\", \"headgear\"], [\"bluesunglasses\", \"eyewear\"], [\"green_turban\", \"headgear\"]]))\n",
    "print(solution_3([[\"crowmask\", \"face\"], [\"bluesunglasses\", \"face\"], [\"smoky_makeup\", \"face\"]]))"
   ]
  },
  {
   "cell_type": "code",
   "execution_count": null,
   "id": "e33e5de6",
   "metadata": {},
   "outputs": [],
   "source": []
  }
 ],
 "metadata": {
  "kernelspec": {
   "display_name": "Python 3 (ipykernel)",
   "language": "python",
   "name": "python3"
  },
  "language_info": {
   "codemirror_mode": {
    "name": "ipython",
    "version": 3
   },
   "file_extension": ".py",
   "mimetype": "text/x-python",
   "name": "python",
   "nbconvert_exporter": "python",
   "pygments_lexer": "ipython3",
   "version": "3.8.13"
  },
  "toc": {
   "base_numbering": 1,
   "nav_menu": {},
   "number_sections": true,
   "sideBar": true,
   "skip_h1_title": false,
   "title_cell": "Table of Contents",
   "title_sidebar": "Contents",
   "toc_cell": false,
   "toc_position": {},
   "toc_section_display": true,
   "toc_window_display": false
  }
 },
 "nbformat": 4,
 "nbformat_minor": 5
}
