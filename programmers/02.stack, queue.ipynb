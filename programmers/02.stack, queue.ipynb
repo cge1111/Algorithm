{
 "cells": [
  {
   "cell_type": "markdown",
   "id": "c0b92911",
   "metadata": {},
   "source": [
    "### 기능개발 Lv2.\n",
    "**문제 설명** <br>\n",
    "프로그래머스 팀에서는 기능 개선 작업을 수행 중입니다. 각 기능은 진도가 100%일 때 서비스에 반영할 수 있습니다.\n",
    "\n",
    "또, 각 기능의 개발속도는 모두 다르기 때문에 뒤에 있는 기능이 앞에 있는 기능보다 먼저 개발될 수 있고, 이때 뒤에 있는 기능은 앞에 있는 기능이 배포될 때 함께 배포됩니다.\n",
    "\n",
    "먼저 배포되어야 하는 순서대로 작업의 진도가 적힌 정수 배열 progresses와 각 작업의 개발 속도가 적힌 정수 배열 speeds가 주어질 때 각 배포마다 몇 개의 기능이 배포되는지를 return 하도록 solution 함수를 완성하세요.\n",
    "\n",
    "**제한 사항**\n",
    "- 작업의 개수(progresses, speeds배열의 길이)는 100개 이하입니다.\n",
    "- 작업 진도는 100 미만의 자연수입니다.\n",
    "- 작업 속도는 100 이하의 자연수입니다.\n",
    "- 배포는 하루에 한 번만 할 수 있으며, 하루의 끝에 이루어진다고 가정합니다. 예를 들어 진도율이 95%인 작업의 개발 속도가 하루에 4%라면 배포는 2일 뒤에 이루어집니다.\n",
    "**입출력 예**\n",
    "|progresses                 |  speeds               |return|\n",
    "| ------------------        | -------------------- | ----------- |\n",
    "|[93, 30, 55]               |[1, 30, 5]\t          |[2, 1]||\n",
    "|[95, 90, 99, 99, 80, 99]\t|[1, 1, 1, 1, 1, 1]   |\t[1, 3, 2]|\n",
    "\n",
    "**입출력 예 설명**<br>\n",
    "입출력 예 #1 <br>\n",
    "첫 번째 기능은 93% 완료되어 있고 하루에 1%씩 작업이 가능하므로 7일간 작업 후 배포가 가능합니다.\n",
    "두 번째 기능은 30%가 완료되어 있고 하루에 30%씩 작업이 가능하므로 3일간 작업 후 배포가 가능합니다. 하지만 이전 첫 번째 기능이 아직 완성된 상태가 아니기 때문에 첫 번째 기능이 배포되는 7일째 배포됩니다.\n",
    "세 번째 기능은 55%가 완료되어 있고 하루에 5%씩 작업이 가능하므로 9일간 작업 후 배포가 가능합니다.\n",
    "\n",
    "따라서 7일째에 2개의 기능, 9일째에 1개의 기능이 배포됩니다.\n",
    "\n",
    "입출력 예 #2<br>\n",
    "모든 기능이 하루에 1%씩 작업이 가능하므로, 작업이 끝나기까지 남은 일수는 각각 5일, 10일, 1일, 1일, 20일, 1일입니다. 어떤 기능이 먼저 완성되었더라도 앞에 있는 모든 기능이 완성되지 않으면 배포가 불가능합니다.\n",
    "\n",
    "따라서 5일째에 1개의 기능, 10일째에 3개의 기능, 20일째에 2개의 기능이 배포됩니다."
   ]
  },
  {
   "cell_type": "markdown",
   "id": "9c5eb21c",
   "metadata": {},
   "source": [
    "선입 선출 -> FIFO -> ``queue``\n",
    "\n",
    "1. 배포 갯수가 progresses > 0 ,answer에 추가\n",
    "2. progresses, speed = pop\n",
    "3. answer= append"
   ]
  },
  {
   "cell_type": "code",
   "execution_count": 1,
   "id": "747457c2",
   "metadata": {},
   "outputs": [],
   "source": [
    "def solution(progresses, speeds):\n",
    "    answer = []\n",
    "    \n",
    "    while progresses:\n",
    "        for i in range(len(progresses)): \n",
    "            progresses[i] += speeds[i] # progresses+speeds\n",
    "            \n",
    "        count = 0\n",
    "        while progresses and progresses[0] >= 100: # 진도율 100%이상일 때\n",
    "            progresses.pop(0)\n",
    "            speeds.pop(0)\n",
    "            count += 1\n",
    "        \n",
    "        if count > 0:\n",
    "            answer.append(count)\n",
    "    return answer"
   ]
  },
  {
   "cell_type": "code",
   "execution_count": 2,
   "id": "e3dea2f5",
   "metadata": {},
   "outputs": [
    {
     "data": {
      "text/plain": [
       "[2, 1]"
      ]
     },
     "execution_count": 2,
     "metadata": {},
     "output_type": "execute_result"
    }
   ],
   "source": [
    "progresses = list()\n",
    "speeds = list()\n",
    "solution([93, 30, 55],[1, 30, 5])"
   ]
  },
  {
   "cell_type": "code",
   "execution_count": 3,
   "id": "b3198532",
   "metadata": {},
   "outputs": [
    {
     "data": {
      "text/plain": [
       "[1, 3, 2]"
      ]
     },
     "execution_count": 3,
     "metadata": {},
     "output_type": "execute_result"
    }
   ],
   "source": [
    "solution([95, 90, 99, 99, 80, 99], [1, 1, 1, 1, 1, 1])"
   ]
  },
  {
   "cell_type": "code",
   "execution_count": 4,
   "id": "c9efb263",
   "metadata": {},
   "outputs": [],
   "source": [
    "# 그 외 풀이(큐 사용x)\n",
    "# []\n",
    "def solution(progresses, speeds):\n",
    "    Q=[]\n",
    "    for p, s in zip(progresses, speeds):\n",
    "        if len(Q)==0 or Q[-1][0]< -((p-100)//s): # 작업이 끝나기까지 필요한 일수\n",
    "            Q.append([-((p-100)//s),1]) # 작업일 수 구함\n",
    "        else:\n",
    "            Q[-1][1]+=1 # Q[i][0]일째 배포 가능한 기능 수\n",
    "            # 뒷 작업은 앞 작업이 끝나기까지 필요한 날짜와 비교해서 작으면 이미 앞작업에서 구했던 Q의 원소에서 기능수 부분에 +1 해주고 크면 list Q에 [필요한 일수, 기능수 = 1]의 형태로 새로 추가\n",
    "    return [q[1] for q in Q] # 원소 개수 만큼 반복이 끝나면 배포 가능한 수만 리턴\n",
    "# (p-100) // s => 내림한 음수(음수에서 내림은 절대값은 커짐)\n",
    "# -((p-100)//s) => 올림한 양수"
   ]
  },
  {
   "cell_type": "code",
   "execution_count": null,
   "id": "4a28f8c1",
   "metadata": {},
   "outputs": [],
   "source": []
  }
 ],
 "metadata": {
  "kernelspec": {
   "display_name": "Python 3 (ipykernel)",
   "language": "python",
   "name": "python3"
  },
  "language_info": {
   "codemirror_mode": {
    "name": "ipython",
    "version": 3
   },
   "file_extension": ".py",
   "mimetype": "text/x-python",
   "name": "python",
   "nbconvert_exporter": "python",
   "pygments_lexer": "ipython3",
   "version": "3.8.13"
  }
 },
 "nbformat": 4,
 "nbformat_minor": 5
}
