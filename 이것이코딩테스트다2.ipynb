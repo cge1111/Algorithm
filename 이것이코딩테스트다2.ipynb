{
  "nbformat": 4,
  "nbformat_minor": 0,
  "metadata": {
    "colab": {
      "name": "이것이코딩테스트다2.ipynb",
      "provenance": [],
      "collapsed_sections": [],
      "authorship_tag": "ABX9TyOCgUzOwA9DsgCPiopA1f9I",
      "include_colab_link": true
    },
    "kernelspec": {
      "name": "python3",
      "display_name": "Python 3"
    },
    "language_info": {
      "name": "python"
    }
  },
  "cells": [
    {
      "cell_type": "markdown",
      "metadata": {
        "id": "view-in-github",
        "colab_type": "text"
      },
      "source": [
        "<a href=\"https://colab.research.google.com/github/cge1111/Algorithmbasic/blob/main/%EC%9D%B4%EA%B2%83%EC%9D%B4%EC%BD%94%EB%94%A9%ED%85%8C%EC%8A%A4%ED%8A%B8%EB%8B%A42.ipynb\" target=\"_parent\"><img src=\"https://colab.research.google.com/assets/colab-badge.svg\" alt=\"Open In Colab\"/></a>"
      ]
    },
    {
      "cell_type": "markdown",
      "metadata": {
        "id": "65rmZX20RIWC"
      },
      "source": [
        "\n",
        "https://github.com/ndb796/python-for-coding-test/blob/master/3/2.py\n",
        "# 6. 정렬 알고리즘\n",
        "### 1) 선택 정렬\n",
        "처리되지 않은 데이터 중에서 가장 작은 데이터를 선택해 맨 앞에 있는 데이터와 바꾸는 것을 반복"
      ]
    },
    {
      "cell_type": "code",
      "metadata": {
        "colab": {
          "base_uri": "https://localhost:8080/"
        },
        "id": "STgfXpk6Q8j0",
        "outputId": "5fd2a2ad-841d-42c4-bacf-801824f9a842"
      },
      "source": [
        "array = [7,5,9,0,3,1,6,2,4,8]\n",
        "\n",
        "for i in range(len(array)):\n",
        "  min_index = i  # 가장 작은 원소의 인덱스 저장\n",
        "  for j in range(i + 1, len(array)): # i자리에 0이 들어갔다고 가정하여 i+1\n",
        "    if array[min_index] > array[j]:\n",
        "      min_index = j\n",
        "  array[i], array[min_index] = array[min_index], array[i]  # 스와프\n",
        "print(array)"
      ],
      "execution_count": null,
      "outputs": [
        {
          "output_type": "stream",
          "name": "stdout",
          "text": [
            "[0, 1, 2, 3, 4, 5, 6, 7, 8, 9]\n"
          ]
        }
      ]
    },
    {
      "cell_type": "markdown",
      "metadata": {
        "id": "HDvXTloCWoVN"
      },
      "source": [
        "### 2) 삽입 정렬\n",
        "처리되지 않은 데이터를 하나씩 골라 적절한 위치에 삽입\n",
        "\n",
        "데이터를 하나씩 확인하며, 각 데이터를 적절한 위치에 삽입"
      ]
    },
    {
      "cell_type": "code",
      "metadata": {
        "colab": {
          "base_uri": "https://localhost:8080/"
        },
        "id": "yLWwoSGQTrSd",
        "outputId": "4e16e528-45bd-4802-faa6-d29f4a2e7b69"
      },
      "source": [
        "array = [7,5,9,0,3,1,6,2,4,8]\n",
        "\n",
        "for i in range(1, len(array)): \n",
        "  for j in range(i, 0, -1): # 인덱스 i부터 1까지 1씩 감소하며 반복하는 문법\n",
        "    if array[j] < array[j-1]: # 한 칸씩 왼쪽으로 이동,  ex) j-1 = 7,j = 5인경우 자리바꿔야 함\n",
        "      array[j], array[j-1] = array[j-1], array[j]  \n",
        "    else: # 자기보다 작은 데이터를 만나면 그 위치에서 멈춤\n",
        "      break\n",
        "\n",
        "print(array)"
      ],
      "execution_count": null,
      "outputs": [
        {
          "output_type": "stream",
          "name": "stdout",
          "text": [
            "[0, 1, 2, 3, 4, 5, 6, 7, 8, 9]\n"
          ]
        }
      ]
    },
    {
      "cell_type": "markdown",
      "metadata": {
        "id": "CDLSqR3GrL2o"
      },
      "source": [
        "### 3) 퀵 정렬(호어 분할 방식)\n",
        "기준 데이터를 설정하고 그 기준보다 큰 데이터와 작은 데이터의 위치를 바꾸는 알고리즘\n",
        "\n",
        "피벗: 교환하기 위한 '기준'을 바로 피벗\n"
      ]
    },
    {
      "cell_type": "code",
      "metadata": {
        "id": "1Z2cvScdWmRd",
        "colab": {
          "base_uri": "https://localhost:8080/"
        },
        "outputId": "bdd7b09e-999c-4220-aed9-4bdd07c81d66"
      },
      "source": [
        "array = [5,7,9,0,3,1,6,2,4,8]\n",
        "def quick_sort(array, start, end):\n",
        "  if start >= end: # 원소가 1개인 경우 종료\n",
        "    return\n",
        "  pivot = start # 피벗은 첫번째 원소\n",
        "  left = start + 1\n",
        "  right = end\n",
        "  while (left <= right):\n",
        "    # 피벗보다 큰 데이터를 찾을 때까지 반복\n",
        "    while (left <= end and array[left] <= array[pivot]):\n",
        "      left += 1\n",
        "    # 피벗보다 작은 데이터를 찾을 때까지 반복\n",
        "    while (right > start and array[right] >= array[pivot]):\n",
        "      right -= 1   4 \n",
        "    if (left > right): # 엇갈렸다면 작은 right -= 1 데이터와 피벗을 교체\n",
        "      array[right], array[pivot] = array[pivot], array[right]\n",
        "    else: # 엇갈리지 않았다면 작은 데이터와 큰 데이터를 교체\n",
        "      array[left], array[pivot] = array[pivot], array[left]\n",
        "  # 분할 이후 왼쪽 부분과 오른쪽 부분에서 각각 정렬 수행\n",
        "  quick_sort(array, start, right -1)\n",
        "  quick_sort(array, right +1, end)\n",
        "\n",
        "quick_sort(array, 0, len(array)-1)\n",
        "print(array)"
      ],
      "execution_count": null,
      "outputs": [
        {
          "output_type": "stream",
          "name": "stdout",
          "text": [
            "[0, 1, 2, 4, 3, 5, 6, 7, 9, 8]\n"
          ]
        }
      ]
    },
    {
      "cell_type": "code",
      "metadata": {
        "id": "jV_ORbbeW_kv",
        "colab": {
          "base_uri": "https://localhost:8080/"
        },
        "outputId": "e8e97b63-4b44-4a03-ab1c-634e5f78331b"
      },
      "source": [
        "# 파이썬의 장점을 살린 퀵 정렬\n",
        "array = [5, 7, 9, 0, 3, 1, 6, 2, 4, 8]\n",
        "\n",
        "def quick_sort(array):\n",
        "  # 리스트가 하나 이하의 원소만을 담고 있다면 종료\n",
        "  if len(array) <= 1:\n",
        "    return array\n",
        "  \n",
        "  pivot = array[0] # 피벗은 첫번째 원소\n",
        "  tail = array[1:] # 피벗을 제외한 리스트\n",
        "\n",
        "  left_side = [x for x in tail if x <= pivot] # 분할된 왼쪽 부분\n",
        "  right_side = [x for x in tail if x > pivot] # 분할된 오른쪽 부분\n",
        "\n",
        "  # 분할된 이후 왼쪽 부분과 오른쪽 부분에서 각각 정렬을 수행하고, 전체 리스트를 반환\n",
        "  return quick_sort(left_side) + [pivot] + quick_sort(right_side)\n",
        "print(quick_sort(array))"
      ],
      "execution_count": null,
      "outputs": [
        {
          "output_type": "stream",
          "name": "stdout",
          "text": [
            "[0, 1, 2, 3, 4, 5, 6, 7, 8, 9]\n"
          ]
        }
      ]
    },
    {
      "cell_type": "code",
      "metadata": {
        "colab": {
          "base_uri": "https://localhost:8080/"
        },
        "id": "gjVLjR-9xPgK",
        "outputId": "ac4ae57f-8dc0-440c-f026-c8af92d8eb3e"
      },
      "source": [
        "array = [5,7,9,0,3,1,6,2,4,8]\n",
        "\n",
        "# 선택 정렬\n",
        "for i in range(len(array)):\n",
        "  min_index = i\n",
        "  for j in range(i+1, len(array)):\n",
        "    if array[min_index] > array[j]:\n",
        "      array[j], array[min_index] = array[min_index], array[j]\n",
        "print(f'1. 선택 정렬 {array}')\n",
        "\n",
        "# 삽입 정렬\n",
        "for i in range(len(array)):\n",
        "  for j in range(i,0,-1):\n",
        "    if array[j] < array[j-1]:\n",
        "      array[j], array[j-1] = array[j-1], array[j]\n",
        "    else:\n",
        "      break\n",
        "print(f'2. 삽입 정렬 {array}')\n",
        "# 퀵 정렬\n",
        "def quick_sort(array):\n",
        "  if len(array) <= 1:\n",
        "    return array\n",
        "  \n",
        "  pivot = array[0]\n",
        "  tail = array[1:]\n",
        "\n",
        "  left_side = [x for x in tail if x <= pivot]\n",
        "  right_side = [x for x in tail if x > pivot]\n",
        "\n",
        "  return quick_sort(left_side) + [pivot] + quick_sort(right_side) # return left_side + [pivot] + right_side\n",
        "print(f'3. 퀵 정렬   {quick_sort(array)}')"
      ],
      "execution_count": null,
      "outputs": [
        {
          "output_type": "stream",
          "name": "stdout",
          "text": [
            "1. 선택 정렬 [0, 1, 2, 3, 4, 5, 6, 7, 8, 9]\n",
            "2. 삽입 정렬 [0, 1, 2, 3, 4, 5, 6, 7, 8, 9]\n",
            "3. 퀵 정렬   [0, 1, 2, 3, 4, 5, 6, 7, 8, 9]\n"
          ]
        }
      ]
    },
    {
      "cell_type": "code",
      "metadata": {
        "id": "7Gh1facG9s08"
      },
      "source": [
        ""
      ],
      "execution_count": null,
      "outputs": []
    }
  ]
}