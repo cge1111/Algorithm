{
 "cells": [
  {
   "cell_type": "markdown",
   "id": "9ccb51d4",
   "metadata": {},
   "source": [
    "## 10773 제로\n",
    "\n",
    "> **문제** <br>\n",
    "나코더 기장 재민이는 동아리 회식을 준비하기 위해서 장부를 관리하는 중이다.<br>\n",
    "재현이는 재민이를 도와서 돈을 관리하는 중인데, 애석하게도 항상 정신없는 재현이는 돈을 실수로 잘못 부르는 사고를 치기 일쑤였다.<br>\n",
    "재현이는 잘못된 수를 부를 때마다 0을 외쳐서, 가장 최근에 재민이가 쓴 수를 지우게 시킨다.<br>\n",
    "재민이는 이렇게 모든 수를 받아 적은 후 그 수의 합을 알고 싶어 한다. 재민이를 도와주자!<br>\n",
    "\n",
    "> **입력** <br>\n",
    "첫 번째 줄에 정수 K가 주어진다. (1 ≤ K ≤ 100,000)<br>\n",
    "이후 K개의 줄에 정수가 1개씩 주어진다. 정수는 0에서 1,000,000 사이의 값을 가지며, 정수가 \"0\" 일 경우에는 가장 최근에 쓴 수를 지우고, 아닐 경우 해당 수를 쓴다.<br>\n",
    "정수가 \"0\"일 경우에 지울 수 있는 수가 있음을 보장할 수 있다.\n",
    "\n",
    "\n",
    "> **출력** <br>\n",
    "재민이가 최종적으로 적어 낸 수의 합을 출력한다. 최종적으로 적어낸 수의 합은 231-1보다 작거나 같은 정수이다.\n",
    "\n",
    "**예제 입력 1**<br>\n",
    "4<br>\n",
    "3<br>\n",
    "0<br>\n",
    "4<br>\n",
    "0\n",
    "\n",
    "**예제 출력 1**<br>\n",
    "0\n",
    "\n",
    "**예제 입력 2**<br>\n",
    "10<br>\n",
    "1<br>\n",
    "3<br>\n",
    "5<br>\n",
    "4<br>\n",
    "0<br>\n",
    "0<br>\n",
    "7<br>\n",
    "0<br>\n",
    "0<br>\n",
    "6\n",
    "\n",
    "**예제 출력 2**<br>\n",
    "7"
   ]
  },
  {
   "cell_type": "code",
   "execution_count": 1,
   "id": "85f727d7",
   "metadata": {},
   "outputs": [
    {
     "name": "stdout",
     "output_type": "stream",
     "text": [
      "10\n",
      "1\n",
      "3\n",
      "5\n",
      "4\n",
      "0\n",
      "0\n",
      "7\n",
      "0\n",
      "0\n",
      "6\n",
      "7\n"
     ]
    }
   ],
   "source": [
    "k = int(input())\n",
    "stack = []\n",
    "for _ in range(k):\n",
    "    n = int(input())\n",
    "    if n == 0:\n",
    "        stack.pop()\n",
    "    else:\n",
    "        stack.append(n)\n",
    "print(sum(stack))"
   ]
  },
  {
   "cell_type": "code",
   "execution_count": null,
   "id": "34ff3886",
   "metadata": {},
   "outputs": [],
   "source": []
  }
 ],
 "metadata": {
  "kernelspec": {
   "display_name": "Python 3 (ipykernel)",
   "language": "python",
   "name": "python3"
  },
  "language_info": {
   "codemirror_mode": {
    "name": "ipython",
    "version": 3
   },
   "file_extension": ".py",
   "mimetype": "text/x-python",
   "name": "python",
   "nbconvert_exporter": "python",
   "pygments_lexer": "ipython3",
   "version": "3.8.13"
  },
  "toc": {
   "base_numbering": 1,
   "nav_menu": {},
   "number_sections": true,
   "sideBar": true,
   "skip_h1_title": false,
   "title_cell": "Table of Contents",
   "title_sidebar": "Contents",
   "toc_cell": false,
   "toc_position": {},
   "toc_section_display": true,
   "toc_window_display": false
  }
 },
 "nbformat": 4,
 "nbformat_minor": 5
}
