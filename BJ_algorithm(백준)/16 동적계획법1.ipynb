{
 "cells": [
  {
   "cell_type": "markdown",
   "id": "6f8f769a",
   "metadata": {},
   "source": [
    "[백준 16단계](https://www.acmicpc.net/step/16)\n",
    "\n",
    "5, 10, 15\n",
    "\n",
    "[패캠강의](https://fastcampus.app/courses/211041/clips/619839?organizationProductId=10701)\n",
    "\n",
    "점화식 찾기\n",
    "\n",
    "- 빈리스트 만들기(입력값에 따른)\n",
    "- 초기값을 설정\n",
    "- 점화식을 기반으로 계산값 적용하기\n",
    "- 특정 입력값에 따른 계산값을 리스트에서 추출하기"
   ]
  },
  {
   "cell_type": "markdown",
   "id": "569b0fe7",
   "metadata": {},
   "source": [
    "동적 계획법"
   ]
  },
  {
   "cell_type": "markdown",
   "id": "eec6d06b",
   "metadata": {},
   "source": [
    "## 1003번 피보나치 함수\n",
    "\n",
    "> **문제** <br>\n",
    "fibonacci(3)을 호출하면 다음과 같은 일이 일어난다.<br>\n",
    "fibonacci(3)은 fibonacci(2)와 fibonacci(1) (첫 번째 호출)을 호출한다.<br>\n",
    "fibonacci(2)는 fibonacci(1) (두 번째 호출)과 fibonacci(0)을 호출한다.<br>\n",
    "두 번째 호출한 fibonacci(1)은 1을 출력하고 1을 리턴한다.<br>\n",
    "fibonacci(0)은 0을 출력하고, 0을 리턴한다.<br>\n",
    "fibonacci(2)는 fibonacci(1)과 fibonacci(0)의 결과를 얻고, 1을 리턴한다.<br>\n",
    "첫 번째 호출한 fibonacci(1)은 1을 출력하고, 1을 리턴한다.<br>\n",
    "fibonacci(3)은 fibonacci(2)와 fibonacci(1)의 결과를 얻고, 2를 리턴한다.<br>\n",
    "1은 2번 출력되고, 0은 1번 출력된다. N이 주어졌을 때, fibonacci(N)을 호출했을 때, 0과 1이 각각 몇 번 출력되는지 구하는 프로그램을 작성하시오.<br>\n",
    "\n",
    "> **입력** <br>\n",
    "첫째 줄에 테스트 케이스의 개수 T가 주어진다.<br>\n",
    "각 테스트 케이스는 한 줄로 이루어져 있고, N이 주어진다. N은 40보다 작거나 같은 자연수 또는 0이다.\n",
    "\n",
    "> **출력** <br>\n",
    "각 테스트 케이스마다 0이 출력되는 횟수와 1이 출력되는 횟수를 공백으로 구분해서 출력한다.\n",
    "\n",
    "**예제 입력 1**<br>\n",
    "3<br>\n",
    "0<br>\n",
    "1<br>\n",
    "3<br>\n",
    "\n",
    "**예제 출력 1**<br>\n",
    "1 0<br>\n",
    "0 1<br>\n",
    "1 2<br>\n",
    "\n",
    "**예제 입력 2**<br>\n",
    "2<br>\n",
    "6<br>\n",
    "22<br>\n",
    "\n",
    "**예제 출력 2**<br>\n",
    "5 8<br>\n",
    "10946 17711<br>\n"
   ]
  },
  {
   "cell_type": "code",
   "execution_count": 19,
   "id": "ff83ce74",
   "metadata": {},
   "outputs": [
    {
     "data": {
      "text/plain": [
       "55"
      ]
     },
     "execution_count": 19,
     "metadata": {},
     "output_type": "execute_result"
    }
   ],
   "source": [
    "def fibo_dp(num):\n",
    "    cache = [0 for index in range(num+1)]\n",
    "    cache[0] = 0\n",
    "    cache[1] = 1\n",
    "    \n",
    "    for index in range(2, num+1):\n",
    "        cache[index] = cache[index-1]+cache[index-2]\n",
    "    return cache[num]\n",
    "fibo_dp(10)"
   ]
  },
  {
   "cell_type": "code",
   "execution_count": 4,
   "id": "b06d3c62",
   "metadata": {},
   "outputs": [
    {
     "data": {
      "text/plain": [
       "[2, 10, 4, 6]"
      ]
     },
     "execution_count": 4,
     "metadata": {},
     "output_type": "execute_result"
    }
   ],
   "source": [
    "a = [2,4,5,6]\n",
    "a.insert(1, 10)\n",
    "a.append(3)\n",
    "a.pop(3)\n",
    "a.remove(3) # a에서 해당 값 삭제\n",
    "a"
   ]
  },
  {
   "cell_type": "code",
   "execution_count": 20,
   "id": "43ad4eb7",
   "metadata": {},
   "outputs": [
    {
     "name": "stdout",
     "output_type": "stream",
     "text": [
      "3\n",
      "0\n",
      "1 0\n",
      "1\n",
      "0 1\n",
      "3\n",
      "1 2\n"
     ]
    }
   ],
   "source": [
    "zero = [1,0,1] # 0,1의 호출횟수를 저장할 리스트 생성 fibo(2)까지 경우의 수\n",
    "one = [0,1,1]\n",
    "\n",
    "def fibo_dp(num):\n",
    "    length = len(one)\n",
    "    if num >= length: # 3이상이라면\n",
    "        for i in range(length, num+1):  \n",
    "            zero.append(zero[i-1]+zero[i-2]) # 피보나치 공식\n",
    "            one.append(one[i-1]+one[i-2])\n",
    "    print(f'{zero[num]} {one[num]}')\n",
    "    \n",
    "n = int(input())\n",
    "for _ in range(n):\n",
    "    fibo_dp(int(input()))"
   ]
  },
  {
   "cell_type": "markdown",
   "id": "766ebba4",
   "metadata": {},
   "source": [
    "## 1912번 연속합\n",
    "\n",
    "> **문제** <br>\n",
    "n개의 정수로 이루어진 임의의 수열이 주어진다. 우리는 이 중 연속된 몇 개의 수를 선택해서 구할 수 있는 합 중 가장 큰 합을 구하려고 한다. 단, 수는 한 개 이상 선택해야 한다.<br>\n",
    "예를 들어서 10, -4, 3, 1, 5, 6, -35, 12, 21, -1 이라는 수열이 주어졌다고 하자. 여기서 정답은 12+21인 33이 정답이 된다.\n",
    "\n",
    "> **입력** <br>\n",
    "첫째 줄에 정수 n(1 ≤ n ≤ 100,000)이 주어지고 둘째 줄에는 n개의 정수로 이루어진 수열이 주어진다. 수는 -1,000보다 크거나 같고, 1,000보다 작거나 같은 정수이다.<br>\n",
    "\n",
    "> **출력** <br>\n",
    "첫째 줄에 답을 출력한다.\n",
    "\n",
    "**예제 입력 1**<br>\n",
    "10<br>\n",
    "10 -4 3 1 5 6 -35 12 21 -1\n",
    "\n",
    "**예제 출력 1**<br>\n",
    "33\n",
    "\n",
    "**예제 입력 2**<br>\n",
    "10<br>\n",
    "2 1 -4 3 4 -4 6 5 -5 1\n",
    "\n",
    "**예제 출력 2**<br>\n",
    "14\n",
    "\n",
    "**예제 입력 3**<br>\n",
    "5<br>\n",
    "-1 -2 -3 -4 -5\n",
    "\n",
    "**예제 출력 3**<br>\n",
    "-1"
   ]
  },
  {
   "cell_type": "code",
   "execution_count": 41,
   "id": "c68b9048",
   "metadata": {
    "scrolled": true
   },
   "outputs": [
    {
     "name": "stdout",
     "output_type": "stream",
     "text": [
      "10\n",
      "10 -4 3 1 5 6 -35 12 21 -1\n",
      "[10, 6, 0, 0, 0, 0, 0, 0, 0, 0]\n",
      "[10, 6, 9, 0, 0, 0, 0, 0, 0, 0]\n",
      "[10, 6, 9, 10, 0, 0, 0, 0, 0, 0]\n",
      "[10, 6, 9, 10, 15, 0, 0, 0, 0, 0]\n",
      "[10, 6, 9, 10, 15, 21, 0, 0, 0, 0]\n",
      "[10, 6, 9, 10, 15, 21, -14, 0, 0, 0]\n",
      "[10, 6, 9, 10, 15, 21, -14, 12, 0, 0]\n",
      "[10, 6, 9, 10, 15, 21, -14, 12, 33, 0]\n",
      "[10, 6, 9, 10, 15, 21, -14, 12, 33, 32]\n",
      "33\n"
     ]
    }
   ],
   "source": [
    "n = int(input())\n",
    "result = list(map(int, input().split()))\n",
    "dp = [0]*n\n",
    "dp[0] = result[0]\n",
    "\n",
    "for i in range(1, len(result)):\n",
    "    dp[i] = max(result[i], dp[i-1]+result[i])\n",
    "    print(dp)\n",
    "print(max(dp))"
   ]
  },
  {
   "cell_type": "markdown",
   "id": "a81d4723",
   "metadata": {},
   "source": [
    "## 10844 쉬운 계단 수\n",
    "\n",
    "> **문제** <br>\n",
    "45656이란 수를 보자.<br>\n",
    "이 수는 인접한 모든 자리의 차이가 1이다. 이런 수를 계단 수라고 한다.<br>\n",
    "N이 주어질 때, 길이가 N인 계단 수가 총 몇 개 있는지 구해보자. **0으로 시작하는 수는 계단수가 아니다.**<br>\n",
    "\n",
    "> **입력** <br>\n",
    "첫째 줄에 N이 주어진다. N은 1보다 크거나 같고, 100보다 작거나 같은 자연수이다.<br>\n",
    "\n",
    "> **출력** <br>\n",
    "첫째 줄에 **정답을 1,000,000,000**으로 나눈 나머지를 출력한다.\n",
    "\n",
    "**예제 입력 1**<br>\n",
    "1\n",
    "\n",
    "**예제 출력 1**<br>\n",
    "9\n",
    "\n",
    "**예제 입력 2**<br>\n",
    "2\n",
    "\n",
    "**예제 출력 2**<br>\n",
    "17"
   ]
  },
  {
   "cell_type": "markdown",
   "id": "db133a4b",
   "metadata": {},
   "source": [
    "```\n",
    "점화식\n",
    "N(i): 자리 수, L(j): 앞에 오는 숫자\n",
    "N = 1\n",
    " => 1, 2, 3, 4, 5, 6, .....\n",
    "N = 2\n",
    " => 10, 12, 21, 23, 32, 34, 43, 45, ...\n",
    "dp[N][L] = dp[N-1][L-1] + dp[N-1][L+1]\n",
    "\n",
    "L = 0 => dp[N][L] = dp[N-1][L+1]\n",
    "L =(1~8) => dp[N][L] =dp[N-1][L-1] + dp[N-1][L+1]\n",
    "L = 9 => dp[N][L] = dp[N-1][L-1]\n",
    "```"
   ]
  },
  {
   "cell_type": "markdown",
   "id": "17446e28",
   "metadata": {},
   "source": [
    "<img src=\"https://img1.daumcdn.net/thumb/R1280x0/?scode=mtistory2&fname=https%3A%2F%2Fblog.kakaocdn.net%2Fdn%2Fb03GuZ%2FbtqSDvgKUo2%2F7ZuL7uaNAKS5sZRMdJsSd0%2Fimg.png\" width=\"600\" style=\"float:left\" />"
   ]
  },
  {
   "cell_type": "code",
   "execution_count": 17,
   "id": "7d159916",
   "metadata": {},
   "outputs": [
    {
     "name": "stdout",
     "output_type": "stream",
     "text": [
      "2\n",
      "17\n"
     ]
    }
   ],
   "source": [
    "N = int(input())\n",
    "dp = [[0]*10 for _ in range(N+1)]\n",
    "for i in range(1,10):\n",
    "    dp[1][i] = 1\n",
    "\n",
    "for i in range(2, N+1):\n",
    "    for j in range(10):\n",
    "        if j == 0:\n",
    "            dp[i][j] = dp[i-1][j+1]\n",
    "        elif j == 9:\n",
    "            dp[i][j] = dp[i-1][j-1]\n",
    "        else:\n",
    "            dp[i][j] = dp[i-1][j-1] + dp[i-1][j+1]\n",
    "print(sum(dp[N]) % 1000000000)"
   ]
  },
  {
   "cell_type": "code",
   "execution_count": 9,
   "id": "788a02c7",
   "metadata": {},
   "outputs": [
    {
     "name": "stdout",
     "output_type": "stream",
     "text": [
      "1\n",
      "9\n",
      "\n",
      "2\n",
      "17\n"
     ]
    }
   ],
   "source": [
    "def dp10(num):\n",
    "#     num = int(input())\n",
    "    dp = [[0]*10 for _ in range(num+1)]\n",
    "    for i in range(1,10):\n",
    "        dp[1][i] = 1\n",
    "    \n",
    "    for i in range(2, num+1):\n",
    "        for j in range(10):\n",
    "            if j == 0:\n",
    "                dp[i][j] = dp[i-1][j+1]\n",
    "            elif j == 9:\n",
    "                dp[i][j] = dp[i-1][j-1]\n",
    "            else:\n",
    "                dp[i][j] = dp[i-1][j-1] + dp[i-1][j+1]\n",
    "    return (sum(dp[num]) % 1000000000)\n",
    "\n",
    "\n",
    "print(dp10(int(input())))\n",
    "print()\n",
    "print(dp10(int(input())))"
   ]
  },
  {
   "cell_type": "markdown",
   "id": "543d6cc5",
   "metadata": {},
   "source": [
    "## 9251 LCS\n",
    "> **문제** <br>\n",
    "LCS(Longest Common Subsequence, 최장 공통 부분 수열)문제는 두 수열이 주어졌을 때, 모두의 부분 수열이 되는 수열 중 가장 긴 것을 찾는 문제이다.<br>\n",
    "예를 들어, ACAYKP와 CAPCAK의 LCS는 ACAK가 된다.\n",
    "\n",
    "> **입력** <br>\n",
    "첫째 줄과 둘째 줄에 두 문자열이 주어진다. 문자열은 알파벳 대문자로만 이루어져 있으며, 최대 1000글자로 이루어져 있다.\n",
    "\n",
    "> **출력** <br>\n",
    "첫째 줄에 입력으로 주어진 두 문자열의 LCS의 길이를 출력한다.\n",
    "\n",
    "**예제 입력 1**<br>\n",
    "ACAYKP <br>\n",
    "CAPCAK\n",
    "\n",
    "**예제 출력 1**<br>\n",
    "4"
   ]
  },
  {
   "cell_type": "code",
   "execution_count": 1,
   "id": "1bca3052",
   "metadata": {},
   "outputs": [
    {
     "name": "stdout",
     "output_type": "stream",
     "text": [
      "CAPCAK\n",
      "ACAYKP\n",
      "4\n"
     ]
    }
   ],
   "source": [
    "def LCS(x,y):\n",
    "    n = len(x)\n",
    "    m = len(y)\n",
    "    \n",
    "    L = [[0]*(m + 1) for _ in range(n + 1)]\n",
    "    \n",
    "    for i in range(n+1):\n",
    "        for j in range(m+1):\n",
    "            if (i == 0) or (j == 0):\n",
    "                L[i][j] = 0\n",
    "\n",
    "            # 두 문자가 같다\n",
    "            elif x[i-1] == y[j-1]:\n",
    "                L[i][j] = L[i-1][j-1] + 1\n",
    "\n",
    "            # 문자가 다를 경우\n",
    "            else: \n",
    "                L[i][j] = max(L[i - 1][j], L[i][j - 1])\n",
    "    return L[n][m]\n",
    "\n",
    "x = input()\n",
    "y = input()\n",
    "print(LCS(x,y))"
   ]
  },
  {
   "cell_type": "code",
   "execution_count": 13,
   "id": "319e9e07",
   "metadata": {},
   "outputs": [
    {
     "name": "stdout",
     "output_type": "stream",
     "text": [
      "CAPCAK\n",
      "ACAYKP\n",
      "4\n"
     ]
    }
   ],
   "source": [
    "def lcs(X, Y, m, n):\n",
    "  \n",
    "    if m == 0 or n == 0:\n",
    "         return 0;\n",
    "    elif X[m-1] == Y[n-1]:\n",
    "         return 1 + lcs(X, Y, m-1, n-1);\n",
    "    else:\n",
    "         return max(lcs(X, Y, m, n-1), lcs(X, Y, m-1, n));\n",
    "         \n",
    "  \n",
    "X = input()\n",
    "Y = input()\n",
    "print(lcs(X, Y, len(X), len(Y)))"
   ]
  },
  {
   "cell_type": "code",
   "execution_count": null,
   "id": "6c3b1409",
   "metadata": {},
   "outputs": [],
   "source": []
  }
 ],
 "metadata": {
  "kernelspec": {
   "display_name": "Python 3 (ipykernel)",
   "language": "python",
   "name": "python3"
  },
  "language_info": {
   "codemirror_mode": {
    "name": "ipython",
    "version": 3
   },
   "file_extension": ".py",
   "mimetype": "text/x-python",
   "name": "python",
   "nbconvert_exporter": "python",
   "pygments_lexer": "ipython3",
   "version": "3.8.13"
  },
  "toc": {
   "base_numbering": 1,
   "nav_menu": {},
   "number_sections": true,
   "sideBar": true,
   "skip_h1_title": false,
   "title_cell": "Table of Contents",
   "title_sidebar": "Contents",
   "toc_cell": false,
   "toc_position": {},
   "toc_section_display": true,
   "toc_window_display": false
  }
 },
 "nbformat": 4,
 "nbformat_minor": 5
}
