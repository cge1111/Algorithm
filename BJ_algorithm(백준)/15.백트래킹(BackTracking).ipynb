{
 "cells": [
  {
   "cell_type": "code",
   "execution_count": 1,
   "id": "53118bca",
   "metadata": {},
   "outputs": [],
   "source": [
    "import warnings\n",
    "warnings.filterwarnings(action='ignore')"
   ]
  },
  {
   "cell_type": "markdown",
   "id": "b0fb82d8",
   "metadata": {},
   "source": [
    "## 15649번 N과 M (1)\n",
    "\n",
    "> **문제** <br>\n",
    "자연수 N과 M이 주어졌을 때, 아래 조건을 만족하는 길이가 M인 수열을 모두 구하는 프로그램을 작성하시오.<br>\n",
    "1부터 N까지 자연수 중에서 중복 없이 M개를 고른 수열 <br>\n",
    "\n",
    "> **입력** <br>\n",
    "첫째 줄에 자연수 N과 M이 주어진다. (1 ≤ M ≤ N ≤ 8)<br>\n",
    "\n",
    "> **출력** <br>\n",
    "한 줄에 하나씩 문제의 조건을 만족하는 수열을 출력한다. 중복되는 수열을 여러 번 출력하면 안되며, 각 수열은 공백으로 구분해서 출력해야 한다.<br>\n",
    "수열은 사전 순으로 증가하는 순서로 출력해야 한다."
   ]
  },
  {
   "cell_type": "code",
   "execution_count": 30,
   "id": "eaa35b10",
   "metadata": {},
   "outputs": [
    {
     "name": "stdout",
     "output_type": "stream",
     "text": [
      "4 2\n",
      "1 2\n",
      "1 3\n",
      "1 4\n",
      "2 1\n",
      "2 3\n",
      "2 4\n",
      "3 1\n",
      "3 2\n",
      "3 4\n",
      "4 1\n",
      "4 2\n",
      "4 3\n"
     ]
    }
   ],
   "source": [
    "n, m = list(map(int, input().split()))\n",
    "result = []\n",
    "def dfs():\n",
    "    if len(result) == m:\n",
    "        print(' '.join(map(str,result)))\n",
    "        return\n",
    "\n",
    "    for i in range(1,n+1):\n",
    "        if i not in result:\n",
    "            result.append(i)\n",
    "            dfs()\n",
    "            result.pop()\n",
    "dfs()"
   ]
  },
  {
   "cell_type": "markdown",
   "id": "237155c2",
   "metadata": {},
   "source": [
    "## 15650번 N과 M (2)\n",
    "\n",
    "> **문제** <br>\n",
    "자연수 N과 M이 주어졌을 때, 아래 조건을 만족하는 길이가 M인 수열을 모두 구하는 프로그램을 작성하시오.<br>\n",
    "1부터 N까지 자연수 중에서 **중복 없이** M개를 고른 수열<br>\n",
    "고른 수열은 **오름차순**이어야 한다. <br>\n",
    "\n",
    "> **입력** <br>\n",
    "첫째 줄에 자연수 N과 M이 주어진다. (1 ≤ M ≤ N ≤ 8)<br>\n",
    "\n",
    "> **출력** <br>\n",
    "한 줄에 하나씩 문제의 조건을 만족하는 수열을 출력한다. 중복되는 수열을 여러 번 출력하면 안되며, 각 수열은 공백으로 구분해서 출력해야 한다.<br>\n",
    "수열은 사전 순으로 증가하는 순서로 출력해야 한다.\n",
    "\n",
    "DFS을 통해 1부터 탐색 -> 백트래킹을 통해 방문한 후 다시 방문하지 않도록 함"
   ]
  },
  {
   "cell_type": "code",
   "execution_count": 35,
   "id": "a78bc0ff",
   "metadata": {},
   "outputs": [
    {
     "name": "stdout",
     "output_type": "stream",
     "text": [
      "3 1\n",
      "1\n",
      "2\n",
      "3\n"
     ]
    }
   ],
   "source": [
    "n, m = list(map(int, input().split()))\n",
    "result = [] # 답을 넣을 리스트\n",
    "\n",
    "def dfs(start): \n",
    "    if len(result) == m: # 탈출\n",
    "        print(' '.join(map(str,result)))\n",
    "        return\n",
    "\n",
    "    for i in range(start,n+1): # start 노드 부터 +1 부터 반복\n",
    "        if i not in result: # 방문했으므로 true로 바꿈\n",
    "            result.append(i) \n",
    "            dfs(i+1) # 방문한 노드를 파라미터로 전달하여 이것보다 큰 것만 방문\n",
    "            result.pop() # 전 상태로 돌리기 위해\n",
    "dfs(1)"
   ]
  },
  {
   "cell_type": "markdown",
   "id": "d3e9b8d1",
   "metadata": {},
   "source": [
    "## 15651번 N과 M (3)\n",
    "> **문제** <br>\n",
    "자연수 N과 M이 주어졌을 때, 아래 조건을 만족하는 길이가 M인 수열을 모두 구하는 프로그램을 작성하시오.<br>\n",
    "1부터 N까지 자연수 중에서 중복 없이 M개를 고른 수열<br>\n",
    "고른 수열은 오름차순이어야 한다. <br>\n",
    "\n",
    "> **입력** <br>\n",
    "첫째 줄에 자연수 N과 M이 주어진다. (1 ≤ M ≤ N ≤ 8)<br>\n",
    "\n",
    "> **출력** <br>\n",
    "한 줄에 하나씩 문제의 조건을 만족하는 수열을 출력한다. 중복되는 수열을 여러 번 출력하면 안되며, 각 수열은 공백으로 구분해서 출력해야 한다.<br>\n",
    "수열은 사전 순으로 증가하는 순서로 출력해야 한다."
   ]
  },
  {
   "cell_type": "code",
   "execution_count": null,
   "id": "2de8395c",
   "metadata": {},
   "outputs": [],
   "source": []
  },
  {
   "cell_type": "markdown",
   "id": "24dc2e99",
   "metadata": {},
   "source": [
    "## 15650번 N과 M (4)\n",
    "\n",
    "> **문제** <br>\n",
    "자연수 N과 M이 주어졌을 때, 아래 조건을 만족하는 길이가 M인 수열을 모두 구하는 프로그램을 작성하시오.<br>\n",
    "1부터 N까지 자연수 중에서 중복 없이 M개를 고른 수열<br>\n",
    "고른 수열은 오름차순이어야 한다. <br>\n",
    "\n",
    "> **입력** <br>\n",
    "첫째 줄에 자연수 N과 M이 주어진다. (1 ≤ M ≤ N ≤ 8)<br>\n",
    "\n",
    "> **출력** <br>\n",
    "한 줄에 하나씩 문제의 조건을 만족하는 수열을 출력한다. 중복되는 수열을 여러 번 출력하면 안되며, 각 수열은 공백으로 구분해서 출력해야 한다.<br>\n",
    "수열은 사전 순으로 증가하는 순서로 출력해야 한다."
   ]
  },
  {
   "cell_type": "code",
   "execution_count": null,
   "id": "718ac28d",
   "metadata": {},
   "outputs": [],
   "source": []
  },
  {
   "cell_type": "markdown",
   "id": "2b96b97b",
   "metadata": {},
   "source": [
    "## 9663번 N-Queen\n",
    "\n",
    "> **문제** <br>\n",
    "N-Queen 문제는 크기가 N × N인 체스판 위에 퀸 N개를 서로 공격할 수 없게 놓는 문제이다. <br>\n",
    "N이 주어졌을 때, 퀸을 놓는 방법의 수를 구하는 프로그램을 작성하시오. <br>\n",
    "\n",
    "> **입력** <br>\n",
    "첫째 줄에 N이 주어진다. (1 ≤ N < 15) <br>\n",
    "\n",
    "\n",
    "> **출력** <br>\n",
    "첫째 줄에 퀸 N개를 서로 공격할 수 없게 놓는 경우의 수를 출력한다."
   ]
  },
  {
   "cell_type": "code",
   "execution_count": 40,
   "id": "6da71790",
   "metadata": {},
   "outputs": [
    {
     "name": "stdout",
     "output_type": "stream",
     "text": [
      "8\n"
     ]
    },
    {
     "data": {
      "text/plain": [
       "92"
      ]
     },
     "execution_count": 40,
     "metadata": {},
     "output_type": "execute_result"
    }
   ],
   "source": [
    "# python3 -> 시간초과...(pypy3 -> 통과)\n",
    "def is_available(candidate, current_col):\n",
    "    current_row = len(candidate)\n",
    "    for queen_row in range(current_row):    \n",
    "        if candidate[queen_row] == current_col or abs(candidate[queen_row] - current_col) == current_row - queen_row:\n",
    "            return False\n",
    "    return True\n",
    "\n",
    "\n",
    "def DFS(N, current_row, current_candidate, final_result):\n",
    "    if current_row == N:\n",
    "        final_result.append(current_candidate[:])\n",
    "        return\n",
    "    \n",
    "    for candidate_col in range(N):\n",
    "        if is_available(current_candidate, candidate_col):\n",
    "            current_candidate.append(candidate_col)\n",
    "            DFS(N, current_row + 1, current_candidate, final_result)\n",
    "            current_candidate.pop()\n",
    "\n",
    "def solve_n_queens(N):\n",
    "    final_result = []\n",
    "    DFS(N, 0, [], final_result)\n",
    "    return len(final_result)\n",
    "\n",
    "n = int(input())\n",
    "solve_n_queens(n)"
   ]
  },
  {
   "cell_type": "markdown",
   "id": "f8187292",
   "metadata": {},
   "source": [
    "## 2580번 스도쿠 - 고은\n",
    "\n",
    "\n",
    "> **문제** <br>\n",
    "스도쿠는 18세기 스위스 수학자가 만든 '라틴 사각형'이랑 퍼즐에서 유래한 것으로 현재 많은 인기를 누리고 있다. 이 게임은 아래 그림과 같이 가로, 세로 각각 9개씩 총 81개의 작은 칸으로 이루어진 정사각형 판 위에서 이뤄지는데, 게임 시작 전 일부 칸에는 1부터 9까지의 숫자 중 하나가 쓰여 있다.<br>\n",
    "나머지 빈 칸을 채우는 방식은 다음과 같다.<br>\n",
    "각각의 가로줄과 세로줄에는 1부터 9까지의 숫자가 한 번씩만 나타나야 한다.<br>\n",
    "굵은 선으로 구분되어 있는 3x3 정사각형 안에도 1부터 9까지의 숫자가 한 번씩만 나타나야 한다. <br>\n",
    "고른 수열은 오름차순이어야 한다. <br>\n",
    "위의 예의 경우, 첫째 줄에는 1을 제외한 나머지 2부터 9까지의 숫자들이 이미 나타나 있으므로 첫째 줄 빈칸에는 1이 들어가야 한다. <br>\n",
    "또한 위쪽 가운데 위치한 3x3 정사각형의 경우에는 3을 제외한 나머지 숫자들이 이미 쓰여있으므로 가운데 빈 칸에는 3이 들어가야 한다. <br>\n",
    "이와 같이 빈 칸을 차례로 채워 가면 다음과 같은 최종 결과를 얻을 수 있다.\n",
    " <br>\n",
    "게임 시작 전 스도쿠 판에 쓰여 있는 숫자들의 정보가 주어질 때 모든 빈 칸이 채워진 최종 모습을 출력하는 프로그램을 작성하시오.\n",
    "\n",
    "\n",
    "> **입력** <br>\n",
    "아홉 줄에 걸쳐 한 줄에 9개씩 게임 시작 전 스도쿠판 각 줄에 쓰여 있는 숫자가 한 칸씩 띄워서 차례로 주어진다. 스도쿠 판의 빈 칸의 경우에는 0이 주어진다. 스도쿠 판을 규칙대로 채울 수 없는 경우의 입력은 주어지지 않는다.<br>\n",
    "\n",
    "> **출력** <br>\n",
    "모든 빈 칸이 채워진 스도쿠 판의 최종 모습을 아홉 줄에 걸쳐 한 줄에 9개씩 한 칸씩 띄워서 출력한다.<br>\n",
    "스도쿠 판을 채우는 방법이 여럿인 경우는 그 중 하나만을 출력한다.<br>\n",
    "\n",
    "> DFS, 백트래킹\n",
    "\n",
    "\n",
    " <img src=\"https://upload.acmicpc.net/508363ac-0289-4a92-a639-427b10d66633/-/preview/png\" width=\"200\" style=\"float:left\" /> <img src=\" https://upload.acmicpc.net/fe68d938-770d-46ea-af71-a81076bc3963/-/preview/png\" width=\"200\" style=\"float:left\" />\n",
    " \n",
    " \n",
    " \n"
   ]
  },
  {
   "cell_type": "markdown",
   "id": "5ddf42b2",
   "metadata": {},
   "source": [
    "1. 먼저 문제에서 빈 칸은 0으로 주어지기 때문에 graph의 0인칸의 위치정보(x, y)를 blank 리스트에 넣어준다.\n",
    "2. 첫 번째 빈칸에 1~9까지의 수 중 넣을 수 있는 수를 넣는다. 넣을 수 있는 수는 빈칸의 행,열,3x3정사각형에 없는 수임을 확인하자. 확인이 되면 그 빈칸에는 그 수를 넣어준다.\n",
    "3. 그 다음 빈칸에 대해서도 같은 방법을 수행한다.\n",
    "4. 마지막 빈칸까지 채우면 스도쿠를 완성하므로 맵을 출력한다.\n"
   ]
  },
  {
   "cell_type": "code",
   "execution_count": 45,
   "id": "c63b9266",
   "metadata": {},
   "outputs": [
    {
     "name": "stdout",
     "output_type": "stream",
     "text": [
      "0 3 5 4 6 9 2 7 8\n",
      "7 8 2 1 0 5 6 0 9\n",
      "0 6 0 2 7 8 1 3 5\n",
      "3 2 1 0 4 6 8 9 7\n",
      "8 0 4 9 1 3 5 0 6\n",
      "5 9 6 8 2 0 4 1 3\n",
      "9 1 7 6 5 2 0 8 0\n",
      "6 0 3 7 0 1 9 5 2\n",
      "2 5 8 3 9 4 7 6 0\n",
      "1 3 5 4 6 9 2 7 8 \n",
      "7 8 2 1 3 5 6 4 9 \n",
      "4 6 9 2 7 8 1 3 5 \n",
      "3 2 1 5 4 6 8 9 7 \n",
      "8 7 4 9 1 3 5 2 6 \n",
      "5 9 6 8 2 7 4 1 3 \n",
      "9 1 7 6 5 2 3 8 4 \n",
      "6 4 3 7 8 1 9 5 2 \n",
      "2 5 8 3 9 4 7 6 1 \n"
     ]
    },
    {
     "ename": "SystemExit",
     "evalue": "0",
     "output_type": "error",
     "traceback": [
      "An exception has occurred, use %tb to see the full traceback.\n",
      "\u001b[0;31mSystemExit\u001b[0m\u001b[0;31m:\u001b[0m 0\n"
     ]
    },
    {
     "name": "stderr",
     "output_type": "stream",
     "text": [
      "/opt/homebrew/Caskroom/miniforge/base/envs/cge/lib/python3.8/site-packages/IPython/core/interactiveshell.py:3377: UserWarning: To exit: use 'exit', 'quit', or Ctrl-D.\n",
      "  warn(\"To exit: use 'exit', 'quit', or Ctrl-D.\", stacklevel=1)\n"
     ]
    }
   ],
   "source": [
    "import sys\n",
    "sudoku = [list(map(int, input().split())) for _ in range(9)]\n",
    "zero = [(i,j) for i in range(9) for j in range(9) if sudoku[i][j] == 0]\n",
    "\n",
    "# 행 체크\n",
    "# 행,열,3x3 배열에 있는 0이 아닌 숫자를 리스트에서 제거\n",
    "def checkrow(x,a):\n",
    "    for i in range(n):\n",
    "        if a == sudoku[x][i]:\n",
    "            return False\n",
    "        return True\n",
    "\n",
    "# 열 체크\n",
    "def checkcol(y,a):\n",
    "    for i in range(n):\n",
    "        if a == sudoku[i][y]:\n",
    "            return False\n",
    "        return True\n",
    "    \n",
    "# 3x3체크\n",
    "def checkthree(x, y, a):\n",
    "    nx = x // 3 * 3 # 인덱스 별로(0~),(3~5),(6~8)이 같은 그룹으로 묶인다. 그렇기 때문에 y좌표,x좌표를 3으로 나눈 몫에 다시 3을 곱하여 그그룹에서 시작하는 인덱스 값을 알아냄\n",
    "    ny = y // 3 * 3\n",
    "    for i in range(3):\n",
    "        for j in range(3):\n",
    "            if a == sudoku[nx+i][ny+j]:\n",
    "                return False\n",
    "    return True\n",
    "\n",
    "def DFS(index):\n",
    "    if index == len(zero):\n",
    "        for row in sudoku:\n",
    "            for n in row:\n",
    "                print(n, end = ' ')\n",
    "            print()\n",
    "        sys.exit(0) # 프로그램을 정상적으로 종료시킬 때 \n",
    "    else:\n",
    "        for i in range(1,10):\n",
    "            nx = zero[index][0]\n",
    "            ny = zero[index][1]\n",
    "            # 숫자 중복 검사\n",
    "            if checkrow(nx, i) and checkcol(ny,i) and checkthree(nx,ny,i):\n",
    "                sudoku[nx][ny] = i\n",
    "                DFS(index+1)\n",
    "                sudoku[nx][ny] = 0\n",
    "                \n",
    "DFS(0)\n",
    "print()"
   ]
  },
  {
   "cell_type": "markdown",
   "id": "f6bc8ca4",
   "metadata": {},
   "source": [
    "```` \n",
    "zero = []\n",
    "for i in range(9):\n",
    "    for j in range(9):\n",
    "        if zero[i][j] == 0:\n",
    "            blank.append((i, j))\n",
    "            \n",
    "zero = [(i,j) for i in range(9) for j in range(9) if sudoku[i][j] == 0] \n",
    "````"
   ]
  },
  {
   "cell_type": "code",
   "execution_count": null,
   "id": "a0423803",
   "metadata": {},
   "outputs": [],
   "source": []
  }
 ],
 "metadata": {
  "kernelspec": {
   "display_name": "Python 3 (ipykernel)",
   "language": "python",
   "name": "python3"
  },
  "language_info": {
   "codemirror_mode": {
    "name": "ipython",
    "version": 3
   },
   "file_extension": ".py",
   "mimetype": "text/x-python",
   "name": "python",
   "nbconvert_exporter": "python",
   "pygments_lexer": "ipython3",
   "version": "3.8.13"
  },
  "toc": {
   "base_numbering": 1,
   "nav_menu": {},
   "number_sections": true,
   "sideBar": true,
   "skip_h1_title": false,
   "title_cell": "Table of Contents",
   "title_sidebar": "Contents",
   "toc_cell": false,
   "toc_position": {},
   "toc_section_display": true,
   "toc_window_display": false
  }
 },
 "nbformat": 4,
 "nbformat_minor": 5
}
