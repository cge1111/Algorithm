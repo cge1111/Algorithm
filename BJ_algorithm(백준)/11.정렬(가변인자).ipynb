{
 "cells": [
  {
   "cell_type": "markdown",
   "id": "9a1bcd20",
   "metadata": {},
   "source": [
    "import sys <br>\n",
    "print(''.join(sorted(sys.stdin.readlines()[1:], key=int)))\n",
    "\n",
    "#### 리스트 컴프리헨션\n",
    "#### map\n",
    "#### lambda"
   ]
  },
  {
   "cell_type": "markdown",
   "id": "8f2ecd2d",
   "metadata": {},
   "source": [
    "### 2750번 수 정렬하기\n",
    "\n",
    "**문제**<br>\n",
    "N개의 수가 주어졌을 때, 이를 오름차순으로 정렬하는 프로그램을 작성하시오."
   ]
  },
  {
   "cell_type": "code",
   "execution_count": 1,
   "id": "b9be02dd",
   "metadata": {
    "collapsed": true
   },
   "outputs": [
    {
     "name": "stdout",
     "output_type": "stream",
     "text": [
      "5\n",
      "5\n",
      "2\n",
      "3\n",
      "4\n",
      "1\n",
      "1\n",
      "2\n",
      "3\n",
      "4\n",
      "5\n"
     ]
    }
   ],
   "source": [
    "# 버블 정렬\n",
    "n = int(input())\n",
    "result = []\n",
    "for _ in range(n):\n",
    "    result.append(int(input()))\n",
    "    \n",
    "for i in range(len(result)):\n",
    "    for j in range(len(result)):\n",
    "        if result[i] < result[j]:\n",
    "            result[i], result[j] = result[j], result[i]\n",
    "            \n",
    "for i in result:\n",
    "    print(i)"
   ]
  },
  {
   "cell_type": "code",
   "execution_count": 49,
   "id": "e8102cdb",
   "metadata": {
    "collapsed": true
   },
   "outputs": [
    {
     "name": "stdout",
     "output_type": "stream",
     "text": [
      "5\n",
      "5\n",
      "2\n",
      "3\n",
      "4\n",
      "1\n",
      "1\n",
      "2\n",
      "3\n",
      "4\n",
      "5\n"
     ]
    }
   ],
   "source": [
    "# sort 함수 이용\n",
    "n = int(input())\n",
    "result = []\n",
    "for _ in range(n):\n",
    "    result.append(int(input()))\n",
    "    \n",
    "result_sort = sorted(result)\n",
    "for i in result_sort:\n",
    "    print(i)"
   ]
  },
  {
   "cell_type": "markdown",
   "id": "376e124a",
   "metadata": {},
   "source": [
    "### 2751 수 정렬하기 2\n",
    "\n",
    "**문제**<br>\n",
    "N개의 수가 주어졌을 때, 이를 오름차순으로 정렬하는 프로그램을 작성하시오."
   ]
  },
  {
   "cell_type": "code",
   "execution_count": 6,
   "id": "3ae5b4f0",
   "metadata": {
    "scrolled": false
   },
   "outputs": [
    {
     "name": "stdout",
     "output_type": "stream",
     "text": [
      "5\n",
      "5\n",
      "4\n",
      "3\n",
      "2\n",
      "1\n"
     ]
    },
    {
     "data": {
      "text/plain": [
       "[1, 2, 3, 4, 5]"
      ]
     },
     "execution_count": 6,
     "metadata": {},
     "output_type": "execute_result"
    }
   ],
   "source": [
    "# 시간 초과 (python3)\n",
    "# but, pypy3 정답!\n",
    "n = int(input())\n",
    "result = []\n",
    "\n",
    "[result.append(intsys.stdin.readline().split()) for _ in range(n)]\n",
    "    \n",
    "result_sort = sorted(result)\n",
    "[i for i in result_sort]"
   ]
  },
  {
   "cell_type": "markdown",
   "id": "2715dfdd",
   "metadata": {},
   "source": [
    "### 10989 수 정렬하기 3\n",
    "\n",
    "**문제** <br>\n",
    "N개의 수가 주어졌을 때, 이를 오름차순으로 정렬하는 프로그램을 작성하시오."
   ]
  },
  {
   "cell_type": "code",
   "execution_count": 7,
   "id": "3cd96aa6",
   "metadata": {
    "collapsed": true
   },
   "outputs": [
    {
     "name": "stdout",
     "output_type": "stream",
     "text": [
      "5\n",
      "4\n",
      "3\n",
      "2\n",
      "2\n",
      "1\n",
      "1\n",
      "2\n",
      "2\n",
      "3\n",
      "4\n"
     ]
    }
   ],
   "source": [
    "# 계수 정렬코드 -> 메모리 초과\n",
    "n = int(input())\n",
    "array = [int(input()) for _ in range(n)]\n",
    "    \n",
    "# 모든 값 0으로 초기화\n",
    "count = [0]*(max(array)+1)\n",
    "\n",
    "# 각 데이터에 해당하는 인덱스 값 증가\n",
    "for i in range(len(array)):\n",
    "    count[array[i]] += 1\n",
    "\n",
    "# 리스트에 기록된 정렬 정보확인, 등장한 횟수만큼 인덱스 출력\n",
    "for i in range(len(count)):\n",
    "    for j in range(count[i]):\n",
    "        print(i)"
   ]
  },
  {
   "cell_type": "code",
   "execution_count": 12,
   "id": "1af50c9f",
   "metadata": {},
   "outputs": [
    {
     "name": "stdout",
     "output_type": "stream",
     "text": [
      "5\n",
      "3\n",
      "4\n",
      "2\n",
      "3\n",
      "1\n",
      "1\n",
      "2\n",
      "3\n",
      "3\n",
      "4\n"
     ]
    }
   ],
   "source": [
    "# 계수 정렬 숏코딩\n",
    "n = int(input())    \n",
    "count = [0]*(max(array)+1)\n",
    "\n",
    "for i in range(n):\n",
    "    count[int(input())] += 1\n",
    "\n",
    "for i in range(len(count)):\n",
    "    for j in range(count[i]):\n",
    "        print(i)"
   ]
  },
  {
   "cell_type": "code",
   "execution_count": null,
   "id": "1e0199e0",
   "metadata": {},
   "outputs": [],
   "source": [
    "# 구글링 input대신 sys.stdin으로 바꾸고 max대신 정해진 길이로 바꿈\n",
    "\n",
    "import sys\n",
    "n = int(input())\n",
    "\n",
    "count = [0]*10001\n",
    "\n",
    "for i in range(n):\n",
    "    count[int(sys.stdin.readline())] += 1\n",
    "\n",
    "for i in range(10001):\n",
    "    if count[i] != 0:\n",
    "        for j in range(count[i]):\n",
    "            print(i)"
   ]
  },
  {
   "cell_type": "markdown",
   "id": "734ce5c7",
   "metadata": {},
   "source": [
    "### 2108 통계학\n",
    "\n",
    "**문제**\n",
    "\n",
    "수를 처리하는 것은 통계학에서 상당히 중요한 일이다. 통계학에서 N개의 수를 대표하는 기본 통계값에는 다음과 같은 것들이 있다. 단, N은 홀수라고 가정하자.\n",
    "\n",
    "    1. 산술평균 : N개의 수들의 합을 N으로 나눈 값\n",
    "    2. 중앙값 : N개의 수들을 증가하는 순서로 나열했을 경우 그 중앙에 위치하는 값\n",
    "    3. 최빈값 : N개의 수들 중 가장 많이 나타나는 값\n",
    "    4. 범위 : N개의 수들 중 최댓값과 최솟값의 차이 \n",
    "N개의 수가 주어졌을 때, 네 가지 기본 통계값을 구하는 프로그램을 작성하시오."
   ]
  },
  {
   "cell_type": "code",
   "execution_count": 71,
   "id": "80c42c1f",
   "metadata": {},
   "outputs": [
    {
     "name": "stdout",
     "output_type": "stream",
     "text": [
      "3\n",
      "0\n",
      "0\n",
      "-1\n",
      "0\n"
     ]
    }
   ],
   "source": [
    "from collections import Counter\n",
    "\n",
    "def mean(x):\n",
    "    return round(sum(x)/len(x))\n",
    "\n",
    "def median(x):\n",
    "    x.sort()\n",
    "    return x[n//2]\n",
    "               \n",
    "def mode(x):\n",
    "    mode_dict = Counter(x)\n",
    "    modes = mode_dict.most_common()  # 최빈값 튜플요소들 리스트로 저장\n",
    "    \n",
    "    if len(x) > 1:\n",
    "        if modes[0][1] == modes[1][1]:\n",
    "            mod = modes[1][0] # 값이 여러개일 경우 두번째 작은 값 출력\n",
    "        else:\n",
    "            mod = modes[0][0] # 최빈값\n",
    "    else:\n",
    "        mod = modes[0][0] \n",
    "    return mod\n",
    "\n",
    "def ranges(x):\n",
    "    return max(x)-min(x)\n",
    "    \n",
    "n = int(input())\n",
    "array = [int(input()) for _ in range(n)]\n",
    "print(mean(array))\n",
    "print(median(array))\n",
    "print(mode(array))\n",
    "print(ranges(array))"
   ]
  },
  {
   "cell_type": "code",
   "execution_count": null,
   "id": "7444e31d",
   "metadata": {},
   "outputs": [],
   "source": [
    "import sys\n",
    "\n",
    "n = int(sys.stdin.readline().rstrip())\n",
    "l = [int(sys.stdin.readline().rstrip()) for _ in range(n)]\n",
    "\n",
    "cnt = {}\n",
    "l.sort()\n",
    "result = []\n",
    "\n",
    "cnt = {l[i] : 0 for i in range(n)}\n",
    "for i in l:\n",
    "    cnt[i] += 1\n",
    "\n",
    "for i,j in cnt.items():\n",
    "    if j == max(cnt.values()):\n",
    "        result.append(i)\n",
    "\n",
    "\n",
    "print(round(sum(l)/n))\n",
    "print(l[n//2])\n",
    "print(result[0] if len(result)==1 else result[1])\n",
    "print(abs(l[-1] - l[0]))"
   ]
  },
  {
   "cell_type": "markdown",
   "id": "b6ecd619",
   "metadata": {},
   "source": [
    "<pre>\n",
    "백준 제출용\n",
    "import sys\n",
    "from collections import Counter\n",
    "\n",
    "n = int(sys.stdin.readline())\n",
    "array = []\n",
    "for _ in range(n):\n",
    "    array.append(int(sys.stdin.readline()))\n",
    "    \n",
    "print(mean(array))\n",
    "print(median(array))\n",
    "print(mode(array))\n",
    "print(ranges(array))"
   ]
  },
  {
   "cell_type": "markdown",
   "id": "9941c33b",
   "metadata": {},
   "source": [
    "### 1427 소트인사이드\n",
    ">**문제**<br>\n",
    "배열을 정렬하는 것은 쉽다. 수가 주어지면, 그 수의 각 자리수를 내림차순으로 정렬해보자."
   ]
  },
  {
   "cell_type": "code",
   "execution_count": 185,
   "id": "eb3c4811",
   "metadata": {},
   "outputs": [
    {
     "name": "stdout",
     "output_type": "stream",
     "text": [
      "2143\n",
      "4321\n"
     ]
    }
   ],
   "source": [
    "n = input()\n",
    "result = []\n",
    "result = [i for i in n]\n",
    "result.sort(reverse = True)\n",
    "m = ''.join(i for i in result) # 리스트 문자열로 변환\n",
    "print(m)"
   ]
  },
  {
   "cell_type": "code",
   "execution_count": 57,
   "id": "184178f7",
   "metadata": {},
   "outputs": [
    {
     "name": "stdout",
     "output_type": "stream",
     "text": [
      "2143\n",
      "4321\n"
     ]
    }
   ],
   "source": [
    "# 숏코딩\n",
    "print(*sorted(input())[::-1],sep='')"
   ]
  },
  {
   "cell_type": "markdown",
   "id": "8b85ceb7",
   "metadata": {},
   "source": [
    "### 11650 좌표 정렬하기\n",
    "> **문제** <br>\n",
    "2차원 평면 위의 점 N개가 주어진다. 좌표를 x좌표가 증가하는 순으로, x좌표가 같으면 y좌표가 증가하는 순서로 정렬한 다음 출력하는 프로그램을 작성하시오."
   ]
  },
  {
   "cell_type": "code",
   "execution_count": 101,
   "id": "18ac03c7",
   "metadata": {
    "scrolled": true
   },
   "outputs": [
    {
     "name": "stdout",
     "output_type": "stream",
     "text": [
      "5\n",
      "3 4\n",
      "1 1\n",
      "1 -1\n",
      "2 2\n",
      "3 3\n",
      "1 -1\n",
      "1 1\n",
      "2 2\n",
      "3 3\n",
      "3 4\n"
     ]
    }
   ],
   "source": [
    "n = int(input())\n",
    "array = [list(map(int, input().split())) for _ in range(n)] # 2차원배열 생성\n",
    "array.sort()\n",
    "for i in range(len(array)):\n",
    "    print(array[0][0])\n",
    "#     result = ' '.join(str(s) for s in array[i]) # 리스트 -> 문자열\n",
    "#     print(result)"
   ]
  },
  {
   "cell_type": "code",
   "execution_count": 68,
   "id": "dbbd39f4",
   "metadata": {},
   "outputs": [],
   "source": [
    "# 숏코딩\n",
    "for i in sorted([[*map(int,s.split())]for s in open(0)][1:]):\n",
    "    print(*i)"
   ]
  },
  {
   "cell_type": "markdown",
   "id": "14142b6d",
   "metadata": {},
   "source": [
    "### 11651 좌표 정렬하기2\n",
    "> **문제** <br>\n",
    "2차원 평면 위의 점 N개가 주어진다. 좌표를 y좌표가 증가하는 순으로, y좌표가 같으면 x좌표가 증가하는 순서로 정렬한 다음 출력하는 프로그램을 작성하시오."
   ]
  },
  {
   "cell_type": "code",
   "execution_count": 104,
   "id": "bc312703",
   "metadata": {},
   "outputs": [
    {
     "name": "stdout",
     "output_type": "stream",
     "text": [
      "5\n",
      "0 4\n",
      "1 2\n",
      "1 -1\n",
      "2 2\n",
      "3 3\n",
      "1 -1\n",
      "1 2\n",
      "2 2\n",
      "3 3\n",
      "0 4\n"
     ]
    }
   ],
   "source": [
    "n = int(input())\n",
    "array = [list(map(int, input().split())) for _ in range(n)]\n",
    "array.sort(key=lambda x:x[1]) # 1번(y) 인덱스 기준 오름차순 정렬\n",
    "for i in range(len(array)):\n",
    "    print(' '.join(str(s) for s in array[i]))"
   ]
  },
  {
   "cell_type": "code",
   "execution_count": 6,
   "id": "84911ddb",
   "metadata": {},
   "outputs": [
    {
     "name": "stdout",
     "output_type": "stream",
     "text": [
      "5\n",
      "0 4\n",
      "1 2\n",
      "1 -1\n",
      "2 2\n",
      "3 3\n",
      "1 -1\n",
      "1 2\n",
      "2 2\n",
      "3 3\n",
      "0 4\n"
     ]
    }
   ],
   "source": [
    "# 구글링 \n",
    "n = int(input())\n",
    "array = []\n",
    "for i in range(n):\n",
    "    x,y = map(int, input().split())\n",
    "    array.append([y,x]) # x,y값 위치 바꿈\n",
    "array.sort() \n",
    "for y,x in array:\n",
    "    print(x,y)"
   ]
  },
  {
   "cell_type": "code",
   "execution_count": 9,
   "id": "1298fa7c",
   "metadata": {},
   "outputs": [],
   "source": [
    "# 숏코딩\n",
    "for t in sorted([*map(int,x.split()[::-1])]for x in[*open(0)][1:]):\n",
    "    print(*t[::-1])"
   ]
  },
  {
   "cell_type": "markdown",
   "id": "8e9de3ee",
   "metadata": {},
   "source": [
    "### 1181 단어 정렬\n",
    "> **문제** <br>\n",
    "알파벳 소문자로 이루어진 N개의 단어가 들어오면 아래와 같은 조건에 따라 정렬하는 프로그램을 작성하시오.\n",
    "\n",
    "1. 길이가 짧은 것부터\n",
    "2. 길이가 같으면 사전 순으로"
   ]
  },
  {
   "cell_type": "code",
   "execution_count": 10,
   "id": "26703d2b",
   "metadata": {},
   "outputs": [
    {
     "name": "stdout",
     "output_type": "stream",
     "text": [
      "13\n",
      "but\n",
      "i\n",
      "wont\n",
      "jesitate\n",
      "no\n",
      "more\n",
      "no\n",
      "more\n",
      "it\n",
      "cannot\n",
      "wait\n",
      "im\n",
      "yours\n",
      "i\n",
      "im\n",
      "it\n",
      "no\n",
      "but\n",
      "more\n",
      "wait\n",
      "wont\n",
      "yours\n",
      "cannot\n",
      "jesitate\n"
     ]
    }
   ],
   "source": [
    "# 구글링\n",
    "# 순서: 중복을 없애기 위해 set사용 -> 문자열 정렬 -> 문자열 길이 정렬\n",
    "n = int(input())\n",
    "array = [input() for _ in range(n)]\n",
    "\n",
    "set_list = set(array) # 중복 없애기 위해 set사용\n",
    "\n",
    "array = sorted(list(set_list)) # 정렬\n",
    "array.sort(key=len)  # 문자열 길이 정렬\n",
    "\n",
    "\n",
    "for i in array:\n",
    "    print(i)"
   ]
  },
  {
   "cell_type": "markdown",
   "id": "0edb4e32",
   "metadata": {},
   "source": [
    "### 10814 나이순 정렬\n",
    "> **문제** <br>\n",
    "온라인 저지에 가입한 사람들의 나이와 이름이 가입한 순서대로 주어진다. 이때, 회원들을 나이가 증가하는 순으로, 나이가 같으면 먼저 가입한 사람이 앞에 오는 순서로 정렬하는 프로그램을 작성하시오."
   ]
  },
  {
   "cell_type": "code",
   "execution_count": 17,
   "id": "9f25e241",
   "metadata": {},
   "outputs": [
    {
     "name": "stdout",
     "output_type": "stream",
     "text": [
      "3\n",
      "21 Junkyu \n",
      "21 Dohyun \n",
      "20 Sunyoung\n",
      "20 Sunyoung\n",
      "21 Junkyu\n",
      "21 Dohyun\n"
     ]
    }
   ],
   "source": [
    "# 틀렸습니다 -> 왜?\n",
    "n = int(input())\n",
    "array = [list(input().split()) for _ in range(n)]\n",
    "\n",
    "array.sort(key=lambda x:x[0])\n",
    "\n",
    "for i in range(len(array)):\n",
    "    result = ' '.join(str(s) for s in array[i]) \n",
    "    print(result)"
   ]
  },
  {
   "cell_type": "markdown",
   "id": "8bbd82d6",
   "metadata": {},
   "source": [
    "<pre>\n",
    "### sort정렬로 풀었는데 맞았습니다!!!\n",
    "### 백준 제출용\n",
    "n = int(input())\n",
    "member_lst = []\n",
    "\n",
    "for i in range(n):\n",
    "    age, name = map(str, input().split())\n",
    "    age = int(age)\n",
    "    member_lst.append((age, name))\n",
    "\n",
    "member_lst.sort(key = lambda x : x[0])  # (age, name)에서 age만 비교\n",
    "\n",
    "for i in member_lst:\n",
    "    print(i[0], i[1])"
   ]
  },
  {
   "cell_type": "markdown",
   "id": "d282482c",
   "metadata": {},
   "source": [
    "### 18870 좌표 압축\n",
    "> **문제** <br>\n",
    "수직선 위에 N개의 좌표 X1, X2, ..., XN이 있다. 이 좌표에 좌표 압축을 적용하려고 한다. <br>\n",
    "Xi를 좌표 압축한 결과 X'i의 값은 Xi > Xj를 만족하는 서로 다른 좌표의 개수와 같아야 한다. <br>\n",
    "X1, X2, ..., XN에 좌표 압축을 적용한 결과 X'1, X'2, ..., X'N를 출력해보자.\n",
    "\n",
    "가장 작은 수를 인덱스로 뽑아라"
   ]
  },
  {
   "cell_type": "code",
   "execution_count": 3,
   "id": "0927c345",
   "metadata": {},
   "outputs": [
    {
     "name": "stdout",
     "output_type": "stream",
     "text": [
      "5\n",
      "2 4 -10 4 -9\n",
      "2 3 0 3 1 "
     ]
    }
   ],
   "source": [
    "n = int(input())\n",
    "array = list(map(int, input().split()))\n",
    "a = sorted(set(array))\n",
    "dic = {a[i]: i for i in range(len(a))}\n",
    "for i in array:\n",
    "    print(dic[i], end = ' ')"
   ]
  },
  {
   "cell_type": "markdown",
   "id": "b5e64989",
   "metadata": {},
   "source": [
    "----"
   ]
  },
  {
   "cell_type": "markdown",
   "id": "0adb6f2e",
   "metadata": {},
   "source": [
    "<python>\n",
    "*args \n",
    "     \n",
    "**kwargs"
   ]
  },
  {
   "cell_type": "code",
   "execution_count": 58,
   "id": "59358930",
   "metadata": {},
   "outputs": [
    {
     "name": "stdout",
     "output_type": "stream",
     "text": [
      "20\n",
      "24\n"
     ]
    }
   ],
   "source": [
    "# 변수 개수가 여러 개일 경우\n",
    "def mul(*args):\n",
    "    z = 1\n",
    "    for num in args:\n",
    "        z *= num\n",
    "    print(z)\n",
    "mul(4,5)\n",
    "mul(2,3,4)"
   ]
  },
  {
   "cell_type": "code",
   "execution_count": 62,
   "id": "438bfc0f",
   "metadata": {},
   "outputs": [
    {
     "name": "stdout",
     "output_type": "stream",
     "text": [
      "The value of name_1 is Alex\n",
      "The value of name_2 is Gray\n",
      "The value of name_3 is Harper\n",
      "The value of name_4 is Phoenix\n",
      "The value of name_5 is Remy\n",
      "The value of name_6 is Val\n"
     ]
    }
   ],
   "source": [
    "# **kwargs 딕셔너리 함수로 전달\n",
    "def print_values(**kwargs):\n",
    "    for key, value in kwargs.items():\n",
    "        print(\"The value of {} is {}\".format(key, value))\n",
    "\n",
    "print_values(\n",
    "            name_1=\"Alex\",\n",
    "            name_2=\"Gray\",\n",
    "            name_3=\"Harper\",\n",
    "            name_4=\"Phoenix\",\n",
    "            name_5=\"Remy\",\n",
    "            name_6=\"Val\"\n",
    "        )"
   ]
  },
  {
   "cell_type": "code",
   "execution_count": 63,
   "id": "462253d0",
   "metadata": {},
   "outputs": [
    {
     "name": "stdout",
     "output_type": "stream",
     "text": [
      "arg_1: Sammy\n",
      "arg_2: Casey\n",
      "arg_3: Alex\n"
     ]
    }
   ],
   "source": [
    "# 함수 호출에서 사용\n",
    "def some_args(arg_1, arg_2, arg_3):\n",
    "    print(\"arg_1:\", arg_1)\n",
    "    print(\"arg_2:\", arg_2)\n",
    "    print(\"arg_3:\", arg_3)\n",
    "\n",
    "args = (\"Sammy\", \"Casey\", \"Alex\")\n",
    "some_args(*args)"
   ]
  },
  {
   "cell_type": "code",
   "execution_count": 208,
   "id": "acdf444b",
   "metadata": {
    "scrolled": true
   },
   "outputs": [
    {
     "name": "stdout",
     "output_type": "stream",
     "text": [
      "1\n",
      "4000\n",
      "4000\n",
      "4000\n",
      "ModeResult(mode=array([4000]), count=array([1]))\n",
      "0\n"
     ]
    }
   ],
   "source": [
    "# 2108 통계학\n",
    "import numpy as np    \n",
    "from scipy.stats import mode\n",
    "\n",
    "n = int(input())\n",
    "\n",
    "if n % 2 != 0:\n",
    "    array = [int(input()) for _ in range(n)]\n",
    "    print(int(np.mean(array)))\n",
    "    print(int(np.median(array)))\n",
    "    print(mode(array))\n",
    "    print(max(array)-min(array))\n",
    "else:\n",
    "    print('홀수를 입력하세요')"
   ]
  }
 ],
 "metadata": {
  "kernelspec": {
   "display_name": "Python 3 (ipykernel)",
   "language": "python",
   "name": "python3"
  },
  "language_info": {
   "codemirror_mode": {
    "name": "ipython",
    "version": 3
   },
   "file_extension": ".py",
   "mimetype": "text/x-python",
   "name": "python",
   "nbconvert_exporter": "python",
   "pygments_lexer": "ipython3",
   "version": "3.8.13"
  }
 },
 "nbformat": 4,
 "nbformat_minor": 5
}
