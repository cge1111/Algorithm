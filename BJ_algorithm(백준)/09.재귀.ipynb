{
 "cells": [
  {
   "cell_type": "markdown",
   "id": "50317924",
   "metadata": {},
   "source": [
    "### 10872 팩토리얼\n",
    "> **문제** <br>\n",
    "0보다 크거나 같은 정수 N이 주어진다. 이때, N!을 출력하는 프로그램을 작성하시오.\n",
    "\n",
    "> **입력** <br>\n",
    "첫째 줄에 정수 N(0 ≤ N ≤ 12)이 주어진다.\n",
    "\n",
    "> **출력** <br>\n",
    "첫째 줄에 N!을 출력한다. "
   ]
  },
  {
   "cell_type": "code",
   "execution_count": 20,
   "id": "0bc3bf29",
   "metadata": {},
   "outputs": [
    {
     "name": "stdout",
     "output_type": "stream",
     "text": [
      "10\n",
      "3628800\n"
     ]
    }
   ],
   "source": [
    "def factorial(n):\n",
    "    if (n == 0) or (n == 1): # n이 0or 1일 때\n",
    "        return 1       # 1을 반환하고 재귀호출을 끝냄\n",
    "    return n * factorial(n - 1)    # n과 factorial 함수에 n - 1을 넣어서 반환된 값을 곱함\n",
    "\n",
    "a = int(input())\n",
    "print(factorial(a))"
   ]
  },
  {
   "cell_type": "markdown",
   "id": "233735c8",
   "metadata": {},
   "source": [
    "### 10870 피보나치 수 5\n",
    "> **문제** <br>\n",
    "피보나치 수는 0과 1로 시작한다. 0번째 피보나치 수는 0이고, 1번째 피보나치 수는 1이다. 그 다음 2번째 부터는 바로 앞 두 피보나치 수의 합이 된다.<br>\n",
    "이를 식으로 써보면 Fn = Fn-1 + Fn-2 (n ≥ 2)가 된다.<br>\n",
    "n=17일때 까지 피보나치 수를 써보면 다음과 같다.<br>\n",
    "0, 1, 1, 2, 3, 5, 8, 13, 21, 34, 55, 89, 144, 233, 377, 610, 987, 1597<br>\n",
    "n이 주어졌을 때, n번째 피보나치 수를 구하는 프로그램을 작성하시오.\n",
    "\n",
    "> **입력** <br>\n",
    "첫째 줄에 n이 주어진다. n은 20보다 작거나 같은 자연수 또는 0이다.\n",
    "\n",
    "> **출력** <br>\n",
    "첫째 줄에 n번째 피보나치 수를 출력한다."
   ]
  },
  {
   "cell_type": "code",
   "execution_count": 39,
   "id": "4ef62ef4",
   "metadata": {},
   "outputs": [
    {
     "name": "stdout",
     "output_type": "stream",
     "text": [
      "1\n",
      "1\n"
     ]
    }
   ],
   "source": [
    "def fibo(n):\n",
    "    if n == 0:\n",
    "        return 0\n",
    "    elif (n == 1) or (n == 2):\n",
    "        return 1\n",
    "    return fibo(n-1) + fibo(n-2)\n",
    "\n",
    "n = int(input())\n",
    "print(fibo(n))"
   ]
  },
  {
   "cell_type": "code",
   "execution_count": 32,
   "id": "ddbf3cc7",
   "metadata": {},
   "outputs": [
    {
     "name": "stdout",
     "output_type": "stream",
     "text": [
      "10\n",
      "55\n"
     ]
    }
   ],
   "source": [
    "def fibo(n):\n",
    "    a,b=1,1\n",
    "    if n == 0 :\n",
    "        return 0\n",
    "    elif (n == 1) or (n == 2):\n",
    "        return 1\n",
    "    for _ in range(1,n):\n",
    "        a,b = b, a+b\n",
    "    return a\n",
    "\n",
    "n = int(input())\n",
    "print(fibo(n))"
   ]
  },
  {
   "cell_type": "code",
   "execution_count": 31,
   "id": "c3750a3a",
   "metadata": {},
   "outputs": [
    {
     "name": "stdout",
     "output_type": "stream",
     "text": [
      "10\n",
      "55\n"
     ]
    }
   ],
   "source": [
    "# 숏코딩\n",
    "fibo = lambda n: 1 if n <= 2 else fibo(n-1) + fibo(n-2)\n",
    "\n",
    "n = int(input())\n",
    "print(fibo(n)) # 5"
   ]
  },
  {
   "cell_type": "markdown",
   "id": "16120ccc",
   "metadata": {},
   "source": [
    "### 17478 재귀함수가 뭔가요? _고은\n",
    "> **문제** <br>\n",
    "평소에 질문을 잘 받아주기로 유명한 중앙대학교의 JH 교수님은 학생들로부터 재귀함수가 무엇인지에 대하여 많은 질문을 받아왔다. <br>\n",
    "매번 질문을 잘 받아주셨던 JH 교수님이지만 그는 중앙대학교가 자신과 맞는가에 대한 고민을 항상 해왔다. <br>\n",
    "중앙대학교와 자신의 길이 맞지 않다고 생각한 JH 교수님은 결국 중앙대학교를 떠나기로 결정하였다. <br>\n",
    "떠나기 전까지도 제자들을 생각하셨던 JH 교수님은 재귀함수가 무엇인지 물어보는 학생들을 위한 작은 선물로 자동 응답 챗봇을 준비하기로 했다. <br>\n",
    "JH 교수님이 만들 챗봇의 응답을 출력하는 프로그램을 만들어보자.\n",
    "\n",
    "> **입력** <br>\n",
    "교수님이 출력을 원하는 재귀 횟수 N(1 ≤ N ≤ 50)이 주어진다.\n",
    "\n",
    "> **출력** <br>\n",
    "출력 예시를 보고 재귀 횟수에 따른 챗봇의 응답을 출력한다."
   ]
  },
  {
   "cell_type": "code",
   "execution_count": 79,
   "id": "2ca6e57d",
   "metadata": {},
   "outputs": [
    {
     "name": "stdout",
     "output_type": "stream",
     "text": [
      "3\n",
      "Hello, world! 3\n",
      "Hello, world! 2\n",
      "Hello, world! 1\n"
     ]
    }
   ],
   "source": [
    "def hello(count):\n",
    "    if count == 0:\n",
    "        return\n",
    "    print('Hello, world!', count)\n",
    "    count -= 1\n",
    "    hello(count)\n",
    "n = int(input())\n",
    "hello(n)"
   ]
  },
  {
   "cell_type": "code",
   "execution_count": 71,
   "id": "ddd12c55",
   "metadata": {},
   "outputs": [
    {
     "name": "stdout",
     "output_type": "stream",
     "text": [
      "2\n",
      "어느 한 컴퓨터공학과 학생이 유명한 교수님을 찾아가 물었다.\n",
      "\"재귀함수가 뭔가요?\"\n",
      "\"잘 들어보게. 옛날옛날 한 산 꼭대기에 이세상 모든 지식을 통달한 선인이 있었어.\n",
      "마을 사람들은 모두 그 선인에게 수많은 질문을 했고, 모두 지혜롭게 대답해 주었지.\n",
      "그의 답은 대부분 옳았다고 하네. 그런데 어느 날, 그 선인에게 한 선비가 찾아와서 물었어.\"\n",
      "____\"재귀함수가 뭔가요?\"\n",
      "____\"잘 들어보게. 옛날옛날 한 산 꼭대기에 이세상 모든 지식을 통달한 선인이 있었어.\n",
      "____마을 사람들은 모두 그 선인에게 수많은 질문을 했고, 모두 지혜롭게 대답해 주었지.\n",
      "____그의 답은 대부분 옳았다고 하네. 그런데 어느 날, 그 선인에게 한 선비가 찾아와서 물었어.\"\n",
      "________\"재귀함수가 뭔가요?\"\n",
      "________\"재귀함수는 자기 자신을 호출하는 함수라네\"\n",
      "________라고 답변하였지.\n",
      "____라고 답변하였지.\n",
      "라고 답변하였지.\n"
     ]
    }
   ],
   "source": [
    "def cau(count):\n",
    "    print('____'*(n-count)+'\"재귀함수가 뭔가요?\"')\n",
    "    \n",
    "    if count == 0:\n",
    "        print('____'*(n-count)+'\"재귀함수는 자기 자신을 호출하는 함수라네\"\\n'+(n-count)*'____'+'라고 답변하였지.')\n",
    "        return \n",
    " \n",
    "    print('____'*(n-count)+'\"잘 들어보게. 옛날옛날 한 산 꼭대기에 이세상 모든 지식을 통달한 선인이 있었어.')\n",
    "    print('____'*(n-count)+'마을 사람들은 모두 그 선인에게 수많은 질문을 했고, 모두 지혜롭게 대답해 주었지.')\n",
    "    print('____'*(n-count)+'그의 답은 대부분 옳았다고 하네. 그런데 어느 날, 그 선인에게 한 선비가 찾아와서 물었어.\"')\n",
    "    count -= 1\n",
    "    cau(count)\n",
    "    print('____'*(n-count-1)+'라고 답변하였지.')\n",
    "    \n",
    "    \n",
    "n = int(input())\n",
    "print('어느 한 컴퓨터공학과 학생이 유명한 교수님을 찾아가 물었다.')\n",
    "cau(n)"
   ]
  },
  {
   "cell_type": "code",
   "execution_count": 72,
   "id": "92540044",
   "metadata": {},
   "outputs": [
    {
     "name": "stdout",
     "output_type": "stream",
     "text": [
      "2\n",
      "어느 한 컴퓨터공학과 학생이 유명한 교수님을 찾아가 물었다.\n",
      "\"재귀함수가 뭔가요?\"\n",
      "\"잘 들어보게. 옛날옛날 한 산 꼭대기에 이세상 모든 지식을 통달한 선인이 있었어.\n",
      "마을 사람들은 모두 그 선인에게 수많은 질문을 했고, 모두 지혜롭게 대답해 주었지.\n",
      "그의 답은 대부분 옳았다고 하네. 그런데 어느 날, 그 선인에게 한 선비가 찾아와서 물었어.\"\n",
      "____\"재귀함수가 뭔가요?\"\n",
      "____\"잘 들어보게. 옛날옛날 한 산 꼭대기에 이세상 모든 지식을 통달한 선인이 있었어.\n",
      "____마을 사람들은 모두 그 선인에게 수많은 질문을 했고, 모두 지혜롭게 대답해 주었지.\n",
      "____그의 답은 대부분 옳았다고 하네. 그런데 어느 날, 그 선인에게 한 선비가 찾아와서 물었어.\"\n",
      "________\"재귀함수가 뭔가요?\"\n",
      "________\"재귀함수는 자기 자신을 호출하는 함수라네\"\n",
      "________라고 답변하였지.\n",
      "____라고 답변하였지.\n",
      "라고 답변하였지.\n"
     ]
    }
   ],
   "source": [
    "# 추가 코드\n",
    "n = int(input()) \n",
    "def recur(i, n): \n",
    "    print(\"____\"*i + '\"재귀함수가 뭔가요?\"') \n",
    "    if i == n: \n",
    "        print(\"____\"*i + '\"재귀함수는 자기 자신을 호출하는 함수라네\"') \n",
    "    else: \n",
    "        print(\"____\"*i + '\"잘 들어보게. 옛날옛날 한 산 꼭대기에 이세상 모든 지식을 통달한 선인이 있었어.') \n",
    "        print(\"____\"*i + \"마을 사람들은 모두 그 선인에게 수많은 질문을 했고, 모두 지혜롭게 대답해 주었지.\") \n",
    "        print(\"____\"*i + '그의 답은 대부분 옳았다고 하네. 그런데 어느 날, 그 선인에게 한 선비가 찾아와서 물었어.\"') \n",
    "        recur(i+1, n) \n",
    "    print(\"____\"*i + \"라고 답변하였지.\") \n",
    "    \n",
    "print(\"어느 한 컴퓨터공학과 학생이 유명한 교수님을 찾아가 물었다.\") \n",
    "recur(0, n)"
   ]
  },
  {
   "cell_type": "markdown",
   "id": "e72bbf50",
   "metadata": {},
   "source": [
    "#### 2447 별 찍기 - 10\n",
    "> **문제** <br>\n",
    "재귀적인 패턴으로 별을 찍어 보자. N이 3의 거듭제곱(3, 9, 27, ...)이라고 할 때, 크기 N의 패턴은 N×N 정사각형 모양이다.<br>\n",
    "크기 3의 패턴은 가운데에 공백이 있고, 가운데를 제외한 모든 칸에 별이 하나씩 있는 패턴이다.<br>\n",
    "N이 3보다 클 경우, 크기 N의 패턴은 공백으로 채워진 가운데의 (N/3)×(N/3) 정사각형을 크기 N/3의 패턴으로 둘러싼 형태이다. 예를 들어 크기 27의 패턴은 예제 출력 1과 같다.\n",
    "\n",
    "> **입력** <br>\n",
    "첫째 줄에 N이 주어진다. N은 3의 거듭제곱이다. 즉 어떤 정수 k에 대해 N=3k이며, 이때 1 ≤ k < 8이다.\n",
    "\n",
    "> **출력** <br>\n",
    "첫째 줄부터 N번째 줄까지 별을 출력한다.\n",
    "\n",
    "<pre>\n",
    "***\n",
    "* *\n",
    "***"
   ]
  },
  {
   "cell_type": "code",
   "execution_count": 137,
   "id": "066f8df6",
   "metadata": {},
   "outputs": [
    {
     "name": "stdout",
     "output_type": "stream",
     "text": [
      "3\n",
      "***\n",
      "* *\n",
      "***\n"
     ]
    }
   ],
   "source": [
    "def star(n):\n",
    "    if n == 1:\n",
    "        return ['*']\n",
    "    stars = star(n//3)\n",
    "    l = []\n",
    "\n",
    "    for s in stars:\n",
    "        l.append(3*s)\n",
    "    for s in stars:\n",
    "        l.append(s+' '*(n//3)+s)\n",
    "    for s in stars:\n",
    "        l.append(3*s)\n",
    "    return l\n",
    "    \n",
    "n = int(input())\n",
    "print('\\n'.join(star(n)))"
   ]
  },
  {
   "cell_type": "code",
   "execution_count": 143,
   "id": "a88a32ac",
   "metadata": {},
   "outputs": [
    {
     "name": "stdout",
     "output_type": "stream",
     "text": [
      "3\n",
      "***\n",
      "* *\n",
      "***\n"
     ]
    }
   ],
   "source": [
    "n=int(input())\n",
    "s='*'\n",
    "while n>1:\n",
    "    t=[i*3 for i in s]\n",
    "    s=t+[i+' '*len(i)+i for i in s]+t\n",
    "    n//=3\n",
    "print('\\n'.join(s))"
   ]
  },
  {
   "cell_type": "markdown",
   "id": "7845650e",
   "metadata": {},
   "source": [
    "### 11729 하노이 탑 이동 순서\n",
    "> **문제** <br>\n",
    "세 개의 장대가 있고 첫 번째 장대에는 반경이 서로 다른 n개의 원판이 쌓여 있다. 각 원판은 반경이 큰 순서대로 쌓여있다. 이제 수도승들이 다음 규칙에 따라 첫 번째 장대에서 세 번째 장대로 옮기려 한다. <br>\n",
    "한 번에 한 개의 원판만을 다른 탑으로 옮길 수 있다. <br>\n",
    "쌓아 놓은 원판은 항상 위의 것이 아래의 것보다 작아야 한다. <br>\n",
    "이 작업을 수행하는데 필요한 이동 순서를 출력하는 프로그램을 작성하라. 단, 이동 횟수는 최소가 되어야 한다. <br>\n",
    "아래 그림은 원판이 5개인 경우의 예시이다.\n",
    "\n",
    "> **입력** <br>\n",
    "첫째 줄에 첫 번째 장대에 쌓인 원판의 개수 N (1 ≤ N ≤ 20)이 주어진다.\n",
    "\n",
    "> **출력** <br>\n",
    "첫째 줄에 옮긴 횟수 K를 출력한다. <br>\n",
    "두 번째 줄부터 수행 과정을 출력한다. 두 번째 줄부터 K개의 줄에 걸쳐 두 정수 A B를 빈칸을 사이에 두고 출력하는데, 이는 A번째 탑의 가장 위에 있는 원판을 B번째 탑의 가장 위로 옮긴다는 뜻이다.\n",
    "\n",
    "\n",
    "<img src=\"https://onlinejudgeimages.s3-ap-northeast-1.amazonaws.com/problem/11729/hanoi.png\" width=\"1000\" style=\"float:left\" />"
   ]
  },
  {
   "cell_type": "code",
   "execution_count": 1,
   "id": "a5440acb",
   "metadata": {},
   "outputs": [
    {
     "name": "stdout",
     "output_type": "stream",
     "text": [
      "3\n",
      "7\n",
      "1 3\n",
      "1 2\n",
      "3 2\n",
      "1 3\n",
      "2 1\n",
      "2 3\n",
      "1 3\n"
     ]
    }
   ],
   "source": [
    "# n개의 원판을 f에서 t로 이동시키는 과정을 생각해보면 \n",
    "# 최종적으로 n-1개의 원판을 s에 놓고, \n",
    "# 남은 하나의 원판을 f에서 t로 옮긴 후 s의 원판들을 t에 옮기면 된다.\n",
    "\n",
    "def hanoi(n, f, s, t):  # from, stop(나머지), to\n",
    "    if n == 1:\n",
    "        print(f, t)\n",
    "    else:\n",
    "        hanoi(n - 1, f, t, s)    # n-1:하나를 제외하고 s으로 옮김\n",
    "        print(f, t)              \n",
    "        hanoi(n - 1, s, f, t)    # 원반 다시 쌓아 t로 옮김\n",
    "    \n",
    "n = int(input())   \n",
    "print(2**n - 1)\n",
    "hanoi(n, 1, 2, 3) # 장대가 3개니까 ->1,2,3"
   ]
  },
  {
   "cell_type": "code",
   "execution_count": 2,
   "id": "2c7d7e5f",
   "metadata": {},
   "outputs": [
    {
     "name": "stdout",
     "output_type": "stream",
     "text": [
      "3\n",
      "7\n",
      "1 3\n",
      "1 2\n",
      "3 2\n",
      "1 3\n",
      "2 1\n",
      "2 3\n",
      "1 3\n"
     ]
    }
   ],
   "source": [
    "def hanoi_tower(n, start, end) :\n",
    "    if n == 1 :\n",
    "        print(start, end)\n",
    "        return\n",
    "       \n",
    "    hanoi_tower(n-1, start, 6-start-end) # 1단계\n",
    "    print(start, end) # 2단계\n",
    "    hanoi_tower(n-1, 6-start-end, end) # 3단계\n",
    "    \n",
    "n = int(input())\n",
    "print(2**n-1)\n",
    "hanoi_tower(n, 1, 3)"
   ]
  },
  {
   "cell_type": "code",
   "execution_count": null,
   "id": "12d8848e",
   "metadata": {},
   "outputs": [],
   "source": []
  }
 ],
 "metadata": {
  "kernelspec": {
   "display_name": "Python 3 (ipykernel)",
   "language": "python",
   "name": "python3"
  },
  "language_info": {
   "codemirror_mode": {
    "name": "ipython",
    "version": 3
   },
   "file_extension": ".py",
   "mimetype": "text/x-python",
   "name": "python",
   "nbconvert_exporter": "python",
   "pygments_lexer": "ipython3",
   "version": "3.8.13"
  }
 },
 "nbformat": 4,
 "nbformat_minor": 5
}
