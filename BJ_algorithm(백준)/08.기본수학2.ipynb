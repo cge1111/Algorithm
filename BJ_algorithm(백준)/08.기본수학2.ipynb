{
 "cells": [
  {
   "cell_type": "markdown",
   "id": "580d2fe2",
   "metadata": {},
   "source": [
    "### 소수_ 에라토스테네스의 체 알고리즘\n",
    "\n",
    "2부터 n까지 돌면서 각 수의 배수를 지워나가는 방식"
   ]
  },
  {
   "cell_type": "code",
   "execution_count": 16,
   "id": "32fc410b",
   "metadata": {},
   "outputs": [
    {
     "name": "stdout",
     "output_type": "stream",
     "text": [
      "4\n"
     ]
    }
   ],
   "source": [
    "# 에라토스테네스의 체 - 소수를 찾고 싶은 경우 '그 수의 제곱근보다 작은 소수의 배수를 없애면 남은 수가 소수'\n",
    "# n이하의 수중 소수의 개수 찾기\n",
    "\n",
    "def solution(n):\n",
    "    answer = 0   # 갯수 담을 변수\n",
    "    number = []  # n이하의 수중 소수 파악\n",
    "\n",
    "    for i in range(n+1):\n",
    "        number.append(i)  # n까지의 모든 수를 number 리스트에 담기 [1,2,3,4,5, ... ,n]\n",
    "\n",
    "    for i in range(2, n+1, 1):     # i = 2\n",
    "        if i == -1:\n",
    "            continue\n",
    "        j = 0                      # i = 2 \n",
    "        for j in range(i+i, n+1, i):  # 2 + 2 즉, 2의배수는 소수가 아니므로 지운다\n",
    "            number[j] = -1   # 소수가 아닌 방에는 -1을 담기 -1은 소수가 아님을 표시\n",
    "\n",
    "    for i in range(2, n+1):\n",
    "        if number[i] != -1:\n",
    "            answer += 1\n",
    "            \n",
    "    return answer\n",
    "\n",
    "print(solution(10))"
   ]
  },
  {
   "cell_type": "markdown",
   "id": "5af566a4",
   "metadata": {},
   "source": [
    "### 1978 소수찾기\n",
    "> **문제** <br>\n",
    "주어진 수 N개 중에서 소수가 몇 개인지 찾아서 출력하는 프로그램을 작성하시오. \n",
    "\n"
   ]
  },
  {
   "cell_type": "code",
   "execution_count": 127,
   "id": "8b291475",
   "metadata": {},
   "outputs": [
    {
     "name": "stdout",
     "output_type": "stream",
     "text": [
      "4\n",
      "1 3 5 7\n",
      "3\n"
     ]
    }
   ],
   "source": [
    "a = int(input())\n",
    "is_prime = list(map(int, input().split()))\n",
    "prime = 0 # 소수 개수\n",
    "\n",
    "# 에라테스테네스의 체  \n",
    "for i in is_prime: \n",
    "    e = 0 \n",
    "    if i > 1:\n",
    "        for j in range(2, i):\n",
    "            if  i % j == 0:\n",
    "                e = 1   # 배수\n",
    "        if e == 0:\n",
    "            prime += 1 # 소수\n",
    "                \n",
    "print(prime)"
   ]
  },
  {
   "cell_type": "markdown",
   "id": "f72b44f2",
   "metadata": {},
   "source": [
    "### 2581 소수\n",
    "> **문제** <br>\n",
    "자연수 M과 N이 주어질 때 M이상 N이하의 자연수 중 소수인 것을 모두 골라 이들 소수의 합과 최솟값을 찾는 프로그램을 작성하시오.\n",
    "\n",
    "예를 들어 M=60, N=100인 경우 60이상 100이하의 자연수 중 소수는 61, 67, 71, 73, 79, 83, 89, 97 총 8개가 있으므로, 이들 소수의 합은 620이고, 최솟값은 61이 된다."
   ]
  },
  {
   "cell_type": "code",
   "execution_count": 29,
   "id": "b7ce3b32",
   "metadata": {},
   "outputs": [
    {
     "name": "stdout",
     "output_type": "stream",
     "text": [
      "64\n",
      "65\n",
      "-1\n"
     ]
    }
   ],
   "source": [
    "a = int(input())\n",
    "b = int(input())\n",
    "array = []\n",
    "for i in range(a,b+1):\n",
    "    e = 0\n",
    "    if i > 1:\n",
    "        for j in range(2,i):\n",
    "            if i % j == 0:\n",
    "                e = 1\n",
    "        if e == 0:\n",
    "            array.append(i)\n",
    "            \n",
    "if len(array) > 0:\n",
    "    print(sum(array))\n",
    "    print(min(array))\n",
    "else:\n",
    "    print(-1)"
   ]
  },
  {
   "cell_type": "markdown",
   "id": "2258d86f",
   "metadata": {},
   "source": [
    "### 11653 소인수분해\n",
    "> **문제** <br>\n",
    "정수 N이 주어졌을 때, 소인수분해하는 프로그램을 작성하시오."
   ]
  },
  {
   "cell_type": "code",
   "execution_count": 69,
   "id": "e2333e12",
   "metadata": {},
   "outputs": [
    {
     "name": "stdout",
     "output_type": "stream",
     "text": [
      "6\n",
      "2\n",
      "3\n"
     ]
    }
   ],
   "source": [
    "# 소수 판별해서 식구하면 오래걸림 -> 소인수분해 알고리즘 참고\n",
    "n = int(input())  # 나누어지는 수\n",
    "d = 2  # 나누는 수\n",
    "\n",
    "while n != 1: # 나누어 떨어지지 않으면\n",
    "    if n % d != 0: # 나누는 수 1 증가\n",
    "        d += 1 #  나누어 떨어지면\n",
    "    else:\n",
    "        print(d) # 소인수니까 출력하고\n",
    "        n //= d  # 나누어지는 수도 갱신"
   ]
  },
  {
   "cell_type": "markdown",
   "id": "c0f9ff1c",
   "metadata": {},
   "source": [
    "### 1929 소수 구하기\n",
    "> **문제** <br>\n",
    "M이상 N이하의 소수를 모두 출력하는 프로그램을 작성하시오."
   ]
  },
  {
   "cell_type": "code",
   "execution_count": 99,
   "id": "13ed72d4",
   "metadata": {},
   "outputs": [
    {
     "name": "stdout",
     "output_type": "stream",
     "text": [
      "3 15\n",
      "3\n",
      "5\n",
      "7\n",
      "11\n",
      "13\n"
     ]
    }
   ],
   "source": [
    "# 시간 초과\n",
    "a, b = map(int, input().split())\n",
    "prime = [] \n",
    "\n",
    "for i in range(a, b): \n",
    "    e = 0 \n",
    "    if i > 1:\n",
    "        for j in range(2, int(i**0.5)+1):\n",
    "            if  i % j == 0:\n",
    "                e = 1   # 배수\n",
    "        if e == 0:\n",
    "            print(i) # 소수                "
   ]
  },
  {
   "cell_type": "code",
   "execution_count": 77,
   "id": "72229947",
   "metadata": {},
   "outputs": [
    {
     "name": "stdout",
     "output_type": "stream",
     "text": [
      "3 16\n",
      "3\n",
      "5\n",
      "7\n",
      "11\n",
      "13\n"
     ]
    }
   ],
   "source": [
    "# 시간초과 -> 제곱하여 시간을 단축\n",
    "def is_prime(num):\n",
    "    if num == 1:\n",
    "        return False\n",
    "    else:\n",
    "        # n의 최대 약수가 sqrt(n) 이하이므로 i=sqrt(n)까지 검사\n",
    "        for i in range(2, int(num ** 0.5) + 1):  \n",
    "            if num % i == 0:\n",
    "                return False\n",
    "        return True\n",
    "\n",
    "x,y = map(int, input().split())\n",
    "for i in range(x,y+1):\n",
    "    if is_prime(i):\n",
    "        print(i)"
   ]
  },
  {
   "cell_type": "markdown",
   "id": "07ddb80f",
   "metadata": {},
   "source": [
    "### 4948 베르트랑 공준\n",
    "> **문제** <br>\n",
    "베르트랑 공준은 임의의 자연수 n에 대하여, n보다 크고, 2n보다 작거나 같은 소수는 적어도 하나 존재한다는 내용을 담고 있다. <br>\n",
    "이 명제는 조제프 베르트랑이 1845년에 추측했고, 파프누티 체비쇼프가 1850년에 증명했다.<br>\n",
    "예를 들어, 10보다 크고, 20보다 작거나 같은 소수는 4개가 있다. (11, 13, 17, 19) 또, 14보다 크고, 28보다 작거나 같은 소수는 3개가 있다. (17,19, 23)<br>\n",
    "자연수 n이 주어졌을 때, n보다 크고, 2n보다 작거나 같은 소수의 개수를 구하는 프로그램을 작성하시오. "
   ]
  },
  {
   "cell_type": "code",
   "execution_count": 191,
   "id": "cb81cf4b",
   "metadata": {
    "collapsed": true
   },
   "outputs": [
    {
     "name": "stdout",
     "output_type": "stream",
     "text": [
      "1\n",
      "1\n",
      "10\n",
      "4\n",
      "13\n",
      "3\n",
      "100\n",
      "21\n",
      "1000\n",
      "135\n",
      "10000\n",
      "1033\n",
      "100000\n",
      "8392\n",
      "0\n"
     ]
    }
   ],
   "source": [
    "# 시간 초과...\n",
    "# 소수를 구하는 함수 -> while 문 \n",
    "def is_prime(a):\n",
    "    prime = 0  \n",
    "    for i in range(a+1, (2*a)+1): \n",
    "        e = 0 \n",
    "        if i > 1:\n",
    "            for j in range(2, int(i**0.5)+1):\n",
    "                if  i % j == 0:\n",
    "                    e = 1  \n",
    "            if e == 0:\n",
    "                prime += 1\n",
    "        elif i == 1:\n",
    "            prime += 1\n",
    "    print(prime)\n",
    "\n",
    "while True:\n",
    "    n = int(input())\n",
    "    if n == 0:\n",
    "        break\n",
    "    is_prime(n)"
   ]
  },
  {
   "cell_type": "markdown",
   "id": "6152db9c",
   "metadata": {},
   "source": [
    "<pre>\n",
    "# 정답 코드\n",
    "while True:\n",
    "    n = int(input())\n",
    "    if n == 0:\n",
    "        break\n",
    "    n1, n2= n+1, 2*n\n",
    "    li = [1]*(n2+1)\n",
    "    for i in range(2, int((n2+1)**0.5) + 1):\n",
    "        if li[i] == 1:\n",
    "            for j in range(i+i, n2+1, i):\n",
    "                li[j] = 0\n",
    "    cnt = 0\n",
    "    for i in range(n1, n2+1):\n",
    "        if li[i] == 1 and i > 1:\n",
    "            cnt += 1\n",
    "    print(cnt)"
   ]
  },
  {
   "cell_type": "markdown",
   "id": "65c679c3",
   "metadata": {},
   "source": [
    "### 9020 골드바흐의 추측\n",
    "> **문제** <br>\n",
    "1보다 큰 자연수 중에서  1과 자기 자신을 제외한 약수가 없는 자연수를 소수라고 한다. 예를 들어, 5는 1과 5를 제외한 약수가 없기 때문에 소수이다. 하지만, 6은 6 = 2 × 3 이기 때문에 소수가 아니다. <br>\n",
    "골드바흐의 추측은 유명한 정수론의 미해결 문제로, 2보다 큰 모든 짝수는 두 소수의 합으로 나타낼 수 있다는 것이다. 이러한 수를 골드바흐 수라고 한다. 또, 짝수를 두 소수의 합으로 나타내는 표현을 그 수의 골드바흐 파티션이라고 한다. 예를 들면, 4 = 2 + 2, 6 = 3 + 3, 8 = 3 + 5, 10 = 5 + 5, 12 = 5 + 7, 14 = 3 + 11, 14 = 7 + 7이다. 10000보다 작거나 같은 모든 짝수 n에 대한 골드바흐 파티션은 존재한다. <br>\n",
    "2보다 큰 짝수 n이 주어졌을 때, n의 골드바흐 파티션을 출력하는 프로그램을 작성하시오. 만약 가능한 n의 골드바흐 파티션이 여러 가지인 경우에는 두 소수의 차이가 가장 작은 것을 출력한다."
   ]
  },
  {
   "cell_type": "code",
   "execution_count": 30,
   "id": "44be8842",
   "metadata": {},
   "outputs": [
    {
     "name": "stdout",
     "output_type": "stream",
     "text": [
      "3\n",
      "8\n",
      "10\n",
      "16\n",
      "3 5\n",
      "5 5\n",
      "5 11\n"
     ]
    }
   ],
   "source": [
    "n =  int(input())\n",
    "data = tuple( map( int, (input().strip() for _ in range(n)  ) )) #줄바꾸기 입력받기 \n",
    "\n",
    "\n",
    "def sosu(x):\n",
    "    yaksu = []\n",
    "    for a in range(1, int(x+1)) :\n",
    "        if x%a == 0 : \n",
    "            yaksu.append(a) #약수 판정\n",
    "    if len(yaksu) == 2 :\n",
    "        return True\n",
    "    else :\n",
    "        return False\n",
    "\n",
    "for j in data:\n",
    "    k = int(j/2)           \n",
    "    for l in range(0, k): #이거 0부터인 이유 = 반으로 나눴을 때 소수인 경우 포함시켜줘야함\n",
    "        if (sosu(k-l) == True) and (sosu(k+l) == True):\n",
    "            print(k-l, k+l)\n",
    "            break #안끊어주면 순서쌍나옴"
   ]
  },
  {
   "cell_type": "code",
   "execution_count": 31,
   "id": "55a6361e",
   "metadata": {},
   "outputs": [
    {
     "name": "stdout",
     "output_type": "stream",
     "text": [
      "3\n",
      "8\n",
      "3 5\n",
      "10\n",
      "5 5\n",
      "16\n",
      "5 11\n"
     ]
    }
   ],
   "source": [
    "prime_list = [False, False] + [True]*10002\n",
    "\n",
    "for i in range(2, 10002):\n",
    "    if prime_list[i]:\n",
    "        for j in range(2*i, 10002, i):\n",
    "            prime_list[j] = False\n",
    "\n",
    "T = int(input())\n",
    "\n",
    "for i in range(T):\n",
    "    n = int(input())\n",
    "    a = n//2\n",
    "    b = a\n",
    "    while a>0:\n",
    "        if prime_list[a] and prime_list[b]:\n",
    "            print(a, b)\n",
    "            break\n",
    "        else:\n",
    "            a-=1\n",
    "            b+=1"
   ]
  },
  {
   "cell_type": "markdown",
   "id": "86d374e6",
   "metadata": {},
   "source": [
    "### 1085 직사각형에서 탈출\n",
    "> **문제** <br>\n",
    "한수는 지금 (x, y)에 있다. 직사각형은 각 변이 좌표축에 평행하고, 왼쪽 아래 꼭짓점은 (0, 0), 오른쪽 위 꼭짓점은 (w, h)에 있다. 직사각형의 경계선까지 가는 거리의 최솟값을 구하는 프로그램을 작성하시오.\n"
   ]
  },
  {
   "cell_type": "code",
   "execution_count": 3,
   "id": "8fdddf5b",
   "metadata": {},
   "outputs": [
    {
     "name": "stdout",
     "output_type": "stream",
     "text": [
      "653 375 1000 1000\n",
      "347\n"
     ]
    }
   ],
   "source": [
    "x,y,w,h = map(int, input().split())\n",
    "print(min(x,y,(w-x),(h-y)))"
   ]
  },
  {
   "cell_type": "markdown",
   "id": "a94c634b",
   "metadata": {},
   "source": [
    "### 3009 네 번째 점\n",
    "> **문제** <br>\n",
    "세 점이 주어졌을 때, 축에 평행한 직사각형을 만들기 위해서 필요한 네 번째 점을 찾는 프로그램을 작성하시오."
   ]
  },
  {
   "cell_type": "code",
   "execution_count": 202,
   "id": "a5a84e98",
   "metadata": {},
   "outputs": [
    {
     "name": "stdout",
     "output_type": "stream",
     "text": [
      "5 5\n",
      "5 7\n",
      "7 5\n",
      "7 7\n"
     ]
    }
   ],
   "source": [
    "# 2차원 -> 배열\n",
    "a = []\n",
    "b = []\n",
    "for _ in range(3):\n",
    "    x, y = map(int, input().split())\n",
    "    a.append(x)\n",
    "    b.append(y)\n",
    "\n",
    "for i in range(3):\n",
    "    if a.count(a[i]) == 1:\n",
    "        X = a[i]\n",
    "    if b.count(b[i]) == 1:\n",
    "        Y = b[i]\n",
    "        \n",
    "print(X,Y)"
   ]
  },
  {
   "cell_type": "markdown",
   "id": "ab87412e",
   "metadata": {},
   "source": [
    "### 4153 직각삼각형\n",
    "> **문제** <br>\n",
    "과거 이집트인들은 각 변들의 길이가 3, 4, 5인 삼각형이 직각 삼각형인것을 알아냈다. 주어진 세변의 길이로 삼각형이 직각인지 아닌지 구분하시오.\n",
    "<img src=\"https://www.acmicpc.net/upload/images3/rope-triangle.gif\" width=\"300\" style=\"float:left\" />\n"
   ]
  },
  {
   "cell_type": "markdown",
   "id": "20064180",
   "metadata": {},
   "source": [
    "000 나올때까지 반복 ->  while문 사용<br>\n",
    "피타고라스의 정리 \n",
    "<pre> c가 제일 길다고 가정,\n",
    "c**2 = a**2 + b**2\n",
    "c*c = a*a + b*b"
   ]
  },
  {
   "cell_type": "code",
   "execution_count": 86,
   "id": "76f050f7",
   "metadata": {
    "scrolled": true
   },
   "outputs": [
    {
     "name": "stdout",
     "output_type": "stream",
     "text": [
      "6 8 10\n",
      "right\n",
      "25 52 60\n",
      "wrong\n",
      "0 0 0\n",
      "None\n"
     ]
    }
   ],
   "source": [
    "def search(x,y,z):\n",
    "    \n",
    "    while True:\n",
    "        x,y,z = map(int, input().split())\n",
    "        \n",
    "        # 삼각형이 아닐경우\n",
    "        if x == 0 and y == 0 and z == 0:\n",
    "            break\n",
    "            \n",
    "        c = z**2\n",
    "        a = x**2\n",
    "        b = y**2\n",
    "        if (c == a+b) or (a == b+c) or (b == a+c):\n",
    "            print('right')\n",
    "        else:\n",
    "            print('wrong')\n",
    "        \n",
    "print(search(x,y,z))"
   ]
  },
  {
   "cell_type": "code",
   "execution_count": 85,
   "id": "76b26920",
   "metadata": {},
   "outputs": [
    {
     "name": "stdout",
     "output_type": "stream",
     "text": [
      "6 8 10\n",
      "right\n",
      "25 52 60\n",
      "wrong\n",
      "5 12 13\n",
      "right\n",
      "0 0 0\n"
     ]
    }
   ],
   "source": [
    "while True:\n",
    "    a = list(map(int, input().split()))\n",
    "    max_num = max(a)\n",
    "    if sum(a) == 0:\n",
    "            break\n",
    "    sort_a = sorted(a, reverse=True)\n",
    "    if sort_a[0]**2 == (sort_a[1]**2) + (sort_a[2]**2):\n",
    "        print('right')\n",
    "    else:\n",
    "        print('wrong')"
   ]
  },
  {
   "cell_type": "code",
   "execution_count": 65,
   "id": "12f512ae",
   "metadata": {},
   "outputs": [
    {
     "name": "stdout",
     "output_type": "stream",
     "text": [
      "6 8 10\n",
      "right\n",
      "0 0 0\n"
     ]
    }
   ],
   "source": [
    "# 숏코딩\n",
    "a=1\n",
    "while a:\n",
    "    a,b,c=sorted(map(int,input().split()))\n",
    "    a > 0==print('rwirgohntg'[a*a + b*b != c*c::2])"
   ]
  },
  {
   "cell_type": "markdown",
   "id": "7c9c47cc",
   "metadata": {},
   "source": [
    "### 3053 택시 기하학\n",
    "> **문제** <br>\n",
    "19세기 독일 수학자 헤르만 민코프스키는 비유클리드 기하학 중 택시 기하학을 고안했다. <br>\n",
    "택시 기하학에서 두 점 T1(x1,y1), T2(x2,y2) 사이의 거리는 다음과 같이 구할 수 있다.<br>\n",
    "D(T1,T2) = |x1-x2| + |y1-y2|<br>\n",
    "두 점 사이의 거리를 제외한 나머지 정의는 유클리드 기하학에서의 정의와 같다.<br>\n",
    "따라서 택시 기하학에서 원의 정의는 유클리드 기하학에서 원의 정의와 같다.<br>\n",
    "원: 평면 상의 어떤 점에서 거리가 일정한 점들의 집합<br>\n",
    "반지름 R이 주어졌을 때, 유클리드 기하학에서 원의 넓이와, 택시 기하학에서 원의 넓이를 구하는 프로그램을 작성하시오."
   ]
  },
  {
   "cell_type": "code",
   "execution_count": 17,
   "id": "3862603c",
   "metadata": {},
   "outputs": [
    {
     "name": "stdout",
     "output_type": "stream",
     "text": [
      "1\n",
      "3.141593\n",
      "2.000000\n"
     ]
    }
   ],
   "source": [
    "import math\n",
    "r = int(input())\n",
    "print(f'{r*r*math.pi:.6f}')\n",
    "print(f'{2*r*r:.6f}') # 택시 기하학의 원의 넓이"
   ]
  },
  {
   "cell_type": "markdown",
   "id": "0a9a2ad2",
   "metadata": {},
   "source": [
    "### 1002 터렛\n",
    "> **문제** <br>\n",
    "조규현과 백승환은 터렛에 근무하는 직원이다. 하지만 워낙 존재감이 없어서 인구수는 차지하지 않는다. 다음은 조규현과 백승환의 사진이다. <br>\n",
    "이석원은 조규현과 백승환에게 상대편 마린(류재명)의 위치를 계산하라는 명령을 내렸다. 조규현과 백승환은 각각 자신의 터렛 위치에서 현재 적까지의 거리를 계산했다. <br>\n",
    "조규현의 좌표 (x1, y1)와 백승환의 좌표 (x2, y2)가 주어지고, 조규현이 계산한 류재명과의 거리 r1과 백승환이 계산한 류재명과의 거리 r2가 주어졌을 때, 류재명이 있을 수 있는 좌표의 수를 출력하는 프로그램을 작성하시오.\n",
    "\n",
    "<img src=\"https://www.acmicpc.net/upload/201003/dfcmhrjj_142c3w76qg8_b.jpg\" width=\"100\" style=\"float:left\" />"
   ]
  },
  {
   "cell_type": "code",
   "execution_count": 21,
   "id": "00d5533d",
   "metadata": {},
   "outputs": [
    {
     "name": "stdout",
     "output_type": "stream",
     "text": [
      "3\n",
      "0 0 13 40 0 37\n",
      "0 0 3 0 7 4\n",
      "1 1 1 1 1 5\n",
      "2\n",
      "1\n"
     ]
    }
   ],
   "source": [
    "n = int(input())\n",
    "array = [list(map(int, input().split())) for _ in range(n)]\n",
    "\n",
    "# 조 로부터 반지름 r1인 원, 류 로부터 반지름 r2인 원의 교점의 개수\n",
    "#2개 = 반지름 차 <두 중점 사이의 거리 < 반지름 합\n",
    "#1개인 경우: 원의 두 중점 사이의 거리 = 두 반지름의 합\n",
    "#0개인 경우: 원의 두 중점 사이의 거리 > 두 반지름의 합\n",
    "for i in range(0,n):\n",
    "    d = array[i]\n",
    "    #같은 원 먼저 제껴줌\n",
    "    dis = ( (d[3] - d[0])**2 + (d[4] - d[1])**2 )**(1/2)\n",
    "    if dis == 0 and (d[2] == d[5]):\n",
    "        print(-1)\n",
    "    #2개인 경우 \n",
    "    elif abs(d[2] - d[5])  < dis <  (d[2]+ d[5])  :\n",
    "        print(2)\n",
    "    #1개\n",
    "    elif ( dis == (d[2]+ d[5])) or (dis == abs(d[2] - d[5]) ):\n",
    "        print(1)\n",
    "    elif( dis > (d[2]+ d[5])) or (dis < abs(d[2] - d[5])) :\n",
    "        print(0)"
   ]
  },
  {
   "cell_type": "code",
   "execution_count": null,
   "id": "7263a264",
   "metadata": {},
   "outputs": [],
   "source": [
    "import math\n",
    "\n",
    "n = int(input())\n",
    "\n",
    "for _ in range(n):\n",
    "    x1, y1, r1, x2, y2, r2 = map(int, input().split())\n",
    "    distance = math.sqrt((x1-x2)**2 + (y1-y2)**2)  # 두 원의 거리 (원의방정식활용)\n",
    "    if distance == 0 and r1 == r2 :  # 두 원이 동심원이고 반지름이 같을 때\n",
    "        print(-1)\n",
    "    elif abs(r1-r2) == distance or r1 + r2 == distance:  # 내접, 외접일 때\n",
    "        print(1)\n",
    "    elif abs(r1-r2) < distance < (r1+r2) :  # 두 원이 서로다른 두 점에서 만날 때\n",
    "        print(2)\n",
    "    else:\n",
    "        print(0)  # 그 외에"
   ]
  }
 ],
 "metadata": {
  "kernelspec": {
   "display_name": "Python 3 (ipykernel)",
   "language": "python",
   "name": "python3"
  },
  "language_info": {
   "codemirror_mode": {
    "name": "ipython",
    "version": 3
   },
   "file_extension": ".py",
   "mimetype": "text/x-python",
   "name": "python",
   "nbconvert_exporter": "python",
   "pygments_lexer": "ipython3",
   "version": "3.8.13"
  }
 },
 "nbformat": 4,
 "nbformat_minor": 5
}
