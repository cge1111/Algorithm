{
 "cells": [
  {
   "cell_type": "markdown",
   "id": "d4ab6337",
   "metadata": {},
   "source": [
    "## [1920](https://www.acmicpc.net/problem/1920) 수 찾기 \n",
    "\n",
    "> **문제** <br>\n",
    "N개의 정수 A[1], A[2], …, A[N]이 주어져 있을 때, 이 안에 X라는 정수가 존재하는지 알아내는 프로그램을 작성하시오.\n",
    "\n",
    "> **입력** <br>\n",
    "첫째 줄에 자연수 N(1 ≤ N ≤ 100,000)이 주어진다. 다음 줄에는 N개의 정수 A[1], A[2], …, A[N]이 주어진다. 다음 줄에는 M(1 ≤ M ≤ 100,000)이 주어진다. 다음 줄에는 M개의 수들이 주어지는데, 이 수들이 A안에 존재하는지 알아내면 된다. 모든 정수의 범위는 -231 보다 크거나 같고 231보다 작다.\n",
    "\n",
    "\n",
    "> **출력** <br>\n",
    "M개의 줄에 답을 출력한다. 존재하면 1을, 존재하지 않으면 0을 출력한다.\n",
    "\n",
    "**예제 입력 1**<br>\n",
    "\n",
    "<div class=\"alert alert-block alert-success\">\n",
    "    5 <br>\n",
    "    4 1 5 2 3<br>\n",
    "    5<br>\n",
    "    1 3 7 9 5<br>\n",
    "</div>\n",
    "\n",
    "**예제 출력 1**<br>\n",
    "<div class=\"alert alert-block alert-success\">\n",
    "1<br>\n",
    "1<br>\n",
    "0<br>\n",
    "0<br>\n",
    "1<br>\n",
    "</div>"
   ]
  },
  {
   "cell_type": "code",
   "execution_count": 9,
   "id": "f2222b08",
   "metadata": {
    "ExecuteTime": {
     "end_time": "2022-09-08T02:04:25.205817Z",
     "start_time": "2022-09-08T02:04:18.821991Z"
    }
   },
   "outputs": [
    {
     "name": "stdout",
     "output_type": "stream",
     "text": [
      "5\n",
      "4 1 5 2 3\n",
      "5\n",
      "1 3 7 9 5\n",
      "1\n",
      "1\n",
      "0\n",
      "0\n",
      "1\n"
     ]
    }
   ],
   "source": [
    "# 시간초과! O(logn)\n",
    "n1 = int(input())\n",
    "m1 = list(map(int, input().split()))\n",
    "m1.sort()\n",
    "\n",
    "n2 = int(input())\n",
    "m2 = list(map(int, input().split()))\n",
    "\n",
    "\n",
    "for i in m2:\n",
    "    if i in m1:\n",
    "        print(1)\n",
    "    else:\n",
    "        print(0)"
   ]
  },
  {
   "cell_type": "code",
   "execution_count": null,
   "id": "779213cd",
   "metadata": {
    "ExecuteTime": {
     "end_time": "2022-09-08T02:04:43.951065Z",
     "start_time": "2022-09-08T02:04:37.938172Z"
    }
   },
   "outputs": [],
   "source": [
    "# 재귀!\n",
    "N = int(input())\n",
    "N_list = list(map(int, input().split()))\n",
    "M = int(input())\n",
    "M_list = list(map(int, input().split()))\n",
    "N_list.sort()\n",
    "\n",
    "def binary_search(value, start, end):\n",
    "    if start > end:\n",
    "        return False\n",
    "    \n",
    "    median = (start + end) // 2\n",
    "    if N_list[median] > value:\n",
    "        return binary_search(value, start, median - 1)\n",
    "    elif N_list[median] < value:\n",
    "        return binary_search(value, median + 1, end)\n",
    "    else:\n",
    "        return True\n",
    "        \n",
    "for item in M_list:\n",
    "    if binary_search(item, 0, N - 1):\n",
    "        print (1)\n",
    "    else:\n",
    "        print (0)"
   ]
  },
  {
   "cell_type": "markdown",
   "id": "c41d7cb5",
   "metadata": {},
   "source": [
    "**[풀이2]** 집합 자료형을 통한 포함 여부 확인"
   ]
  },
  {
   "cell_type": "code",
   "execution_count": 13,
   "id": "8aa3779d",
   "metadata": {
    "ExecuteTime": {
     "end_time": "2022-09-08T02:16:14.722345Z",
     "start_time": "2022-09-08T02:16:08.011223Z"
    }
   },
   "outputs": [
    {
     "name": "stdout",
     "output_type": "stream",
     "text": [
      "5\n",
      "4 1 5 2 3\n",
      "5\n",
      "1 3 7 9 5\n",
      "1\n",
      "1\n",
      "0\n",
      "0\n",
      "1\n"
     ]
    }
   ],
   "source": [
    "# 입력\n",
    "n = int(input())\n",
    "N = set(map(int, input().split()))   # 탐색 시간을 줄이기 위해 -> set으로 받음\n",
    "m = int(input())\n",
    "M = list(map(int, input().split()))\n",
    "\n",
    "for i in M:    # arr의 각 원소별로 탐색\n",
    "    print(1) if i in N else print(0) # num이 N 안에 있으면 1, 없으면 0 출력"
   ]
  }
 ],
 "metadata": {
  "kernelspec": {
   "display_name": "Python 3 (ipykernel)",
   "language": "python",
   "name": "python3"
  },
  "language_info": {
   "codemirror_mode": {
    "name": "ipython",
    "version": 3
   },
   "file_extension": ".py",
   "mimetype": "text/x-python",
   "name": "python",
   "nbconvert_exporter": "python",
   "pygments_lexer": "ipython3",
   "version": "3.8.13"
  },
  "toc": {
   "base_numbering": 1,
   "nav_menu": {},
   "number_sections": true,
   "sideBar": true,
   "skip_h1_title": false,
   "title_cell": "Table of Contents",
   "title_sidebar": "Contents",
   "toc_cell": false,
   "toc_position": {},
   "toc_section_display": true,
   "toc_window_display": false
  }
 },
 "nbformat": 4,
 "nbformat_minor": 5
}
