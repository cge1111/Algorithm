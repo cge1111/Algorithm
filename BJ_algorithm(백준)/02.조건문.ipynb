{
 "cells": [
  {
   "cell_type": "markdown",
   "id": "206aaeb5",
   "metadata": {},
   "source": [
    "### 1330 두 수 비교하기"
   ]
  },
  {
   "cell_type": "code",
   "execution_count": 1,
   "id": "9b129fdb",
   "metadata": {},
   "outputs": [
    {
     "name": "stdout",
     "output_type": "stream",
     "text": [
      "<\n"
     ]
    }
   ],
   "source": [
    "# 함수로 만들어봄\n",
    "def func(a,b):\n",
    "    if a > b:\n",
    "        print('>')\n",
    "    elif a < b:\n",
    "        print('<')\n",
    "    else:\n",
    "        print('==')\n",
    "func(1,2)"
   ]
  },
  {
   "cell_type": "code",
   "execution_count": 5,
   "id": "0f0242b9",
   "metadata": {},
   "outputs": [
    {
     "name": "stdout",
     "output_type": "stream",
     "text": [
      "10 2\n",
      ">\n"
     ]
    }
   ],
   "source": [
    "a,b = map(int, input().split())\n",
    "if a > b:\n",
    "    print('>')\n",
    "elif a < b:\n",
    "    print('<')\n",
    "else:\n",
    "    print('==')"
   ]
  },
  {
   "cell_type": "markdown",
   "id": "aa6afaab",
   "metadata": {},
   "source": [
    "### 9498 시험 성적"
   ]
  },
  {
   "cell_type": "code",
   "execution_count": 23,
   "id": "5c5bf5a6",
   "metadata": {},
   "outputs": [
    {
     "name": "stdout",
     "output_type": "stream",
     "text": [
      "50\n",
      "F\n"
     ]
    }
   ],
   "source": [
    "n = int(input())\n",
    "if n < 60:\n",
    "    print('F')\n",
    "elif 59 < n < 70 :\n",
    "    print('D')\n",
    "elif 69 < n < 80 :\n",
    "    print('C')\n",
    "elif 79 < n < 90 :\n",
    "    print('B')\n",
    "elif 89 < n < 101:\n",
    "    print('A')"
   ]
  },
  {
   "cell_type": "markdown",
   "id": "3009fb03",
   "metadata": {},
   "source": [
    "### 2753 윤년"
   ]
  },
  {
   "cell_type": "code",
   "execution_count": 28,
   "id": "d388a8ae",
   "metadata": {},
   "outputs": [
    {
     "name": "stdout",
     "output_type": "stream",
     "text": [
      "1999\n",
      "0\n"
     ]
    }
   ],
   "source": [
    "n = int(input())\n",
    "if n % 4 == 0:\n",
    "    if (n % 100 != 0) or (n % 400 == 0):\n",
    "        print(1)\n",
    "    else:\n",
    "        print(0)\n",
    "else:\n",
    "    print(0)"
   ]
  },
  {
   "cell_type": "markdown",
   "id": "43425ddf",
   "metadata": {},
   "source": [
    "### 14861 사분면 고르기\n",
    "<img src=\"https://onlinejudgeimages.s3-ap-northeast-1.amazonaws.com/problem/14681/1.png\" width=\"300\" style=\"float:left\" />"
   ]
  },
  {
   "cell_type": "code",
   "execution_count": 30,
   "id": "46249c64",
   "metadata": {},
   "outputs": [
    {
     "name": "stdout",
     "output_type": "stream",
     "text": [
      "9\n",
      "-13\n",
      "4\n"
     ]
    }
   ],
   "source": [
    "x = int(input())\n",
    "y = int(input())\n",
    "if x > 0 and y > 0:\n",
    "    print(1)\n",
    "elif x < 0 and y > 0:\n",
    "    print(2)\n",
    "elif x < 0 and y < 0:\n",
    "    print(3)\n",
    "else:\n",
    "    print(4)"
   ]
  },
  {
   "cell_type": "markdown",
   "id": "86b255ed",
   "metadata": {},
   "source": [
    "### 2884 알람 시계"
   ]
  },
  {
   "cell_type": "code",
   "execution_count": 50,
   "id": "5f01bcfe",
   "metadata": {},
   "outputs": [
    {
     "name": "stdout",
     "output_type": "stream",
     "text": [
      "01 23\n",
      "0 38\n"
     ]
    }
   ],
   "source": [
    "H,M = map(int, input().split())\n",
    "if M > 44:\n",
    "    print(H, M - 45)\n",
    "elif M < 45 and H > 0:\n",
    "    print(H - 1 , M + 15)\n",
    "else:\n",
    "    print(23, M + 15)"
   ]
  },
  {
   "cell_type": "markdown",
   "id": "97e7d86d",
   "metadata": {},
   "source": [
    "### 2525 오븐 시계"
   ]
  },
  {
   "cell_type": "code",
   "execution_count": 73,
   "id": "8aa0ffa8",
   "metadata": {},
   "outputs": [
    {
     "name": "stdout",
     "output_type": "stream",
     "text": [
      "23 48\n",
      "25\n",
      "0 13\n"
     ]
    }
   ],
   "source": [
    "H, M = map(int, input().split())\n",
    "timer = int(input())\n",
    "\n",
    "H += timer//60\n",
    "M += timer%60\n",
    "\n",
    "if M >= 60:\n",
    "    H += 1\n",
    "    M -= 60\n",
    "if H >= 24:\n",
    "    H -= 24\n",
    "print(H,M)"
   ]
  },
  {
   "cell_type": "markdown",
   "id": "c31f616c",
   "metadata": {},
   "source": [
    "### 2480 주사위 세개"
   ]
  },
  {
   "cell_type": "code",
   "execution_count": 4,
   "id": "a1592579",
   "metadata": {},
   "outputs": [
    {
     "name": "stdout",
     "output_type": "stream",
     "text": [
      "6 2 5\n",
      "600\n"
     ]
    }
   ],
   "source": [
    "a, b, c = map(int, input().split())\n",
    "if a == b and a == c:\n",
    "    print(10000+(a*1000))\n",
    "elif a == b:\n",
    "    print(1000+(a*100))\n",
    "elif b == c:\n",
    "    print(1000+(b*100))\n",
    "elif a == c:\n",
    "    print(1000+(c*100))\n",
    "else:\n",
    "    print(max(a,b,c)*100)"
   ]
  },
  {
   "cell_type": "code",
   "execution_count": null,
   "id": "b4ea73b0",
   "metadata": {},
   "outputs": [],
   "source": []
  }
 ],
 "metadata": {
  "kernelspec": {
   "display_name": "Python 3 (ipykernel)",
   "language": "python",
   "name": "python3"
  },
  "language_info": {
   "codemirror_mode": {
    "name": "ipython",
    "version": 3
   },
   "file_extension": ".py",
   "mimetype": "text/x-python",
   "name": "python",
   "nbconvert_exporter": "python",
   "pygments_lexer": "ipython3",
   "version": "3.8.13"
  }
 },
 "nbformat": 4,
 "nbformat_minor": 5
}
