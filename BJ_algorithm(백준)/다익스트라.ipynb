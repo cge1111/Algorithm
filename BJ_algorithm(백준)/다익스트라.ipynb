{
 "cells": [
  {
   "cell_type": "markdown",
   "metadata": {},
   "source": [
    "### [10282 해킹](https://www.acmicpc.net/problem/10282) 50분\n",
    "\n",
    "큐 사용"
   ]
  },
  {
   "cell_type": "code",
   "execution_count": 25,
   "metadata": {
    "ExecuteTime": {
     "end_time": "2022-09-19T07:56:48.036145Z",
     "start_time": "2022-09-19T07:56:30.562244Z"
    }
   },
   "outputs": [
    {
     "name": "stdout",
     "output_type": "stream",
     "text": [
      "2\n",
      "3 2 2 \n",
      "2 1 5\n",
      "3 2 5\n",
      "2 5\n",
      "3 3 1\n",
      "2 1 2\n",
      "3 1 8\n",
      "3 2 4\n",
      "5 6\n"
     ]
    }
   ],
   "source": [
    "import heapq\n",
    "\n",
    "# 다익스트라        \n",
    "def dijkstra(start): \n",
    "    heap = []\n",
    "    heapq.heappush(heap, (0, start)) # 시작 노드로 가기 위한 최단 경로 0으로 설정, 큐에 삽입\n",
    "    distance[start] = 0\n",
    "    \n",
    "    while heap:\n",
    "        dist, now = heapq.heappop(heap) # 가장 최단 거리가 짧은 노드에 대한 정보 꺼내기\n",
    "        if distance[now] < dist: # 현재 노드가 이미 처리된 적이 있는 노드라면 무시\n",
    "            continue\n",
    "        for i in graph[now]:  # 현재 노드와 연결된 다른 인접한 노드들을 확인\n",
    "            cost = dist + i[1]\n",
    "            if cost < distance[i[0]]: # 현재 노드를 거쳐서, 다른 노드로 이동하는 거리가 더 짧은 경우\n",
    "                distance[i[0]] = cost\n",
    "                heapq.heappush(heap, (cost, i[0]))\n",
    "\n",
    "n = int(input()) # 시작 정점 번호\n",
    "INF = int(1e9)\n",
    "count, max_distanc = 0,0\n",
    "\n",
    "for _ in range(n):\n",
    "    n,d,c = map(int, input().split()) \n",
    "    graph = [[]*(n+1) for _ in range(n+1)]   # 그래프 초기화\n",
    "    distance = [INF] *(n+1) # 최단 거리 테이블을 모두 무한으로 초기화\n",
    "    for _ in range(d): # 간선 정보 입력\n",
    "        a,b,s = map(int, input().split()) \n",
    "        graph[b].append((a, s)) # b->a가 s시간\n",
    "    dijkstra(c) # 다익스트라 적용 \n",
    "    \n",
    "    for i in distance:\n",
    "        if i != INF:\n",
    "            count += 1\n",
    "            if i > max_distanc :\n",
    "                max_distanc = i\n",
    "    print(count, max_distanc)"
   ]
  },
  {
   "cell_type": "markdown",
   "metadata": {},
   "source": [
    "### [5719 거의 최단 경로](https://www.acmicpc.net/problem/5719) 50분"
   ]
  },
  {
   "cell_type": "code",
   "execution_count": null,
   "metadata": {},
   "outputs": [],
   "source": []
  },
  {
   "cell_type": "markdown",
   "metadata": {},
   "source": [
    "### [1774 우주신과의 교감](https://www.acmicpc.net/problem/1774) 40분"
   ]
  },
  {
   "cell_type": "code",
   "execution_count": null,
   "metadata": {},
   "outputs": [],
   "source": []
  }
 ],
 "metadata": {
  "kernelspec": {
   "display_name": "Python 3 (ipykernel)",
   "language": "python",
   "name": "python3"
  },
  "language_info": {
   "codemirror_mode": {
    "name": "ipython",
    "version": 3
   },
   "file_extension": ".py",
   "mimetype": "text/x-python",
   "name": "python",
   "nbconvert_exporter": "python",
   "pygments_lexer": "ipython3",
   "version": "3.8.13"
  }
 },
 "nbformat": 4,
 "nbformat_minor": 2
}
