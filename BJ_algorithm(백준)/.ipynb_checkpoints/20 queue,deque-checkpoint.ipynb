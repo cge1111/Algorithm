{
 "cells": [
  {
   "cell_type": "markdown",
   "id": "a636daed",
   "metadata": {},
   "source": [
    "## 2164 카드2 \n",
    "\n",
    "> **문제** <br>\n",
    "N장의 카드가 있다. 각각의 카드는 차례로 1부터 N까지의 번호가 붙어 있으며, 1번 카드가 제일 위에, N번 카드가 제일 아래인 상태로 순서대로 카드가 놓여 있다. <br>\n",
    "이제 다음과 같은 동작을 카드가 한 장 남을 때까지 반복하게 된다. 우선, 제일 위에 있는 카드를 바닥에 버린다. 그 다음, 제일 위에 있는 카드를 제일 아래에 있는 카드 밑으로 옮긴다. <br>\n",
    "예를 들어 N=4인 경우를 생각해 보자. 카드는 제일 위에서부터 1234 의 순서로 놓여있다. 1을 버리면 234가 남는다. 여기서 2를 제일 아래로 옮기면 342가 된다. 3을 버리면 42가 되고, 4를 밑으로 옮기면 24가 된다. 마지막으로 2를 버리고 나면, 남는 카드는 4가 된다. <br>\n",
    "N이 주어졌을 때, 제일 마지막에 남게 되는 카드를 구하는 프로그램을 작성하시오.\n",
    "\n",
    "> **입력** <br>\n",
    "첫째 줄에 정수 N(1 ≤ N ≤ 500,000)이 주어진다.\n",
    "\n",
    "\n",
    "> **출력** <br>\n",
    "첫째 줄에 남게 되는 카드의 번호를 출력한다.\n",
    "\n",
    "**예제 입력 1**<br>\n",
    "6\n",
    "\n",
    "**예제 출력 1**<br>\n",
    "4\n",
    "\n",
    "queue"
   ]
  },
  {
   "cell_type": "code",
   "execution_count": 16,
   "id": "8f8bc0b7",
   "metadata": {},
   "outputs": [
    {
     "name": "stdout",
     "output_type": "stream",
     "text": [
      "6\n",
      "4\n"
     ]
    }
   ],
   "source": [
    "# 시간초과...\n",
    "def solve():\n",
    "    n = int(input())\n",
    "    queue = list(range(1,n+1))\n",
    "    while True:\n",
    "        if len(queue) == 1:\n",
    "            print(queue[0])\n",
    "            return\n",
    "        queue.pop(0)\n",
    "        tmp = queue.pop(0)\n",
    "        queue.append(tmp)\n",
    "solve()"
   ]
  },
  {
   "cell_type": "code",
   "execution_count": 24,
   "id": "665ef68a",
   "metadata": {},
   "outputs": [
    {
     "name": "stdout",
     "output_type": "stream",
     "text": [
      "6\n",
      "4\n"
     ]
    }
   ],
   "source": [
    "from collections import deque\n",
    "n = int(input())\n",
    "q = deque()\n",
    "for i in range(1,n+1):\n",
    "    q.append(i)\n",
    "    \n",
    "while(len(q)!=1):\n",
    "    q.popleft() # 제일 위 카드 버리기\n",
    "    q.append(q.popleft()) # 제일 위 카드 아래로 옮기기\n",
    "\n",
    "print(q[0])"
   ]
  },
  {
   "cell_type": "markdown",
   "id": "efc71962",
   "metadata": {},
   "source": [
    "```\n",
    "nlogn -> 시간복잡도\n",
    "입력: 2 출력 : 2\n",
    "입력: 3 출력 : 2\n",
    "입력: 4 출력 : 4\n",
    "입력: 5 출력 : 2\n",
    "입력: 6 출력 : 4\n",
    "입력: 6 출력: 4\n",
    "입력: 7 출력: 6\n",
    "입력: 8 출력: 8\n",
    "입력: 9 출력: 2\n",
    "입력: 10 출력: 4\n",
    "3 => (3 - 2) * 2 = 2\n",
    "4 => (4 - 2) * 2 = 2\n",
    "5 => (5 - 4) * 2 = 2\n",
    "6 => (6 - 4) * 2 = 4\n",
    "7 => (7 - 4) * 2 = 6\n",
    "8 => (8 - 4) * 2 = 8\n",
    "```"
   ]
  },
  {
   "cell_type": "code",
   "execution_count": 19,
   "id": "e887f0fa",
   "metadata": {},
   "outputs": [
    {
     "name": "stdout",
     "output_type": "stream",
     "text": [
      "6\n",
      "4\n"
     ]
    }
   ],
   "source": [
    "import math\n",
    "# 2^n - x => 2^n - 2*x\n",
    "# 2^n - x = a\n",
    "# 2^n = x + a\n",
    "# n = ceil(log2(a))\n",
    "\n",
    "def solve():\n",
    "    a = int(input())\n",
    "    n = math.ceil(math.log2(a))\n",
    "    x = 2**n - a\n",
    "    print(2**n - 2 * x)\n",
    "solve()"
   ]
  },
  {
   "cell_type": "code",
   "execution_count": null,
   "id": "0cbe71fb",
   "metadata": {},
   "outputs": [],
   "source": []
  }
 ],
 "metadata": {
  "kernelspec": {
   "display_name": "Python 3 (ipykernel)",
   "language": "python",
   "name": "python3"
  },
  "language_info": {
   "codemirror_mode": {
    "name": "ipython",
    "version": 3
   },
   "file_extension": ".py",
   "mimetype": "text/x-python",
   "name": "python",
   "nbconvert_exporter": "python",
   "pygments_lexer": "ipython3",
   "version": "3.8.13"
  },
  "toc": {
   "base_numbering": 1,
   "nav_menu": {},
   "number_sections": true,
   "sideBar": true,
   "skip_h1_title": false,
   "title_cell": "Table of Contents",
   "title_sidebar": "Contents",
   "toc_cell": false,
   "toc_position": {},
   "toc_section_display": true,
   "toc_window_display": false
  }
 },
 "nbformat": 4,
 "nbformat_minor": 5
}
