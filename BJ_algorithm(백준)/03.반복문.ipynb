{
 "cells": [
  {
   "cell_type": "markdown",
   "id": "2e3850dd",
   "metadata": {},
   "source": [
    "### 2739 구구단\n",
    "\n",
    "<div class=\"alert alert-block alert-success\">\n",
    "    <b>문제</b>  <br>\n",
    "    N을 입력받은 뒤, 구구단 N단을 출력하는 프로그램을 작성하시오. 출력 형식에 맞춰서 출력하면 된다.\n",
    "</div>"
   ]
  },
  {
   "cell_type": "code",
   "execution_count": 7,
   "id": "36ce18b7",
   "metadata": {},
   "outputs": [
    {
     "name": "stdout",
     "output_type": "stream",
     "text": [
      "2\n",
      "2 * 1 = 2\n",
      "2 * 2 = 4\n",
      "2 * 3 = 6\n",
      "2 * 4 = 8\n",
      "2 * 5 = 10\n",
      "2 * 6 = 12\n",
      "2 * 7 = 14\n",
      "2 * 8 = 16\n",
      "2 * 9 = 18\n"
     ]
    }
   ],
   "source": [
    "N = int(input())\n",
    "for i in range(1,10):\n",
    "    print(f'{N} * {i} = {N*i}')"
   ]
  },
  {
   "cell_type": "markdown",
   "id": "2c2db1d3",
   "metadata": {},
   "source": [
    "### 10950 A+B - 3\n",
    "\n",
    "<div class=\"alert alert-block alert-success\">\n",
    "    <b>문제</b>  <br>\n",
    "    두 정수 A와 B를 입력받은 다음, A+B를 출력하는 프로그램을 작성하시오.\n",
    "</div>\n"
   ]
  },
  {
   "cell_type": "code",
   "execution_count": 4,
   "id": "82d6d8cb",
   "metadata": {},
   "outputs": [
    {
     "name": "stdout",
     "output_type": "stream",
     "text": [
      "2\n",
      "1 1\n",
      "2 3\n",
      "2\n",
      "5\n"
     ]
    }
   ],
   "source": [
    "T = int(input())\n",
    "result = []\n",
    "for _ in range(T):\n",
    "    i,j = map(int, input().split())\n",
    "    result += [i+j]\n",
    "    \n",
    "for z in result:\n",
    "    print(z)"
   ]
  },
  {
   "cell_type": "code",
   "execution_count": 28,
   "id": "06d8e6a6",
   "metadata": {},
   "outputs": [
    {
     "data": {
      "text/plain": [
       "4"
      ]
     },
     "execution_count": 28,
     "metadata": {},
     "output_type": "execute_result"
    }
   ],
   "source": [
    "sum([1,3])"
   ]
  },
  {
   "cell_type": "markdown",
   "id": "7a31fdbc",
   "metadata": {},
   "source": [
    "### 8393 합\n",
    "\n",
    "<div class=\"alert alert-block alert-success\">\n",
    "    <b>문제</b>  <br>\n",
    "    n이 주어졌을 때, 1부터 n까지 합을 구하는 프로그램을 작성하시오.\n",
    "</div>\n",
    "\n",
    "print(n*-~n//2)"
   ]
  },
  {
   "cell_type": "code",
   "execution_count": 34,
   "id": "cd5c4be2",
   "metadata": {},
   "outputs": [
    {
     "name": "stdout",
     "output_type": "stream",
     "text": [
      "3\n",
      "6\n"
     ]
    }
   ],
   "source": [
    "n = int(input())\n",
    "result = 0\n",
    "for i in range(1, n+1):\n",
    "    result += i\n",
    "print(result)\n",
    "\n",
    "# print(n*-~n//2) # ~ 비트 연산, ~x == -x - 1입니다. 따라서 -~x == x + 1"
   ]
  },
  {
   "cell_type": "markdown",
   "id": "9f6157ea",
   "metadata": {},
   "source": [
    "### 15552 빠른 A+B\n",
    "\n",
    "<div class=\"alert alert-block alert-success\">\n",
    "    <b>문제</b>  <br>\n",
    "   본격적으로 for문 문제를 풀기 전에 주의해야 할 점이 있다. 입출력 방식이 느리면 여러 줄을 입력받거나 출력할 때 시간초과가 날 수 있다는 점이다.\n",
    "\n",
    "Python을 사용하고 있다면, input 대신 sys.stdin.readline을 사용할 수 있다. 단, 이때는 맨 끝의 개행문자까지 같이 입력받기 때문에 문자열을 저장하고 싶을 경우 .rstrip()을 추가로 해 주는 것이 좋다.\n",
    "\n",
    "또한 입력과 출력 스트림은 별개이므로, 테스트케이스를 전부 입력받아서 저장한 뒤 전부 출력할 필요는 없다. 테스트케이스를 하나 받은 뒤 하나 출력해도 된다.\n",
    "\n",
    "</div>"
   ]
  },
  {
   "cell_type": "code",
   "execution_count": 19,
   "id": "3011b9c7",
   "metadata": {},
   "outputs": [],
   "source": [
    "# 백준에서는 pypy3,python3 정답임...-> 주피터, 코랩은 오류\n",
    "import sys\n",
    "t = int(sys.stdin.readline())\n",
    "\n",
    "for i in range(t):\n",
    "    a,b = map(int, sys.stdin.readline().split())\n",
    "    print(a+b)"
   ]
  },
  {
   "cell_type": "code",
   "execution_count": 20,
   "id": "621611d2",
   "metadata": {},
   "outputs": [],
   "source": [
    "# import sys\n",
    "# n = int(sys.stdin.readline())\n",
    "# data = [sys.stdin.readline().strip() for i in range(n)]"
   ]
  },
  {
   "cell_type": "markdown",
   "id": "b417d81a",
   "metadata": {},
   "source": [
    "### 2741 N 찍기\n",
    "\n",
    "<div class=\"alert alert-block alert-success\">\n",
    "    <b>문제</b>  <br>\n",
    "   자연수 N이 주어졌을 때, 1부터 N까지 한 줄에 하나씩 출력하는 프로그램을 작성하시오.\n",
    "\n",
    "</div>"
   ]
  },
  {
   "cell_type": "code",
   "execution_count": 27,
   "id": "03c90e84",
   "metadata": {},
   "outputs": [
    {
     "name": "stdout",
     "output_type": "stream",
     "text": [
      "5\n",
      "1\n",
      "2\n",
      "3\n",
      "4\n",
      "5\n"
     ]
    },
    {
     "data": {
      "text/plain": [
       "[None, None, None, None, None]"
      ]
     },
     "execution_count": 27,
     "metadata": {},
     "output_type": "execute_result"
    }
   ],
   "source": [
    "n = int(input())\n",
    "[print(i) for i in range(1,n+1)]\n",
    "\n",
    "# [print(i) for i in range(1,int(input())+1)]\n",
    "# for i in range(1,int(input())+1):print(i)"
   ]
  },
  {
   "cell_type": "markdown",
   "id": "3ce5d4b6",
   "metadata": {},
   "source": [
    "### 2742 기찍 N \n",
    "\n",
    "<div class=\"alert alert-block alert-success\">\n",
    "    <b>문제</b>  <br>\n",
    "   자연수 N이 주어졌을 때, N부터 1까지 한 줄에 하나씩 출력하는 프로그램을 작성하시오.\n",
    "</div>"
   ]
  },
  {
   "cell_type": "code",
   "execution_count": 41,
   "id": "017747e9",
   "metadata": {},
   "outputs": [
    {
     "name": "stdout",
     "output_type": "stream",
     "text": [
      "2\n",
      "2\n",
      "1\n",
      "\n",
      "2\n",
      "2\n",
      "1\n"
     ]
    }
   ],
   "source": [
    "[print(i) for i in range(int(input()),0,-1)]\n",
    "print()\n",
    "for i in range(int(input()),0,-1):print(i)"
   ]
  },
  {
   "cell_type": "markdown",
   "id": "43cdb1cb",
   "metadata": {},
   "source": [
    "### 11021 A+B - 7\n",
    "\n",
    "<div class=\"alert alert-block alert-success\">\n",
    "    <b>문제</b>  <br>\n",
    "두 정수 A와 B를 입력받은 다음, A+B를 출력하는 프로그램을 작성하시오.</div>"
   ]
  },
  {
   "cell_type": "code",
   "execution_count": 64,
   "id": "362d63a1",
   "metadata": {},
   "outputs": [
    {
     "name": "stdout",
     "output_type": "stream",
     "text": [
      "5\n",
      "1 1\n",
      "2 3\n",
      "3 4\n",
      "9 8\n",
      "5 2\n",
      "Case #1: 2\n",
      "Case #2: 5\n",
      "Case #3: 7\n",
      "Case #4: 17\n",
      "Case #5: 7\n"
     ]
    }
   ],
   "source": [
    "T = int(input())\n",
    "result = []\n",
    "for n in range(1,T+1):\n",
    "    i,j = map(int, input().split())\n",
    "    result += [i + j]\n",
    "\n",
    "for i,z in enumerate(result):\n",
    "    print(f'Case #{i+1}: {z}')"
   ]
  },
  {
   "cell_type": "code",
   "execution_count": null,
   "id": "f32ebd62",
   "metadata": {},
   "outputs": [],
   "source": [
    "# 백준 코드\n",
    "# import sys\n",
    "# t = int(sys.stdin.readline())\n",
    "# for i in range(t):\n",
    "#     a,b = map(int, sys.stdin.readline().split())\n",
    "#     print(f'Case #{i+1}: {a+b}')"
   ]
  },
  {
   "cell_type": "markdown",
   "id": "6215e9c0",
   "metadata": {},
   "source": [
    "### 11022  A + B - 8\n",
    "\n",
    "<div class=\"alert alert-block alert-success\">\n",
    "    <b>문제</b>  <br>\n",
    " 두 정수 A와 B를 입력받은 다음, A+B를 출력하는 프로그램을 작성하시오.\n"
   ]
  },
  {
   "cell_type": "code",
   "execution_count": 3,
   "id": "7fe5a7cf",
   "metadata": {},
   "outputs": [
    {
     "name": "stdout",
     "output_type": "stream",
     "text": [
      "5\n",
      "1 1\n",
      "Case #1: 1 + 1 = 2\n",
      "2 3\n",
      "Case #2: 2 + 3 = 5\n",
      "3 4\n",
      "Case #3: 3 + 4 = 7\n",
      "9 8\n",
      "Case #4: 9 + 8 = 17\n",
      "5 2\n",
      "Case #5: 5 + 2 = 7\n"
     ]
    }
   ],
   "source": [
    "n = int(input())\n",
    "for i in range(n):\n",
    "    a,b = map(int, input().split())\n",
    "    print(f'Case #{i+1}: {a} + {b} = {a+b}')\n",
    "\n",
    "# import sys\n",
    "# t = int(sys.stdin.readline())\n",
    "# for i in range(t):\n",
    "#     a,b = map(int, sys.stdin.readline().split())\n",
    "#     print(f'Case #{i+1} + {b} = {a+b}')\n",
    "\n",
    "# i=0\n",
    "# for a,_,c,_ in[*open(0)][1:]:i+=1;print(f'Case #{i}:',a,'+',c,'=',int(a)+int(c))"
   ]
  },
  {
   "cell_type": "markdown",
   "id": "200dd6f1",
   "metadata": {},
   "source": [
    "### 2438  별 찍기 - 1\n",
    "\n",
    "<div class=\"alert alert-block alert-success\">\n",
    "    <b>문제</b>  <br>\n",
    "첫째 줄에는 별 1개, 둘째 줄에는 별 2개, N번째 줄에는 별 N개를 찍는 문제\n",
    "\n",
    "하지만, 오른쪽을 기준으로 정렬한 별(예제 참고)을 출력하시오\n"
   ]
  },
  {
   "cell_type": "code",
   "execution_count": 4,
   "id": "31c6bf33",
   "metadata": {},
   "outputs": [
    {
     "name": "stdout",
     "output_type": "stream",
     "text": [
      "5\n",
      "*\n",
      "**\n",
      "***\n",
      "****\n",
      "*****\n"
     ]
    },
    {
     "data": {
      "text/plain": [
       "[None, None, None, None, None]"
      ]
     },
     "execution_count": 4,
     "metadata": {},
     "output_type": "execute_result"
    }
   ],
   "source": [
    "[print('*'*i) for i in range(1,int(input())+1)]\n",
    "\n",
    "# for i in range(int(input())):print('*'*-~i)"
   ]
  },
  {
   "cell_type": "markdown",
   "id": "81793ddf",
   "metadata": {},
   "source": [
    "### 2439  별 찍기 - 2\n",
    "\n",
    "<div class=\"alert alert-block alert-success\">\n",
    "    <b>문제</b>  <br>\n",
    "첫째 줄에는 별 1개, 둘째 줄에는 별 2개, N번째 줄에는 별 N개를 찍는 문제\n",
    "\n",
    "하지만, 오른쪽을 기준으로 정렬한 별(예제 참고)을 출력하시오\n"
   ]
  },
  {
   "cell_type": "code",
   "execution_count": 5,
   "id": "3154164c",
   "metadata": {},
   "outputs": [
    {
     "name": "stdout",
     "output_type": "stream",
     "text": [
      "5\n",
      "    *\n",
      "   **\n",
      "  ***\n",
      " ****\n",
      "*****\n"
     ]
    },
    {
     "data": {
      "text/plain": [
       "[None, None, None, None, None]"
      ]
     },
     "execution_count": 5,
     "metadata": {},
     "output_type": "execute_result"
    }
   ],
   "source": [
    "n = int(input())\n",
    "[print(' '*(n-i)+'*'*i) for i in range(1,n+1)]\n",
    "\n",
    "# i,n=0,int(input())\n",
    "# while n-i:i+=1;print(f'{\"*\"*i:>{n}}')"
   ]
  },
  {
   "cell_type": "markdown",
   "id": "2405777e",
   "metadata": {},
   "source": [
    "### 10871 X보다 작은 수\n",
    "\n",
    "<div class=\"alert alert-block alert-success\">\n",
    "    <b>문제</b>  <br>\n",
    "정수 N개로 이루어진 수열 A와 정수 X가 주어진다. 이때, A에서 X보다 작은 수를 모두 출력하는 프로그램을 작성하시오."
   ]
  },
  {
   "cell_type": "code",
   "execution_count": 7,
   "id": "5bac8c95",
   "metadata": {},
   "outputs": [
    {
     "name": "stdout",
     "output_type": "stream",
     "text": [
      "10 5\n",
      "1 10 4 9 2 3 8 5 7 6\n",
      "1 4 2 3 "
     ]
    }
   ],
   "source": [
    "a,b = map(int, input().split())\n",
    "c = list(map(int,input().split()))\n",
    "for i in range(a):\n",
    "    if c[i] < b:\n",
    "        print(c[i],end=' ')\n",
    "\n",
    "# [print(c[i], end = ' ') for i in range(a) if c[i] < b]\n",
    "\n",
    "# n,x,*a=map(int,open(0).read().split())\n",
    "# for i in a:i<x!=print(i)"
   ]
  },
  {
   "cell_type": "code",
   "execution_count": null,
   "id": "a6808900",
   "metadata": {},
   "outputs": [],
   "source": []
  }
 ],
 "metadata": {
  "kernelspec": {
   "display_name": "Python 3 (ipykernel)",
   "language": "python",
   "name": "python3"
  },
  "language_info": {
   "codemirror_mode": {
    "name": "ipython",
    "version": 3
   },
   "file_extension": ".py",
   "mimetype": "text/x-python",
   "name": "python",
   "nbconvert_exporter": "python",
   "pygments_lexer": "ipython3",
   "version": "3.8.13"
  }
 },
 "nbformat": 4,
 "nbformat_minor": 5
}
