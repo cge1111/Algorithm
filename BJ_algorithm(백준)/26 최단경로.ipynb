{
 "cells": [
  {
   "cell_type": "markdown",
   "id": "416fad97",
   "metadata": {},
   "source": [
    "## [1753](https://www.acmicpc.net/problem/1753) 최단경로\n",
    "\n",
    "> **문제** <br>\n",
    "방향그래프가 주어지면 주어진 시작점에서 다른 모든 정점으로의 최단 경로를 구하는 프로그램을 작성하시오. 단, 모든 간선의 가중치는 10 이하의 자연수이다.\n",
    "\n",
    "> **입력** <br>\n",
    "첫째 줄에 정점의 개수 V와 간선의 개수 E가 주어진다. (1 ≤ V ≤ 20,000, 1 ≤ E ≤ 300,000) 모든 정점에는 1부터 V까지 번호가 매겨져 있다고 가정한다. 둘째 줄에는 시작 정점의 번호 K(1 ≤ K ≤ V)가 주어진다. 셋째 줄부터 E개의 줄에 걸쳐 각 간선을 나타내는 세 개의 정수 (u, v, w)가 순서대로 주어진다. 이는 u에서 v로 가는 가중치 w인 간선이 존재한다는 뜻이다. u와 v는 서로 다르며 w는 10 이하의 자연수이다. 서로 다른 두 정점 사이에 여러 개의 간선이 존재할 수도 있음에 유의한다.\n",
    "\n",
    "\n",
    "> **출력** <br>\n",
    "첫째 줄부터 V개의 줄에 걸쳐, i번째 줄에 i번 정점으로의 최단 경로의 경로값을 출력한다. 시작점 자신은 0으로 출력하고, 경로가 존재하지 않는 경우에는 INF를 출력하면 된다.\n",
    "\n",
    "**예제 입력 1**<br>\n",
    "\n",
    "```\n",
    "5 6\n",
    "1\n",
    "5 1 1\n",
    "1 2 2\n",
    "1 3 3\n",
    "2 3 4\n",
    "2 4 5\n",
    "3 4 6\n",
    "```\n",
    "\n",
    "**예제 출력 1**<br>\n",
    "```\n",
    "0\n",
    "2\n",
    "3\n",
    "7\n",
    "INF\n",
    "```"
   ]
  },
  {
   "cell_type": "code",
   "execution_count": 1,
   "id": "97c33ef4",
   "metadata": {
    "ExecuteTime": {
     "end_time": "2022-09-13T04:29:13.167792Z",
     "start_time": "2022-09-13T04:28:43.562860Z"
    }
   },
   "outputs": [
    {
     "name": "stdout",
     "output_type": "stream",
     "text": [
      "5 6\n",
      "1\n",
      "5 1 1\n",
      "1 2 2 \n",
      "1 3 3 \n",
      "2 3 4 \n",
      "2 4 5 \n",
      "3 4 6\n",
      "0\n",
      "2\n",
      "3\n",
      "7\n",
      "INF\n"
     ]
    }
   ],
   "source": [
    "# import sys\n",
    "# input = sys.stdin.readline\n",
    "# sys.setrecursionlimit(10**6)\n",
    "\n",
    "import heapq\n",
    "\n",
    "# 정점의 개수 v, 간선의 개수 e\n",
    "V, E = map(int, input().split())\n",
    "\n",
    "# 시작 정점의 번호\n",
    "n = int(input())\n",
    "\n",
    "# 무한을 의미하는 INF\n",
    "INF = int(1e9)\n",
    "\n",
    "# 그래프 초기화\n",
    "graph = [[] * (V+1) for _ in range(V+1)]\n",
    "# 최단 거리 테이블을 모두 무한으로 초기화\n",
    "distance = [INF] * (V+1)\n",
    "\n",
    "# 간선 정보 입력\n",
    "for _ in range(E):\n",
    "    u, v, m = map(int, input().split())\n",
    "    # a->b가 c비용\n",
    "    graph[u].append((v, m))\n",
    "\n",
    "\n",
    "def dijkstra(start):\n",
    "    q = []\n",
    "    # 시작 노드로 가기 위한 최단 경로는 0으로 설정하여, 큐에 삽입\n",
    "    heapq.heappush(q, (0, start))\n",
    "    distance[start] = 0\n",
    "\n",
    "    while q:\n",
    "        # 가장 최단 거리가 짧은 노드에 대한 정보 꺼내기\n",
    "        dist, now = heapq.heappop(q)\n",
    "        # 현재 노드가 이미 처리된 적이 있는 노드라면 무시\n",
    "        if distance[now] < dist:\n",
    "            continue\n",
    "        # 현재 노드와 연결된 다른 인접한 노드들을 확인\n",
    "        for i in graph[now]:\n",
    "            cost = dist + i[1]\n",
    "            # 현재 노드를 거쳐서, 다른 노드로 이동하는 거리가 더 짧은 경우\n",
    "            if cost < distance[i[0]]:\n",
    "                distance[i[0]] = cost\n",
    "                heapq.heappush(q, (cost, i[0]))\n",
    "\n",
    "# 다익스트라 알고리즘을 수행\n",
    "dijkstra(n)\n",
    "\n",
    "# 모든 노드로 가기 위한 최단 거리를 출력\n",
    "for i in range(1, V+1):\n",
    "    if distance[i] == INF:\n",
    "        print(\"INF\")\n",
    "    else:\n",
    "        print(distance[i])"
   ]
  },
  {
   "cell_type": "code",
   "execution_count": null,
   "id": "18eba0e7",
   "metadata": {},
   "outputs": [],
   "source": []
  }
 ],
 "metadata": {
  "kernelspec": {
   "display_name": "Python 3 (ipykernel)",
   "language": "python",
   "name": "python3"
  },
  "language_info": {
   "codemirror_mode": {
    "name": "ipython",
    "version": 3
   },
   "file_extension": ".py",
   "mimetype": "text/x-python",
   "name": "python",
   "nbconvert_exporter": "python",
   "pygments_lexer": "ipython3",
   "version": "3.8.13"
  },
  "toc": {
   "base_numbering": 1,
   "nav_menu": {},
   "number_sections": true,
   "sideBar": true,
   "skip_h1_title": false,
   "title_cell": "Table of Contents",
   "title_sidebar": "Contents",
   "toc_cell": false,
   "toc_position": {},
   "toc_section_display": true,
   "toc_window_display": false
  }
 },
 "nbformat": 4,
 "nbformat_minor": 5
}
