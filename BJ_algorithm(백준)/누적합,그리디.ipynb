{
 "cells": [
  {
   "cell_type": "markdown",
   "id": "cc79dcb1",
   "metadata": {},
   "source": [
    "\n",
    "\n",
    "## 10986번 나머지 합\n",
    "\n",
    "> **문제** <br>\n",
    "수 N개 A1, A2, ..., AN이 주어진다. 이때, 연속된 부분 구간의 합이 M으로 나누어 떨어지는 구간의 개수를 구하는 프로그램을 작성하시오.\n",
    "<br>\n",
    "즉, Ai + ... + Aj (i ≤ j) 의 합이 M으로 나누어 떨어지는 (i, j) 쌍의 개수를 구해야 한다.\n",
    "\n",
    "> **입력** <br>\n",
    "첫째 줄에 N과 M이 주어진다. (1 ≤ N ≤ 106, 2 ≤ M ≤ 103)\n",
    "<br>\n",
    "둘째 줄에 N개의 수 A1, A2, ..., AN이 주어진다. (0 ≤ Ai ≤ 109)\n",
    "\n",
    "> **출력** <br>\n",
    "첫째 줄에 연속된 부분 구간의 합이 M으로 나누어 떨어지는 구간의 개수를 출력한다.\n",
    "\n",
    "**예제 입력 1**<br>\n",
    "5 3<br>\n",
    "1 2 3 1 2\n",
    "\n",
    "**예제 출력 1**<br>\n",
    "7\n"
   ]
  },
  {
   "cell_type": "markdown",
   "id": "6f771fb1",
   "metadata": {},
   "source": [
    "1. 누적 합(p_sum)을 구한다.\n",
    "2. 누적 합을 m으로 나눈 나머지가 같은 것끼리 분류한다.\n",
    "3. 누적 합의 나머지가 같은 것들 중에서 2개를 조합한다. 이 때 뽑힌 누적합 인덱스를 각각 i와 j라고 하겠다.\n",
    "4. i + 1부터 j까지 구간의 구간합(j번째 누적합 - i번째 누적합)은 m으로 나누어 떨어진다.<br>(PrefixSum[j] % m = PrefixSum[i] % m 도 만족)\n",
    "5. 단, 누적 합의 나머지의 값이 0인 원소들은 혼자만으로도 정답이 된다."
   ]
  },
  {
   "cell_type": "code",
   "execution_count": 17,
   "id": "a39d873b",
   "metadata": {},
   "outputs": [
    {
     "name": "stdout",
     "output_type": "stream",
     "text": [
      "5 3\n",
      "1 2 3 1 2\n",
      "[1, 2, 3, 1, 2, 0]\n",
      "[1, 3, 3, 1, 2, 0]\n",
      "[1, 3, 6, 1, 2, 0]\n",
      "[1, 3, 6, 7, 2, 0]\n",
      "[1, 3, 6, 7, 9, 0]\n",
      "3 6\n",
      "2 7\n",
      "0 7\n",
      "7\n"
     ]
    }
   ],
   "source": [
    "# 구글링\n",
    "n, m = list(map(int,input().split()))\n",
    "an = list(map(int, input().split())) + [0]\n",
    "cnt = [0]*m\n",
    "\n",
    "# 누적합(p_sum)\n",
    "for i in range(n):\n",
    "    an[i] += an[i-1]\n",
    "    cnt[an[i] % m] += 1\n",
    "    print(an)\n",
    "      \n",
    "ans = cnt[0] #  Cnt[] 배열에 Sum[] 값이 몇 개 있는지 저장(total:3)\n",
    "\n",
    "# 조합론(해당하는 같은 나머지 2개를 뽑아서 더함): nC2\n",
    "for j in cnt:\n",
    "    ans += j*(j-1) // 2\n",
    "    print(j, ans)\n",
    "    \n",
    "print(ans)"
   ]
  },
  {
   "cell_type": "markdown",
   "id": "fbef5c18",
   "metadata": {},
   "source": [
    " \n",
    "## 1541번 잃어버린 괄호\n",
    "\n",
    "\n",
    "> **문제** <br>\n",
    "세준이는 양수와 +, -, 그리고 괄호를 가지고 식을 만들었다. 그리고 나서 세준이는 괄호를 모두 지웠다.\n",
    "<br>\n",
    "그리고 나서 세준이는 괄호를 적절히 쳐서 이 식의 값을 최소로 만들려고 한다.\n",
    "<br>\n",
    "괄호를 적절히 쳐서 이 식의 값을 **최소**로 만드는 프로그램을 작성하시오. -> **greedy**\n",
    "\n",
    "> **입력** <br>\n",
    "첫째 줄에 식이 주어진다. 식은 ‘0’~‘9’, ‘+’, 그리고 ‘-’만으로 이루어져 있고, 가장 처음과 마지막 문자는 숫자이다. 그리고 연속해서 두 개 이상의 연산자가 나타나지 않고, 5자리보다 많이 연속되는 숫자는 없다. 수는 0으로 시작할 수 있다. 입력으로 주어지는 식의 길이는 50보다 작거나 같다.\n",
    "\n",
    "> **출력** <br>\n",
    "첫째 줄에 정답을 출력한다.\n",
    "\n",
    "**예제 입력 1**<br>\n",
    "55-50+40\n",
    "\n",
    "**예제 출력 1**<br>\n",
    "-35\n",
    "\n",
    "**예제 입력 2**<br>\n",
    "10+20+30+40\n",
    "\n",
    "**예제 출력 2**<br>\n",
    "100\n",
    "\n",
    "**예제 입력 3**<br>\n",
    "00009-00009\n",
    "\n",
    "**예제 출력 3**<br>\n",
    "0"
   ]
  },
  {
   "cell_type": "markdown",
   "id": "2a679d1a",
   "metadata": {},
   "source": [
    "최소값을 구하기 위해 '-'기준으로 괄호해줌!"
   ]
  },
  {
   "cell_type": "code",
   "execution_count": 10,
   "id": "6f267c15",
   "metadata": {},
   "outputs": [
    {
     "name": "stdout",
     "output_type": "stream",
     "text": [
      "10+20+30+40\n",
      "100\n"
     ]
    }
   ],
   "source": [
    "n = input().split('-')\n",
    "array = [] # 값을 저장\n",
    "\n",
    "for i in n:\n",
    "    result = 0 \n",
    "    s = i.split('+') # [55] / [50,40]\n",
    "    for j in s:\n",
    "        result += int(j) # 각 원소에 있는 숫자들을 더함\n",
    "    array.append(result) # [55, 90]\n",
    "    \n",
    "a = array[0]\n",
    "\n",
    "for i in range(1,len(array)):\n",
    "    a -= array[i] # 나머지는 뺌\n",
    "print(a)"
   ]
  },
  {
   "cell_type": "code",
   "execution_count": 8,
   "id": "59b646ab",
   "metadata": {},
   "outputs": [
    {
     "name": "stdout",
     "output_type": "stream",
     "text": [
      "55-50+40\n",
      "-35\n"
     ]
    }
   ],
   "source": [
    "a,*b=[sum(map(int,s.split('+')))for s in input().split('-')]\n",
    "print(a-sum(b))"
   ]
  },
  {
   "cell_type": "code",
   "execution_count": null,
   "id": "1018bd41",
   "metadata": {},
   "outputs": [],
   "source": []
  }
 ],
 "metadata": {
  "kernelspec": {
   "display_name": "Python 3 (ipykernel)",
   "language": "python",
   "name": "python3"
  },
  "language_info": {
   "codemirror_mode": {
    "name": "ipython",
    "version": 3
   },
   "file_extension": ".py",
   "mimetype": "text/x-python",
   "name": "python",
   "nbconvert_exporter": "python",
   "pygments_lexer": "ipython3",
   "version": "3.8.13"
  },
  "toc": {
   "base_numbering": 1,
   "nav_menu": {},
   "number_sections": true,
   "sideBar": true,
   "skip_h1_title": false,
   "title_cell": "Table of Contents",
   "title_sidebar": "Contents",
   "toc_cell": false,
   "toc_position": {},
   "toc_section_display": true,
   "toc_window_display": false
  }
 },
 "nbformat": 4,
 "nbformat_minor": 5
}
