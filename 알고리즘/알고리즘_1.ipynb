{
 "cells": [
  {
   "cell_type": "markdown",
   "id": "6651a1ca",
   "metadata": {},
   "source": [
    "### 1. 1부터 10,000까지 8이라는 숫자가 총 몇 번 나오는 가\n",
    "- 1부터 10,000까지 8이라는 숫자가 총 몇 번 나오는 가?\n",
    "- 8이 포함되어 있는 숫자의 갯수를 카운팅하는 것이 아니라 8이라는 숫자를 모두 카운팅 해야한다.\n",
    "(※예를들어 8808은 3, 8888은 4로 카운팅 해야 함)"
   ]
  },
  {
   "cell_type": "code",
   "execution_count": 10,
   "id": "a8980409",
   "metadata": {
    "scrolled": true
   },
   "outputs": [
    {
     "name": "stdout",
     "output_type": "stream",
     "text": [
      "4000\n"
     ]
    }
   ],
   "source": [
    "# [풀이1]\n",
    "str(list(range(1,10001))).count('8')\n",
    "\n",
    "# [풀이2]\n",
    "s = 0                        # 저장할 값                                                                   \n",
    "for i in range(1,10001):    # 1부터 10000까지 반복\n",
    "    s += str(i).count('8')  # i를 문자로 받아서 8을 찾아 갯수를 셈\n",
    "print(s) # s값 출력"
   ]
  },
  {
   "cell_type": "markdown",
   "id": "7df47d7e",
   "metadata": {},
   "source": [
    "### 2. 피보나치 수열\n",
    "- 피보나치 수열이란, 첫 번째 항의 값이 0이고 두 번째 항의 값이 1일 때, 이후의 항들은 이전의 두 항을 더한 값으로 이루어지는 수열을 말한다.\n",
    " 예)0,1,1,2,3,5,8,13\n",
    "- 인풋을 정수 n으로 받았을 때, n이하까지의 피보나치 수열을 출력하는 프로그램을 작성하세요"
   ]
  },
  {
   "cell_type": "code",
   "execution_count": 19,
   "id": "c2680955",
   "metadata": {},
   "outputs": [
    {
     "name": "stdout",
     "output_type": "stream",
     "text": [
      "숫자를 입력하세요:10\n",
      "0,1,1,2,3,5,8"
     ]
    }
   ],
   "source": [
    "n = int(input('숫자를 입력하세요:'))   # 정수 n 입력받음 \n",
    "a = 0; b = 1                           # a는 0, b는 1 초기값 저장\n",
    "print('0', end = '')                   # '0' 출력\n",
    "while b <= n:                         # n이 b보다 크거나 같을 경우까지 반복\n",
    "    print(',%d'%b, end = '')          # ,b값 출력(포매팅)\n",
    "    a,b = b, a + b                   # a는 a에 저장, b는 a+b 저장"
   ]
  },
  {
   "cell_type": "markdown",
   "id": "b76bfbb1",
   "metadata": {},
   "source": [
    "###  3. 홀수와 짝수의 개수를 구하는 func함수\n",
    "[3,4,5,6,7] = 홀수3개,짝수 2개\n",
    " \n",
    " [12,16,22,24,29] = 홀수1개, 짝수 4개\n",
    " \n",
    " [41,43,45,47,49] = 홀수 5개, 짝수0개\n",
    "\n",
    "- 홀수: 2로 나누어 떨어지지 않는 정수\n",
    "- 짝수: 2로 나누어 떨어지는 정수"
   ]
  },
  {
   "cell_type": "code",
   "execution_count": 29,
   "id": "e297811e",
   "metadata": {},
   "outputs": [
    {
     "name": "stdout",
     "output_type": "stream",
     "text": [
      "홀수 3개, 짝수 1개\n",
      "홀수 1개, 짝수 4개\n",
      "홀수 5개, 짝수 0개\n"
     ]
    }
   ],
   "source": [
    "def func(numlist):                               # func함수에 numlist변수 생성\n",
    "    even = 0                                     # 짝수 초기값 0 저장\n",
    "    odd = 0                                      # 홀수 초기값 0 저장\n",
    "    for n in numlist:                           # numlist값을 n번 반복\n",
    "        if (n%2 == 0):                          # 만약 n이 짝수라면\n",
    "            even += 1                           # 짝수에 값 추가 \n",
    "        else:                                   # 아니라면(홀수라면)\n",
    "            odd += 1                            # 홀수에 값 추가\n",
    "    print(f'홀수 {odd}개, 짝수 {even}개')       # 홀수/짝수 갯수 출력\n",
    "    \n",
    "func([3,4,5,7])                                 # 값 확인\n",
    "func([12,16,22,24,29])                          # 값 확인\n",
    "func([41,43,45,47,49])                          # 값 확인"
   ]
  },
  {
   "cell_type": "markdown",
   "id": "77b56b6d",
   "metadata": {},
   "source": [
    "### 4. 3개의 각으로 삼각형의 예각, 직각, 둔각을 구별하는 프로그램을 만들어라.\n",
    "\n",
    "1. [60, 60, 60] = 예각삼각형\n",
    "2. [30, 60, 90] = 직각삼각형\n",
    "3. [20, 40, 120] = 둔각삼각형\n",
    "4. [0, 90, 90] = 삼각형이 아니다\n",
    "5. [60, 70, 80] = 삼각형이 아니다\n",
    "6. [40, 40, 50, 50] = 삼각형이 아니다\n",
    "\n",
    "- 예각삼각형 : 3개의 각이 모두 예각인 삼각형\n",
    "- 직각삼각형 : 1개의 각이 직각인 삼각형\n",
    "- 둔각삼각형 : 1개의 각이 둔각인 삼각형\n",
    "\n",
    "① 각이 3개가 아닐 경우 삼각형이 아니다.\n",
    "\n",
    "② 3개의 각의 합이 180°가 아닐 경우 삼각형이 아니다."
   ]
  },
  {
   "cell_type": "code",
   "execution_count": 17,
   "id": "11c503b1",
   "metadata": {},
   "outputs": [
    {
     "name": "stdout",
     "output_type": "stream",
     "text": [
      "제 1각을 입력하세요: 60\n",
      "제 2각을 입력하세요: 60\n",
      "제 3각을 입력하세요: 60\n",
      "예각삼각형\n",
      "\n"
     ]
    }
   ],
   "source": [
    "def search(x,y,z):\n",
    "    if x == 0 or y == 0 or z == 0 or x + y + z != 180:\n",
    "        print('삼각형이 아니다.')\n",
    "    else:\n",
    "        if max(x,y,z) > 90:\n",
    "            print('둔각삼각형')\n",
    "        elif max(x,y,z) == 90:\n",
    "            print('직각삼각형')\n",
    "        else:\n",
    "            print('예각삼각형')\n",
    "    return ''\n",
    "x = int(input('제 1각을 입력하세요: '))\n",
    "y = int(input('제 2각을 입력하세요: '))\n",
    "z = int(input('제 3각을 입력하세요: '))\n",
    "\n",
    "print(search(x,y,z))\n",
    "\n",
    "# print(search(60, 60, 60))"
   ]
  },
  {
   "cell_type": "markdown",
   "id": "723b149a",
   "metadata": {},
   "source": [
    "### 5. 정수와 소수 구별하기\n",
    "프로그래머 X는 코딩을 하다가 문득, 수학 시간에 배운 정수와 소수를 구별하는 방법을 떠올렸다. 정수와 소수의 차이는 분수로 표현이 되느냐, 되지 않느냐에 따라 차이가 나기도 하며, 또한 파이 등 특정한 값을 나타내는 것에 의하여 소수인지 정수인지 판별이 나게 된다.\n",
    "\n",
    "프로그래머 X는 입력값을 숫자를 입력하거나 문자를 입력하려고 하는데,\n",
    "\n",
    "만약 숫자를 입력하였으면 그것이 정수인지, 소수인지 구별하는 프로그램을 짜보도록 하고,\n",
    "만약 문자를 입력하였으면 숫자가 아니므로 math error를 표시하게 하라.\n",
    "(try, except를 사용, eval 함수 참고)"
   ]
  },
  {
   "cell_type": "code",
   "execution_count": 22,
   "id": "c1201fd2",
   "metadata": {},
   "outputs": [
    {
     "name": "stdout",
     "output_type": "stream",
     "text": [
      "num: ab\n",
      "math error\n"
     ]
    }
   ],
   "source": [
    "try:\n",
    "    x = eval(input('num: '))\n",
    "    if x != int(x):\n",
    "        print(f'{x} 소수입니다.')\n",
    "    else:\n",
    "        print(f'{x} 정수입니다.')\n",
    "except:\n",
    "    print('math error')"
   ]
  },
  {
   "cell_type": "markdown",
   "id": "571e4f68",
   "metadata": {},
   "source": [
    "### 6. 숫자,문자열 구별하기\n",
    "- 문자와 숫자가 섞인 문자열을 입력받을때 구별하여 출력해라\n",
    "\n",
    "input:\n",
    "\n",
    "\"c910m6ia 1ho\"\n",
    "\n",
    "output:\n",
    "\n",
    "str : cma ho\n",
    "\n",
    "int : 91061"
   ]
  },
  {
   "cell_type": "code",
   "execution_count": 40,
   "id": "92e32528",
   "metadata": {},
   "outputs": [
    {
     "name": "stdout",
     "output_type": "stream",
     "text": [
      "4564g434t\n",
      "int: 4564434\n",
      "str: gt\n"
     ]
    }
   ],
   "source": [
    "ints = '';strs =''\n",
    "a = list(input(''))\n",
    "for i in a:\n",
    "    try :\n",
    "        i != int(i)\n",
    "        ints += i\n",
    "    except:\n",
    "        strs += i\n",
    "print(f'int: {ints}')\n",
    "print(f'str: {strs}')"
   ]
  },
  {
   "cell_type": "markdown",
   "id": "aa5c03ad",
   "metadata": {},
   "source": [
    "### 7. 주어진 문자열(공백 없이 쉼표로 구분되어 있음)을 가지고 아래 문제에 대한 프로그램을 작성\n",
    "이유덕,이재영,권종표,이재영,박민호,강상희,이재영,김지완,최승혁,이성연,박영서,박민호,전경헌,송정환,김재성,이유덕,전경헌\n",
    "\n",
    "1. 김씨와 이씨는 각각 몇 명 인가요?\n",
    "2. \"이재영\"이란 이름이 몇 번 반복되나요?\n",
    "3. 중복을 제거한 이름을 출력하세요.\n",
    "4. 중복을 제거한 이름을 오름차순으로 정렬하여 출력하세요."
   ]
  },
  {
   "cell_type": "code",
   "execution_count": 61,
   "id": "09043471",
   "metadata": {},
   "outputs": [
    {
     "name": "stdout",
     "output_type": "stream",
     "text": [
      "이유덕,이재영,권종표,이재영,박민호,강상희,이재영,김지완,최승혁,이성연,박영서,박민호,전경헌,송정환,김재성,이유덕,전경헌\n",
      "김: 2, 이: 6\n"
     ]
    }
   ],
   "source": [
    "# 1. 김씨와 이씨는 각각 몇 명 인가요?\n",
    "n = input('').split(',')\n",
    "k = 0; l = 0\n",
    "for i in n:\n",
    "    if i[0] == '김':\n",
    "        k += 1\n",
    "    elif i[0] == '이':\n",
    "        l += 1\n",
    "        \n",
    "print(f'김: {k}, 이: {l}')"
   ]
  },
  {
   "cell_type": "code",
   "execution_count": 76,
   "id": "151d4c32",
   "metadata": {},
   "outputs": [
    {
     "name": "stdout",
     "output_type": "stream",
     "text": [
      "이재영: 3\n"
     ]
    }
   ],
   "source": [
    "# 2. \"이재영\"이란 이름이 몇 번 반복되나요?\n",
    "i = '이유덕,이재영,권종표,이재영,박민호,강상희,이재영,김지완,최승혁,이성연,박영서,박민호,전경헌,송정환,김재성,이유덕,전경헌'\n",
    "print('이재영: %d' %i.count('이재영'))"
   ]
  },
  {
   "cell_type": "code",
   "execution_count": 83,
   "id": "7b8a9822",
   "metadata": {},
   "outputs": [
    {
     "name": "stdout",
     "output_type": "stream",
     "text": [
      "중복을 제거한 이름: {'최승혁', '이유덕', '김재성', '박민호', '권종표', '박영서', '이성연', '전경헌', '송정환', '강상희', '김지완', '이재영'}\n"
     ]
    }
   ],
   "source": [
    "# 3. 중복을 제거한 이름을 출력하세요.\n",
    "name = '이유덕,이재영,권종표,이재영,박민호,강상희,이재영,김지완,최승혁,이성연,박영서,박민호,전경헌,송정환,김재성,이유덕,전경헌'.split(',')\n",
    "print('중복을 제거한 이름:',set(name))"
   ]
  },
  {
   "cell_type": "code",
   "execution_count": 84,
   "id": "802c8815",
   "metadata": {},
   "outputs": [
    {
     "name": "stdout",
     "output_type": "stream",
     "text": [
      "오름차순 정렬:  ['강상희', '권종표', '김재성', '김지완', '박민호', '박영서', '송정환', '이성연', '이유덕', '이재영', '전경헌', '최승혁']\n"
     ]
    }
   ],
   "source": [
    "# 4. 중복을 제거한 이름을 오름차순으로 정렬하여 출력하세요.\n",
    "name = '이유덕,이재영,권종표,이재영,박민호,강상희,이재영,김지완,최승혁,이성연,박영서,박민호,전경헌,송정환,김재성,이유덕,전경헌'.split(',')\n",
    "print('오름차순 정렬: ', sorted(set(name)))"
   ]
  },
  {
   "cell_type": "code",
   "execution_count": 86,
   "id": "d0eb156d",
   "metadata": {},
   "outputs": [
    {
     "name": "stdout",
     "output_type": "stream",
     "text": [
      "1. 김씨는 2명, 이씨는 6명 입니다.\n",
      "2. 이재영은 3번 반복됩니다.\n",
      "3. 중복을 제외한 이름: ['최승혁', '이유덕', '김재성', '박민호', '권종표', '박영서', '이성연', '전경헌', '송정환', '강상희', '김지완', '이재영']\n",
      "4. 오름차순으로 정렬 :['강상희', '권종표', '김재성', '김지완', '박민호', '박영서', '송정환', '이성연', '이유덕', '이재영', '전경헌', '최승혁']\n"
     ]
    }
   ],
   "source": [
    "name = '이유덕,이재영,권종표,이재영,박민호,강상희,이재영,김지완,최승혁,이성연,박영서,박민호,전경헌,송정환,김재성,이유덕,전경헌'\n",
    "name_list = name.split(\",\")\n",
    "name_set = set(name_list)\n",
    "kim = 0\n",
    "lee = 0\n",
    "\n",
    "for i in name_list:\n",
    "    if i[0] == \"김\":\n",
    "        kim += 1\n",
    "    elif i[0] == \"이\":\n",
    "        lee += 1\n",
    "\n",
    "print(\"1. 김씨는 %s명, 이씨는 %s명 입니다.\" % (kim, lee))\n",
    "print(\"2. 이재영은 %s번 반복됩니다.\" % name_list.count(\"이재영\"))\n",
    "print(\"3. 중복을 제외한 이름: \" + str(list(name_set)) )\n",
    "print(\"4. 오름차순으로 정렬 :\" + str(sorted(name_set)))"
   ]
  },
  {
   "cell_type": "markdown",
   "id": "270fbf68",
   "metadata": {},
   "source": [
    "### 8. 3이 나타나는 시간을 전부 합하면?\n",
    "디지털 시계에 하루동안(00:00~23:59) 3이 표시되는 시간을 초로 환산하면 총 몇 초(second) 일까요?\n",
    "\n",
    "디지털 시계는 하루동안 다음과 같이 시:분(00:00~23:59)으로 표시됩니다.\n",
    "\n",
    "00:00 (60초간 표시됨)\n",
    "\n",
    "00:01 \n",
    "\n",
    "00:02 \n",
    "\n",
    "...\n",
    "\n",
    "23:59"
   ]
  },
  {
   "cell_type": "code",
   "execution_count": 100,
   "id": "60f2a08e",
   "metadata": {},
   "outputs": [
    {
     "name": "stdout",
     "output_type": "stream",
     "text": [
      "3이 나타나는 시간 합: 29700\n"
     ]
    }
   ],
   "source": [
    "sec = 0              # 초의 총합을 저장할 변수\n",
    "for h in range(24): # 시간\n",
    "    for m in range(60): # 분\n",
    "        if '3' in str(h) or '3' in str(m):\n",
    "            sec += 60         # 60초씩 더함\n",
    "print(f'3이 나타나는 시간 합: {sec}')"
   ]
  },
  {
   "cell_type": "markdown",
   "id": "d7e2e210",
   "metadata": {},
   "source": [
    "## **알고리즘 2**"
   ]
  },
  {
   "cell_type": "markdown",
   "id": "f076446f",
   "metadata": {},
   "source": [
    "### 1. 기수 -> 서수\n",
    "기수를 입력하면 영어 서수로 출력하는 함수를 작성하시오."
   ]
  },
  {
   "cell_type": "code",
   "execution_count": 3,
   "id": "06a22119",
   "metadata": {},
   "outputs": [],
   "source": [
    "def num(n):               \n",
    "    if n % 10 == 1 and n % 100 != 11:\n",
    "        return str(n) + 'st'\n",
    "    if n % 10 == 2 and  n % 100 != 12:\n",
    "        return str(n) + 'nd'\n",
    "    if n % 10 == 3 and n % 100 != 13:\n",
    "        return str(n) + 'rd'\n",
    "    \n",
    "    else:\n",
    "        return str(n) + 'th'"
   ]
  },
  {
   "cell_type": "code",
   "execution_count": 6,
   "id": "6be6078b",
   "metadata": {},
   "outputs": [
    {
     "name": "stdout",
     "output_type": "stream",
     "text": [
      "1st\n",
      "23rd\n",
      "12th\n",
      "22nd\n"
     ]
    }
   ],
   "source": [
    "print(num(1))\n",
    "print(num(23))\n",
    "print(num(12))\n",
    "print(num(22))"
   ]
  },
  {
   "cell_type": "markdown",
   "id": "bdd129ed",
   "metadata": {},
   "source": [
    "### 2. 1차원의 점들이 주어졌을 때, 그 중 가장 거리가 짧은 것의 쌍을 출력하는 함수를 작성하시오.\n",
    "(단, 점들의 배열은 모두 정렬되어 있다고 가정한다.)\n",
    "\n",
    "s = [1,3,4,8,13,17,20]\n",
    "\n",
    "(3,4)"
   ]
  },
  {
   "cell_type": "code",
   "execution_count": 8,
   "id": "918844d2",
   "metadata": {},
   "outputs": [
    {
     "name": "stdout",
     "output_type": "stream",
     "text": [
      "(3,4)\n"
     ]
    }
   ],
   "source": [
    "s = [1,3,4,8,13,17,20]   \n",
    "short = s[1] - s[0]   # 기준 길이\n",
    "index = 0 # 결과\n",
    "for i in range(1,len(s)): # s 반복문\n",
    "    if s[i] - s[i-1] < short: # 만약 short보다 작다면\n",
    "        short = s[i] - s[i-1] # short에 길이를 구해 저장\n",
    "        index = i # index에 저장\n",
    "        \n",
    "print(f'({s[index-1]},{s[index]})')  # 결과 출력(해당 길이)"
   ]
  },
  {
   "cell_type": "markdown",
   "id": "20a09a6a",
   "metadata": {},
   "source": [
    "### 3. 모든 짝수 번째 숫자를 '*'로 치한하시오.  isdigit()\n",
    "(홀수 번째 숫자, 또는 짝수 번째 문자를 치환하면 안됩니다.)\n",
    "\n",
    "print(cnvt('57uyft43yut89574389'))\n",
    "\n",
    "5'*'uyft4'*'yut'*'9'*'7'*'39"
   ]
  },
  {
   "cell_type": "code",
   "execution_count": 14,
   "id": "65a67882",
   "metadata": {},
   "outputs": [
    {
     "data": {
      "text/plain": [
       "'5*uyft4*yut*9*7*3*9'"
      ]
     },
     "execution_count": 14,
     "metadata": {},
     "output_type": "execute_result"
    }
   ],
   "source": [
    "def cnvt(n):  # 함수 \n",
    "    l = list((n)) # 하나씩 비교하기 위해 리스트로 변환\n",
    "    for i in range(1,len(n),2): # n을 2씩 더하여 반복 \n",
    "        if l[i].isdigit(): # l[i]자리가 숫자라면\n",
    "            l[i] = '*' # '*' 출력\n",
    "    return ''.join(l) # n값에 조인\n",
    "cnvt('57uyft43yut89574389')         # 결과 출력    "
   ]
  },
  {
   "cell_type": "code",
   "execution_count": 12,
   "id": "87dbe3b6",
   "metadata": {},
   "outputs": [
    {
     "data": {
      "text/plain": [
       "'7y'"
      ]
     },
     "execution_count": 12,
     "metadata": {},
     "output_type": "execute_result"
    }
   ],
   "source": [
    "a = '57uyft43yut89574389'\n",
    "a[1]+a[3]"
   ]
  },
  {
   "cell_type": "markdown",
   "id": "36e37c0f",
   "metadata": {},
   "source": [
    "### ✔ 4. 문자열 압축하기\n",
    "문자열을 입력 받아서, 같은 문자가 연속적으로 반복되는 경우에 그 반복 횟수를 표시하여 문자열을 압축하기\n",
    "\n",
    "입력예시: aaabbcccccca \n",
    "\n",
    "출력예시: a3b2c6d1"
   ]
  },
  {
   "cell_type": "code",
   "execution_count": 1,
   "id": "039bb289",
   "metadata": {},
   "outputs": [
    {
     "name": "stdout",
     "output_type": "stream",
     "text": [
      "a3b2c6a1\n"
     ]
    }
   ],
   "source": [
    "s = \"aaabbcccccca\"  #초기값을 설정합니다.\n",
    "\n",
    "result = s[0] #반복문 실행되는 동안 문자열 형태로 반환되는 결과들을 담을 변수\n",
    "count = 0 #반복되서 나오는 문자 수만큼 카운팅되는 값을 담을 변수\n",
    "\n",
    "for i in s:\n",
    "    if i == result[-1]: #result변수 마지막 문자와 비교합니다. else에서 result변수에 값이 추가되기 때문에 마지막 문자[-1]와 비교.\n",
    "        count += 1\n",
    "    else:\n",
    "        result += str(count) + i #마지막 글자와 i가 다를 경우 카운팅된 값을 문자열 형태로 result 변수 마지막에 추가 해주고 i를 마지막 문자로 추가합니다.\n",
    "        count = 1\n",
    "result += str(count) #결과들이 담긴 변수에 마지막으로 카운팅된 값을 문자열 형태로 추가합니다.\n",
    "\n",
    "print(result)"
   ]
  },
  {
   "cell_type": "markdown",
   "id": "7468abff",
   "metadata": {},
   "source": [
    "### ✔ 5. n의 배수 판정법\n",
    "어떤 수 x와 n이 주어졌을때 조건에 따라 x가 n의 배수인지 판별하는 코드를 작성하라. x는 0 이상의 정수이며 조건에 맞지 않는 입력은 주어지지 않는다. 여기서 하나의 함수인지 여러 함수인지는 본인이 선택하면 된다. 단 절대 산술연산자 중 %와 /는 코드에 없도록 한다. 그리고 divmod() 함수를 쓰는것도 금지한다.\n",
    "\n",
    "n의 종류는 2,3,5,7,11,13이다. 원하는 n만 선택해서 풀 수도 있다."
   ]
  },
  {
   "cell_type": "code",
   "execution_count": 27,
   "id": "e5ea6d9f",
   "metadata": {},
   "outputs": [
    {
     "name": "stdout",
     "output_type": "stream",
     "text": [
      "True\n"
     ]
    },
    {
     "data": {
      "text/plain": [
       "False"
      ]
     },
     "execution_count": 27,
     "metadata": {},
     "output_type": "execute_result"
    }
   ],
   "source": [
    "# 방법1\n",
    "def is_multiple(x, n):\n",
    "    while x >= n : x = x - n\n",
    "    return x == 0\n",
    "print(is_multiple(635,5))    \n",
    "\n",
    "# 방법2\n",
    "f = lambda x, n : x in range(0,x+1, n)\n",
    "f(421,7)"
   ]
  },
  {
   "cell_type": "markdown",
   "id": "e6e7317a",
   "metadata": {},
   "source": [
    "###  ✔ 6. Light More Light\n",
    "우리 학교에는 복도 불을 켜고 끄는 마부(Mabu)라는 사람이 있다. 전구마다 불을 켜고 끄는 스위치가 있다. 불이 꺼져 있을 때 스위치를 누르면 불이 켜지고 다시 스위치를 누르면 불이 꺼진다. 처음에는 모든 전구가 꺼져 있다. 마부라는 사람은 특이한 행동을 한다. 복도에 n개의 전구가 있으면, 복도를 n번 왕복한다. i번째 갈 때 그는 i로 나누어 떨어지는 위치에 있는 스위치(약수)만 누른다. 처음 위치로 돌아올 때는 아무 스위치도 건드리지 않는다. i번째 왕복은 (이런 이상한 행동을 하면서) 복도를 한 번 갔다가 오는 것으로 정의된다. 마지막 전구의 최종 상태를 알아내자. 과연 그 전구는 켜져 있을까 아니면 꺼져 있을까?\n",
    "\n",
    "Input\n",
    "\n",
    "복도에 있는 n번째 전구를 나타내는 숫자가 입력된다. (2^32-1 이하의 정수가 입력된다.) 0은 입력의 끝을 의미하며 그 값은 처리하지 않는다.\n",
    "\n",
    "Output\n",
    "\n",
    "그 전구가 켜져 있으면 \"yes\"를, 꺼져 있으면 \"no\"를 출력한다. 테스트 케이스마다 한 줄에 하나씩 출력한다.\n",
    "\n",
    "Sample Input\n",
    "\n",
    "3\n",
    "6241\n",
    "8191\n",
    "0\n",
    "\n",
    "Sample Output\n",
    "\n",
    "no\n",
    "yes\n",
    "no"
   ]
  },
  {
   "cell_type": "code",
   "execution_count": 2,
   "id": "e2ce28a0",
   "metadata": {},
   "outputs": [
    {
     "name": "stdout",
     "output_type": "stream",
     "text": [
      "3\n",
      "no\n",
      "6241\n",
      "yes\n",
      "8191\n",
      "no\n",
      "0\n"
     ]
    }
   ],
   "source": [
    "while True: \n",
    "    a = input()\n",
    "    if a == '0':\n",
    "        break\n",
    "    f = []\n",
    "    for i in range(1, int(a)+1):\n",
    "        if int(a) % i == 0:\n",
    "            f.append(i)\n",
    "            \n",
    "    d = len(f)\n",
    "    if d%2 == 0:\n",
    "        print('no')\n",
    "    else:\n",
    "        print('yes')"
   ]
  },
  {
   "cell_type": "markdown",
   "id": "2c7a1204",
   "metadata": {},
   "source": [
    "### 7. 아마존 면접 문제\n",
    "다음과 같은 형태의 배열을 [a1, a2, a3, ..., an, b1, b2, b3, ..., bn]\n",
    "\n",
    "다음과 같은 형태로 바꾸시오[a1, b1, a2, b2, ..., an, bn]"
   ]
  },
  {
   "cell_type": "code",
   "execution_count": 10,
   "id": "33cbcef0",
   "metadata": {},
   "outputs": [
    {
     "name": "stdout",
     "output_type": "stream",
     "text": [
      "['a1', 'b1', 'a2', 'b2', 'a3', 'a4', 'an', 'bn']\n"
     ]
    }
   ],
   "source": [
    "a =['a1', 'a2', 'a3','a4','an', 'b1', 'b2', 'bn']\n",
    "for i in range(len(a)):\n",
    "    a.append(a[0][1] + a[0][0])\n",
    "    a.pop(0)\n",
    "a.sort()\n",
    "for i in range(len(a)):\n",
    "    a.append(a[0][1] + a[0][0])\n",
    "    a.pop(0)\n",
    "print(a)"
   ]
  },
  {
   "cell_type": "markdown",
   "id": "68514667",
   "metadata": {},
   "source": [
    "### 8. 변형된 리스트\n",
    "a = [1,2,3,4]\n",
    "\n",
    "b = [a,b,c,d]\n",
    "\n",
    "이런 리스트가 있을 때 [[1,a],[b,2][c,3],[d,4]] 이런식으로 a, b리스트가 번갈아가면서 출력되게 해주세요."
   ]
  },
  {
   "cell_type": "code",
   "execution_count": 5,
   "id": "17785532",
   "metadata": {},
   "outputs": [
    {
     "name": "stdout",
     "output_type": "stream",
     "text": [
      "[[1, 'a'], ['b', 2], [3, 'c'], ['d', 4]]\n"
     ]
    }
   ],
   "source": [
    "a = [1, 2, 3, 4]\n",
    "b = ['a', 'b', 'c', 'd']\n",
    "c=[]\n",
    "for i in range(len(a)):\n",
    "    if i % 2 == 0:\n",
    "        c.append([a[i], b[i]])\n",
    "    else:\n",
    "        c.append([b[i], a[i]])\n",
    "print(c)"
   ]
  },
  {
   "cell_type": "markdown",
   "id": "0cad93c2",
   "metadata": {},
   "source": [
    "### 9. 민규의 악수\n",
    "광장에서 모인 사람들과 악수를 하는 행사가 열렸다.\n",
    "참가자인 민규는 몇명의 사람들과 악수를 한 후 중간에 일이 생겨 집으로 갔다.\n",
    "이 행사에서 진행된 악수는 총 n번이라고 했을 때, 민규는 몇 번의 악수를 하고 집으로 돌아갔을까? 이때 민규를 포함한 행사 참가자는 몇명일까?\n",
    "\n",
    "- 악수는 모두 1대 1로 진행이 된다.\n",
    "- 민규를 제외한 모든 참가자는 자신을 제외한 참가자와 모두 한번씩 악수를 한다.\n",
    "- 같은 상대와 중복된 악수는 카운트 하지 않는다.\n",
    "- 민규를 제외한 참가자는 행사를 모두 마쳣다\n",
    "\n",
    "입력: 행사에서 진행된 악수 횟수 59\n",
    "\n",
    "출력: [민규의 악수횟수, 행사참가자][4,12]"
   ]
  },
  {
   "cell_type": "code",
   "execution_count": 10,
   "id": "617416d9",
   "metadata": {},
   "outputs": [
    {
     "name": "stdout",
     "output_type": "stream",
     "text": [
      "[4, 12]\n"
     ]
    }
   ],
   "source": [
    "def solution(n):\n",
    "    people = 0\n",
    "    total = 0\n",
    "    while True:\n",
    "        total = people*(people - 1)/2\n",
    "        if n < total:\n",
    "            break\n",
    "        people += 1\n",
    "    times = int(people - (total - n) -1)\n",
    "    return [times, people]\n",
    "print(solution(59))"
   ]
  },
  {
   "cell_type": "code",
   "execution_count": null,
   "id": "a596721e",
   "metadata": {},
   "outputs": [],
   "source": []
  }
 ],
 "metadata": {
  "kernelspec": {
   "display_name": "Python 3",
   "language": "python",
   "name": "python3"
  },
  "language_info": {
   "codemirror_mode": {
    "name": "ipython",
    "version": 3
   },
   "file_extension": ".py",
   "mimetype": "text/x-python",
   "name": "python",
   "nbconvert_exporter": "python",
   "pygments_lexer": "ipython3",
   "version": "3.8.8"
  }
 },
 "nbformat": 4,
 "nbformat_minor": 5
}
