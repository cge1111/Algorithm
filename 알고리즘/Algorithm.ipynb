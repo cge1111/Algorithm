{
 "cells": [
  {
   "cell_type": "code",
   "execution_count": 11,
   "metadata": {},
   "outputs": [
    {
     "name": "stdout",
     "output_type": "stream",
     "text": [
      "3번째의 요소가 일치\n"
     ]
    }
   ],
   "source": [
    "# 선형 탐색법의 알고리즘\n",
    "\n",
    "def Lsearch(x, y):\n",
    "    for i in range(len(x)):\n",
    "        if x[i] == y:\n",
    "            return  '%d번째의 요소가 일치' % i # true, i=번째\n",
    "        \n",
    "    return '찾지 못했습니다.' # for문에서 끝남\n",
    "    \n",
    "x = [4,2,3,5,1]\n",
    "y = 5\n",
    "z = Lsearch(x,y)\n",
    "print(z)"
   ]
  },
  {
   "cell_type": "code",
   "execution_count": 15,
   "metadata": {},
   "outputs": [
    {
     "name": "stdout",
     "output_type": "stream",
     "text": [
      "찾지 못했습니다.\n",
      "찾지 못했습니다.\n",
      "찾지 못했습니다.\n",
      "4번째의 요소가 일치.\n",
      "찾지 못했습니다.\n",
      "None\n"
     ]
    }
   ],
   "source": [
    "# 선형 탐색법의 알고리즘  -2\n",
    "\n",
    "def Lsearch(x,y):\n",
    "    for num in range(len(x)):\n",
    "        if x[num] == y:\n",
    "            num += 1\n",
    "            print(str(num) +\"번째의 요소가 일치.\")\n",
    "        else:\n",
    "            print(\"찾지 못했습니다.\")\n",
    "      \n",
    "\n",
    "    \n",
    "x = [4,2,3,5,1]\n",
    "y = 5\n",
    "z = Lsearch(x,y)\n",
    "print(z)"
   ]
  },
  {
   "cell_type": "code",
   "execution_count": 16,
   "metadata": {},
   "outputs": [
    {
     "name": "stdout",
     "output_type": "stream",
     "text": [
      "검색할 데이터를 입력하세요: 17\n",
      "2 번째 데이터와 일치합니다.\n"
     ]
    }
   ],
   "source": [
    "# 이진탐색법 알고리즘\n",
    "\n",
    "def Bsearch(arr, search):                            # 탐색할 범위를 저장하는 변수 head, tail\n",
    "    head = 0\n",
    "    tail = len(arr) -1                               # 리스트 전체를 범위로 탐색 시작(0 ~ len(a)-1)                      \n",
    "    \n",
    "    while head <= tail:                             # 탐색할 범위가 남아 있는 동안 반복\n",
    "        center = round((head + tail) / 2)            # 탐색 범위의 중간 위치\n",
    "        \n",
    "        if arr[center] == search:                    # 발견\n",
    "            print(center,\"번째 데이터와 일치합니다.\")\n",
    "            break;\n",
    "            \n",
    "        elif arr[center] < search:                    # 찾는 값이 더 크면 오른쪽으로 범위를 좁혀 계속 탐색\n",
    "            head = center + 1\n",
    "            \n",
    "        else:                                        # 찾는 값이 더 작으면 왼쪽으로 범위를 좁혀 계속 탐색\n",
    "            tail = center - 1                     \n",
    "            \n",
    "    if head > tail:\n",
    "        print(\"찾지 못했습니다.\")\n",
    "   \n",
    "\n",
    "arr = [11,13,17,19,23,29,31]\n",
    "search = int(input(\"검색할 데이터를 입력하세요: \"))\n",
    "Bsearch(arr,search)"
   ]
  },
  {
   "cell_type": "code",
   "execution_count": 19,
   "metadata": {
    "scrolled": true
   },
   "outputs": [
    {
     "name": "stdout",
     "output_type": "stream",
     "text": [
      "[10, 11, 12, 13, 14]\n"
     ]
    }
   ],
   "source": [
    "# 단순 선택법(선택 정렬)\n",
    "\n",
    "def SSort(arr):\n",
    "    for i in range(len(arr)):\n",
    "        indexMin = i                                      # 임시로 인덱스 0을 최솟값으로 설정\n",
    "        for k in range(i + 1, len(arr)):                 # k <= i+1\n",
    "            if arr[k] < arr[indexMin]:                   # 0번째와 1번째 비교\n",
    "                indexMin = k                             # 1번째가 작으면 1번째를 최소값으로 설정\n",
    "        arr[i], arr[indexMin] = arr[indexMin], arr[i]    # 교환 처리 (자리바꾸기)\n",
    "        \n",
    "    return arr\n",
    "        \n",
    "array = [12,13,11,14,10]\n",
    "print(SSort(array))  # 함수"
   ]
  },
  {
   "cell_type": "code",
   "execution_count": 25,
   "metadata": {},
   "outputs": [
    {
     "name": "stdout",
     "output_type": "stream",
     "text": [
      "[10, 13, 11, 14, 12]\n",
      "[10, 11, 13, 14, 12]\n",
      "[10, 11, 12, 14, 13]\n",
      "[10, 11, 12, 13, 14]\n",
      "[10, 11, 12, 13, 14]\n",
      "[10, 11, 12, 13, 14]\n"
     ]
    }
   ],
   "source": [
    "# 단순 선택법(선택 정렬)  -2\n",
    "\n",
    "array = [12,13,11,14,10]\n",
    "\n",
    "for i in range(len(array)): \n",
    "    w = array[i]                                         # index =0을 w(임시변수)최소값 설정\n",
    "    indexMin = array.index(min(array[i:]))               # array값 중 제일 작은 값(10)을 indexMin설정 \n",
    "    array[i] = array[indexMin]                           # 10(최소값)을 0번째로 이동\n",
    "    array[indexMin] = w                                  # 임시변수에 넣어두었던 값과 교환\n",
    "    \n",
    "    print(array)\n",
    "\n",
    "print(array)"
   ]
  },
  {
   "cell_type": "code",
   "execution_count": 58,
   "metadata": {},
   "outputs": [
    {
     "name": "stdout",
     "output_type": "stream",
     "text": [
      "[3, 1, 4, 2, 5]\n"
     ]
    }
   ],
   "source": [
    "# 단순 교환법(버블 정렬)\n",
    "\n",
    "def Bubble(arr):\n",
    "    for i in range(len(arr)):\n",
    "        for k in range(i, len(arr)):\n",
    "            if arr[i-1] > arr[i]:\n",
    "                arr[i - 1], arr[i] = arr[i], arr[i - 1]\n",
    "                i -= 1\n",
    "        k += 1        \n",
    "    return arr\n",
    "            \n",
    "array = [5,3,4,1,2]\n",
    "print(Bubble(array))"
   ]
  },
  {
   "cell_type": "code",
   "execution_count": null,
   "metadata": {},
   "outputs": [],
   "source": []
  }
 ],
 "metadata": {
  "kernelspec": {
   "display_name": "Python 3",
   "language": "python",
   "name": "python3"
  },
  "language_info": {
   "codemirror_mode": {
    "name": "ipython",
    "version": 3
   },
   "file_extension": ".py",
   "mimetype": "text/x-python",
   "name": "python",
   "nbconvert_exporter": "python",
   "pygments_lexer": "ipython3",
   "version": "3.8.5"
  }
 },
 "nbformat": 4,
 "nbformat_minor": 4
}
