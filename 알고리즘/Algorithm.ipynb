{
 "cells": [
  {
   "cell_type": "code",
   "execution_count": 11,
   "metadata": {},
   "outputs": [
    {
     "name": "stdout",
     "output_type": "stream",
     "text": [
      "3번째의 요소가 일치\n"
     ]
    }
   ],
   "source": [
    "# 선형 탐색법의 알고리즘\n",
    "\n",
    "def Lsearch(x, y):\n",
    "    for i in range(len(x)):\n",
    "        if x[i] == y:\n",
    "            return  '%d번째의 요소가 일치' % i # true, i=번째\n",
    "        \n",
    "    return '찾지 못했습니다.' # for문에서 끝남\n",
    "    \n",
    "x = [4,2,3,5,1]\n",
    "y = 5\n",
    "z = Lsearch(x,y)\n",
    "print(z)"
   ]
  },
  {
   "cell_type": "code",
   "execution_count": 15,
   "metadata": {},
   "outputs": [
    {
     "name": "stdout",
     "output_type": "stream",
     "text": [
      "찾지 못했습니다.\n",
      "찾지 못했습니다.\n",
      "찾지 못했습니다.\n",
      "4번째의 요소가 일치.\n",
      "찾지 못했습니다.\n",
      "None\n"
     ]
    }
   ],
   "source": [
    "# 선형 탐색법의 알고리즘  -2\n",
    "\n",
    "def Lsearch(x,y):\n",
    "    for num in range(len(x)):\n",
    "        if x[num] == y:\n",
    "            num += 1\n",
    "            print(str(num) +\"번째의 요소가 일치.\")\n",
    "        else:\n",
    "            print(\"찾지 못했습니다.\")\n",
    "      \n",
    "\n",
    "    \n",
    "x = [4,2,3,5,1]\n",
    "y = 5\n",
    "z = Lsearch(x,y)\n",
    "print(z)"
   ]
  },
  {
   "cell_type": "code",
   "execution_count": 16,
   "metadata": {},
   "outputs": [
    {
     "name": "stdout",
     "output_type": "stream",
     "text": [
      "검색할 데이터를 입력하세요: 17\n",
      "2 번째 데이터와 일치합니다.\n"
     ]
    }
   ],
   "source": [
    "# 이진탐색법 알고리즘\n",
    "\n",
    "def Bsearch(arr, search):                            # 탐색할 범위를 저장하는 변수 head, tail\n",
    "    head = 0\n",
    "    tail = len(arr) -1                               # 리스트 전체를 범위로 탐색 시작(0 ~ len(a)-1)                      \n",
    "    \n",
    "    while head <= tail:                             # 탐색할 범위가 남아 있는 동안 반복\n",
    "        center = round((head + tail) / 2)            # 탐색 범위의 중간 위치\n",
    "        \n",
    "        if arr[center] == search:                    # 발견\n",
    "            print(center,\"번째 데이터와 일치합니다.\")\n",
    "            break;\n",
    "            \n",
    "        elif arr[center] < search:                    # 찾는 값이 더 크면 오른쪽으로 범위를 좁혀 계속 탐색\n",
    "            head = center + 1\n",
    "            \n",
    "        else:                                        # 찾는 값이 더 작으면 왼쪽으로 범위를 좁혀 계속 탐색\n",
    "            tail = center - 1                     \n",
    "            \n",
    "    if head > tail:\n",
    "        print(\"찾지 못했습니다.\")\n",
    "   \n",
    "\n",
    "arr = [11,13,17,19,23,29,31]\n",
    "search = int(input(\"검색할 데이터를 입력하세요: \"))\n",
    "Bsearch(arr,search)"
   ]
  },
  {
   "cell_type": "code",
   "execution_count": 19,
   "metadata": {
    "scrolled": true
   },
   "outputs": [
    {
     "name": "stdout",
     "output_type": "stream",
     "text": [
      "[10, 11, 12, 13, 14]\n"
     ]
    }
   ],
   "source": [
    "# 단순 선택법(선택 정렬)\n",
    "\n",
    "def SSort(arr):\n",
    "    for i in range(len(arr)):\n",
    "        indexMin = i                                      # 임시로 인덱스 0을 최솟값으로 설정\n",
    "        for k in range(i + 1, len(arr)):                 # k <= i+1\n",
    "            if arr[k] < arr[indexMin]:                   # 0번째와 1번째 비교\n",
    "                indexMin = k                             # 1번째가 작으면 1번째를 최소값으로 설정\n",
    "        arr[i], arr[indexMin] = arr[indexMin], arr[i]    # 교환 처리 (자리바꾸기)\n",
    "        \n",
    "    return arr\n",
    "        \n",
    "array = [12,13,11,14,10]\n",
    "print(SSort(array))  # 함수"
   ]
  },
  {
   "cell_type": "code",
   "execution_count": 25,
   "metadata": {},
   "outputs": [
    {
     "name": "stdout",
     "output_type": "stream",
     "text": [
      "[10, 13, 11, 14, 12]\n",
      "[10, 11, 13, 14, 12]\n",
      "[10, 11, 12, 14, 13]\n",
      "[10, 11, 12, 13, 14]\n",
      "[10, 11, 12, 13, 14]\n",
      "[10, 11, 12, 13, 14]\n"
     ]
    }
   ],
   "source": [
    "# 단순 선택법(선택 정렬)  -2\n",
    "\n",
    "array = [12,13,11,14,10]\n",
    "\n",
    "for i in range(len(array)): \n",
    "    w = array[i]                                         # index =0을 w(임시변수)최소값 설정\n",
    "    indexMin = array.index(min(array[i:]))               # array값 중 제일 작은 값(10)을 indexMin설정 \n",
    "    array[i] = array[indexMin]                           # 10(최소값)을 0번째로 이동\n",
    "    array[indexMin] = w                                  # 임시변수에 넣어두었던 값과 교환\n",
    "    \n",
    "    print(array)\n",
    "\n",
    "print(array)"
   ]
  },
  {
   "cell_type": "code",
   "execution_count": 9,
   "metadata": {},
   "outputs": [
    {
     "name": "stdout",
     "output_type": "stream",
     "text": [
      "[1, 2, 3, 4, 5]\n"
     ]
    }
   ],
   "source": [
    "# 단순 교환법(버블 정렬)\n",
    "\n",
    "def Bubble_sort(arr):\n",
    "    for i in range(len(arr) -1):\n",
    "        for k in range(len(arr)-1):\n",
    "            if arr[k] > arr[k + 1]:\n",
    "                arr[k], arr[k + 1] = arr[k + 1], arr[k]     \n",
    "    return arr\n",
    "            \n",
    "array = [5,3,4,1,2]\n",
    "print(Bubble_sort(array))"
   ]
  },
  {
   "cell_type": "code",
   "execution_count": 10,
   "metadata": {},
   "outputs": [
    {
     "name": "stdout",
     "output_type": "stream",
     "text": [
      "[1, 2, 3, 4, 5]\n"
     ]
    }
   ],
   "source": [
    "# 단순 교환법(버블 정렬) --2 \n",
    "def Bubble_sort(arr):\n",
    "    for i in range(len(arr)):\n",
    "        for k in range(len(arr)-1,i, -1):\n",
    "            if arr[k-1] > arr[k]:\n",
    "                arr[k-1], arr[k] = arr[k], arr[k-1]     \n",
    "    return arr\n",
    "            \n",
    "array = [5,3,4,1,2]\n",
    "print(Bubble_sort(array))"
   ]
  },
  {
   "cell_type": "code",
   "execution_count": null,
   "metadata": {},
   "outputs": [],
   "source": [
    "# 단순 삽입법 "
   ]
  },
  {
   "cell_type": "code",
   "execution_count": 4,
   "metadata": {},
   "outputs": [
    {
     "name": "stdout",
     "output_type": "stream",
     "text": [
      "[8, 1, 9, 12, 25, 31, 32, 98, 102]\n"
     ]
    }
   ],
   "source": [
    "# 퀵 정렬 알고리즘\n",
    "\n",
    "def change(x, i, j):\n",
    "    x[i], x[j] = x[j], x[i]\n",
    "    \n",
    "def Select(x, l, r):\n",
    "    select_val = x[l]\n",
    "    select_idx = l\n",
    "    while l <= r:\n",
    "        while l <= r and x[l] <= select_val:\n",
    "            l += 1\n",
    "        while l <= r and x[l] >= select_val:\n",
    "            r -= 1\n",
    "        if l <= r:\n",
    "            change(x, l, r)\n",
    "            l += 1\n",
    "            r -= 1\n",
    "        change(x, select_idx, r)\n",
    "        return r\n",
    "    \n",
    "def quickSort(x, pivotMethod = Select):\n",
    "    def Qsort(x, first, last):\n",
    "        if first < last:\n",
    "            splitP = pivotMethod(x, first, last)\n",
    "            Qsort(x, first, splitP -1)\n",
    "            Qsort(x, splitP +1, last)\n",
    "    Qsort(x, 0, len(x) -1)\n",
    "    \n",
    "x = [8, 12, 1, 9, 102, 25, 32, 98, 31]\n",
    "quickSort(x)\n",
    "print(x)"
   ]
  },
  {
   "cell_type": "code",
   "execution_count": 2,
   "metadata": {},
   "outputs": [
    {
     "name": "stdout",
     "output_type": "stream",
     "text": [
      "[1, 8, 9, 12, 25, 31, 32, 98, 102]\n"
     ]
    }
   ],
   "source": [
    "# 퀵 정렬 알고리즘 -- 재귀사용\n",
    "\n",
    "def Quick_sort(a):\n",
    "    n =len(a)\n",
    "    if n <= 1:                                       # 리스트가 1개면 정렬하지 않는다.\n",
    "        return a\n",
    "    pivot = a[-1]                                    # 리스트의 마지막을 피벗이라고 구함\n",
    "    g_left = []                                      # 피벗 수보다 작은 수를 담을 리스트\n",
    "    g_right = []                                     # 피벗 수보다 큰 수를 담을 리스트\n",
    "    for i in range(0, n-1):\n",
    "        if a[i] <= pivot:\n",
    "            g_left.append(a[i])                      # 리스트의 수가 피벗보다 작으면 g_left 에 추기\n",
    "        else:\n",
    "            g_right.append(a[i])\n",
    "    return Quick_sort(g_left) + [pivot] + Quick_sort(g_right) # 새로운 리스트를 만듬\n",
    "\n",
    "d = [8, 12, 1, 9, 102, 25, 32, 98, 31]\n",
    "print(Quick_sort(d))"
   ]
  },
  {
   "cell_type": "code",
   "execution_count": 3,
   "metadata": {},
   "outputs": [
    {
     "name": "stdout",
     "output_type": "stream",
     "text": [
      "31는 소수이다.\n"
     ]
    },
    {
     "data": {
      "text/plain": [
       "True"
      ]
     },
     "execution_count": 3,
     "metadata": {},
     "output_type": "execute_result"
    }
   ],
   "source": [
    "# 소수 판별 알고리즘\n",
    "\n",
    "def is_prime(a):\n",
    "    b = range(2, a)   # 2부터 a-1까지 리스트 \n",
    "    c = 0\n",
    "    for i in b:\n",
    "        if a % i == 0:\n",
    "            c += 1\n",
    "    if c > 0:\n",
    "        print(f'{a}는 소수가 아니다.')\n",
    "        d = False\n",
    "    else:\n",
    "        print(f'{a}는 소수이다.')\n",
    "        d = True\n",
    "        \n",
    "    return d\n",
    "            \n",
    "is_prime(31)"
   ]
  },
  {
   "cell_type": "code",
   "execution_count": 5,
   "metadata": {},
   "outputs": [
    {
     "name": "stdout",
     "output_type": "stream",
     "text": [
      "1는 소수이다.\n",
      "2는 소수이다.\n",
      "3는 소수이다.\n",
      "4는 소수가 아니다.\n",
      "5는 소수이다.\n",
      "6는 소수가 아니다.\n",
      "7는 소수이다.\n",
      "8는 소수가 아니다.\n",
      "9는 소수가 아니다.\n",
      "10는 소수가 아니다.\n",
      "11는 소수이다.\n",
      "12는 소수가 아니다.\n",
      "13는 소수이다.\n",
      "14는 소수가 아니다.\n",
      "15는 소수가 아니다.\n",
      "16는 소수가 아니다.\n",
      "17는 소수이다.\n",
      "18는 소수가 아니다.\n",
      "19는 소수이다.\n",
      "20는 소수가 아니다.\n",
      "21는 소수가 아니다.\n",
      "22는 소수가 아니다.\n",
      "23는 소수이다.\n",
      "24는 소수가 아니다.\n",
      "25는 소수가 아니다.\n",
      "26는 소수가 아니다.\n",
      "27는 소수가 아니다.\n",
      "28는 소수가 아니다.\n",
      "29는 소수이다.\n",
      "30는 소수가 아니다.\n",
      "31는 소수이다.\n",
      "32는 소수가 아니다.\n",
      "33는 소수가 아니다.\n",
      "34는 소수가 아니다.\n",
      "35는 소수가 아니다.\n",
      "36는 소수가 아니다.\n",
      "37는 소수이다.\n",
      "38는 소수가 아니다.\n",
      "39는 소수가 아니다.\n",
      "40는 소수가 아니다.\n",
      "41는 소수이다.\n",
      "42는 소수가 아니다.\n",
      "43는 소수이다.\n",
      "44는 소수가 아니다.\n",
      "45는 소수가 아니다.\n",
      "46는 소수가 아니다.\n",
      "47는 소수이다.\n",
      "48는 소수가 아니다.\n",
      "49는 소수가 아니다.\n",
      "50는 소수가 아니다.\n",
      "51는 소수가 아니다.\n",
      "52는 소수가 아니다.\n",
      "53는 소수이다.\n",
      "54는 소수가 아니다.\n",
      "55는 소수가 아니다.\n",
      "56는 소수가 아니다.\n",
      "57는 소수가 아니다.\n",
      "58는 소수가 아니다.\n",
      "59는 소수이다.\n",
      "60는 소수가 아니다.\n",
      "61는 소수이다.\n",
      "62는 소수가 아니다.\n",
      "63는 소수가 아니다.\n",
      "64는 소수가 아니다.\n",
      "65는 소수가 아니다.\n",
      "66는 소수가 아니다.\n",
      "67는 소수이다.\n",
      "68는 소수가 아니다.\n",
      "69는 소수가 아니다.\n",
      "70는 소수가 아니다.\n",
      "71는 소수이다.\n",
      "72는 소수가 아니다.\n",
      "73는 소수이다.\n",
      "74는 소수가 아니다.\n",
      "75는 소수가 아니다.\n",
      "76는 소수가 아니다.\n",
      "77는 소수가 아니다.\n",
      "78는 소수가 아니다.\n",
      "79는 소수이다.\n",
      "80는 소수가 아니다.\n",
      "81는 소수가 아니다.\n",
      "82는 소수가 아니다.\n",
      "83는 소수이다.\n",
      "84는 소수가 아니다.\n",
      "85는 소수가 아니다.\n",
      "86는 소수가 아니다.\n",
      "87는 소수가 아니다.\n",
      "88는 소수가 아니다.\n",
      "89는 소수이다.\n",
      "90는 소수가 아니다.\n",
      "91는 소수가 아니다.\n",
      "92는 소수가 아니다.\n",
      "93는 소수가 아니다.\n",
      "94는 소수가 아니다.\n",
      "95는 소수가 아니다.\n",
      "96는 소수가 아니다.\n",
      "97는 소수이다.\n",
      "98는 소수가 아니다.\n",
      "99는 소수가 아니다.\n",
      "100는 소수가 아니다.\n",
      "[1, 2, 3, 5, 7, 11, 13, 17, 19, 23, 29, 31, 37, 41, 43, 47, 53, 59, 61, 67, 71, 73, 79, 83, 89, 97]\n"
     ]
    }
   ],
   "source": [
    "# n이하의 수들 중 소수를 찾는 코드\n",
    "\n",
    "a = range(1,101)                       # 100까지니 101로 수정\n",
    "prime_numbers = []                     # 소수 list를 공집합으로 우선 만들고\n",
    "for i in a:                           # 1부터 100까지 중,\n",
    "    c = is_prime(i)                    # i가 소수이면 c는 True, 아니면 False 생성\n",
    "    if c == True:                     # c가 True이면\n",
    "        prime_numbers.append(i)        # b에다가 i를 추가하라        \n",
    "        \n",
    "print(prime_numbers)"
   ]
  },
  {
   "cell_type": "code",
   "execution_count": 12,
   "metadata": {},
   "outputs": [
    {
     "name": "stdout",
     "output_type": "stream",
     "text": [
      "4\n"
     ]
    }
   ],
   "source": [
    "# 에라토스테네스의 체 - 소수를 찾고 싶은 경우 '그 수의 제곱근보다 작은 소수의 배수를 없애면 남은 수가 소수'\n",
    "# n이하의 수중 소수의 개수 찾기\n",
    "\n",
    "def solution(n):\n",
    "    answer = 0   # 갯수 담을 변수\n",
    "    number = []  # n이하의 수중 소수 파악\n",
    "    # ....1 기본 방 설정\n",
    "    for i in range(n+1):\n",
    "        number.append(i)  # n까지의 모든 수를 number 리스트에 담기 [1,2,3,4,5, ... ,n]\n",
    "        \n",
    "    # ...2 소수 찾기 아닌방 -1 넣기\n",
    "    for i in range(2, n+1, 1):     # i = 2\n",
    "        if i == -1:\n",
    "            continue\n",
    "        j = 0                      # i = 2 \n",
    "        for j in range(i+i, n+1, i):  # 2 + 2 즉, 2의배수는 소수가 아니므로 지운다\n",
    "            number[j] = -1   # 소수가 아닌 방에는 -1을 담기 -1은 소수가 아님을 표시\n",
    "\n",
    "    # ...3 -1이 아닌 방의 갯수 세기\n",
    "    for i in range(2, n+1):\n",
    "        if number[i] != -1:\n",
    "            answer += 1\n",
    "            \n",
    "    return answer\n",
    "\n",
    "print(solution(10))"
   ]
  },
  {
   "cell_type": "code",
   "execution_count": 45,
   "metadata": {},
   "outputs": [
    {
     "name": "stdout",
     "output_type": "stream",
     "text": [
      "[2, 3, 5, 7]\n"
     ]
    }
   ],
   "source": [
    "# n이하의 수중 소수 모두 출력   (방 값이 -1은 소수가 아니다.)\n",
    "\n",
    "def solution(n):\n",
    "    answer = []   # 소수 담을 리스트\n",
    "    number = []  # n이하의 수중 소수 파악\n",
    "    # ....1 기본 방 설정\n",
    "    for i in range(n+1):\n",
    "        number.append(i)  # n까지의 모든 수를 number 리스트에 담기 [1,2,3,4,5, ... ,n]\n",
    "        \n",
    "    # ...2 소수 찾기 아닌방 -1 넣기\n",
    "    for i in range(2, n+1, 1):     # i = 2\n",
    "        if i == -1:\n",
    "            continue\n",
    "        j = 0                      # i = 2 \n",
    "        for j in range(i+i, n+1, i):  # 2 + 2 즉, 2의배수는 소수가 아니므로 지운다\n",
    "            number[j] = -1   # 소수가 아닌 방에는 -1을 담기 -1은 소수가 아님을 표시\n",
    "\n",
    "    # ...3 -1이 아닌 방의 갯수 세기\n",
    "    for i in range(2, n+1):\n",
    "        if number[i] != -1:  # 값이 -1이 아닌 방 번호가 소수\n",
    "            answer.append(number[i])  # 값을 담을 리스트\n",
    "            \n",
    "    return answer\n",
    "\n",
    "print(solution(10))"
   ]
  },
  {
   "cell_type": "code",
   "execution_count": null,
   "metadata": {},
   "outputs": [],
   "source": []
  }
 ],
 "metadata": {
  "kernelspec": {
   "display_name": "Python 3",
   "language": "python",
   "name": "python3"
  },
  "language_info": {
   "codemirror_mode": {
    "name": "ipython",
    "version": 3
   },
   "file_extension": ".py",
   "mimetype": "text/x-python",
   "name": "python",
   "nbconvert_exporter": "python",
   "pygments_lexer": "ipython3",
   "version": "3.8.5"
  }
 },
 "nbformat": 4,
 "nbformat_minor": 4
}
